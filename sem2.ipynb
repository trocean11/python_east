{
  "nbformat": 4,
  "nbformat_minor": 0,
  "metadata": {
    "colab": {
      "provenance": [],
      "toc_visible": true
    },
    "kernelspec": {
      "name": "python3",
      "display_name": "Python 3"
    },
    "language_info": {
      "name": "python"
    }
  },
  "cells": [
    {
      "cell_type": "markdown",
      "metadata": {
        "id": "35945c35"
      },
      "source": [
        "# Программирование на Python\n",
        "\n",
        "# Циклы `while` и `for`. Списки.\n",
        "\n",
        "*Авторы: Паршина Анастасия, Капустина Лика, Трошин Даниил — НИУ ВШЭ*\n",
        "\n",
        "## Содержание\n",
        "\n",
        "\n",
        "1. [Цикл `while True`](#par1)\n",
        "    1. [Возвращаемся к функции `randrange`](#par1.2)\n",
        "2. [Цикл `while`](#par2)\n",
        "3. [Строки, списки и кортежи](#parlast)\n",
        "    1. [Индексы](#par3.1)\n",
        "    2. [Срезы](#par3.2)\n",
        "4. [Цикл `for`](#par4)\n",
        "    1. [Цикл `for` и функция `range()`](#par4.1)"
      ]
    },
    {
      "cell_type": "markdown",
      "metadata": {
        "id": "f3cc1744"
      },
      "source": [
        "## Цикл `while True` <a name=\"par1\"></a>"
      ]
    },
    {
      "cell_type": "markdown",
      "metadata": {
        "id": "b789e99e"
      },
      "source": [
        "В языке программирования Python есть два основных типа циклов – циклы `while` и `for`. У них немного разные назначения, и о цикле `for` мы поговорим позднее, а цикл `while` разберем сейчас.\n",
        "\n",
        "Как выглядит синтаксис цикла `while`?\n",
        "\n",
        "```\n",
        "while <условие>:\n",
        "    <блок кода, который исполняется, пока выполняется логическое условие выше>\n",
        "```\n",
        "\n",
        "Самая простая версия цикла `while True` выглядит так:\n",
        "```\n",
        "while True:\n",
        "    <блок кода, который выполняется каждую итерацию>\n",
        "    \n",
        "   if <условие для прекращения кода>:\n",
        "       <блок кода, который запускается при завершении цикла>\n",
        "       break\n",
        "```\n",
        "\n",
        "**Разберем на примере**. Напишем программу, которая будет спрашивать у пользователя, готов ли он к выходу на занятия в университет. На каждой итерации цикла программа будет печатать строчку `\"Прошло 5 минут.\"` и спрашивать, готов ли студент выходить.\n",
        "* Если студент вводит `да`, то программа печатает `\"Ура! Мы наконец-то выходим. Поспешим!\"` и **завершает работу цикла**;\n",
        "* Если студент вводит **любое другое значение**, программа печатает `\"Так легко опоздать на пару. Напомню вам про выход через 5 минут\"`."
      ]
    },
    {
      "cell_type": "code",
      "execution_count": null,
      "metadata": {
        "id": "74063208",
        "outputId": "6586cef3-e6cf-4bc6-ef3e-5fb67c4792dc"
      },
      "outputs": [
        {
          "name": "stdout",
          "output_type": "stream",
          "text": [
            "Прошло 5 минут.\n",
            "Введите, готовы ли вы выйти на занятия (да/нет): нет\n",
            "Так легко опоздать на пару. Напомню вам про выход через пять минут.\n",
            "Прошло 5 минут.\n",
            "Введите, готовы ли вы выйти на занятия (да/нет): нет\n",
            "Так легко опоздать на пару. Напомню вам про выход через пять минут.\n",
            "Прошло 5 минут.\n",
            "Введите, готовы ли вы выйти на занятия (да/нет): нет\n",
            "Так легко опоздать на пару. Напомню вам про выход через пять минут.\n",
            "Прошло 5 минут.\n",
            "Введите, готовы ли вы выйти на занятия (да/нет): да\n",
            "Ура! Мы наконец-то выходим. Поспешим!\n"
          ]
        }
      ],
      "source": [
        "while True: # пока не будет прекращен цикл,\n",
        "    # блок кода, который будет исполняться в любом случае\n",
        "    print('Прошло 5 минут.') # печатаем строку\n",
        "    answer = input('Введите, готовы ли вы выйти на занятия (да/нет): ') # запрашиваем у пользователя ответ\n",
        "    if answer == 'да': # если ответ - это \"да\", то:\n",
        "        print('Ура! Мы наконец-то выходим. Поспешим!') # печатаем строку\n",
        "        break # останавливаем цикл с помощью ключевого слова break\n",
        "    else: # если этот ответ не \"да\", то:\n",
        "        print('Так легко опоздать на пару. Напомню вам про выход через пять минут.') # печатаем строку\n",
        "    # и после этого начинается следующая итерация цикла"
      ]
    },
    {
      "cell_type": "markdown",
      "metadata": {
        "id": "98aae941"
      },
      "source": [
        "В рамках работы цикла `while True` вы можете также вести некоторые подсчеты или операции с переменными.\n",
        "\n",
        "**Реализуем ту же самую программу, но добавим подсчет прошедшего времени, используя арифметические операции, которые мы обсудили на первом семинаре:**"
      ]
    },
    {
      "cell_type": "code",
      "execution_count": null,
      "metadata": {
        "id": "7e343a24",
        "outputId": "53c97188-37a0-4a05-9916-87ffb107f434"
      },
      "outputs": [
        {
          "name": "stdout",
          "output_type": "stream",
          "text": [
            "Прошло 5 минут.\n",
            "Введите, готовы ли вы выйти на занятия (да/нет): нет\n",
            "Так легко опоздать на пару. Напомню вам про выход через пять минут.\n",
            "С момента начала сборов прошло 5 минут.\n",
            "Прошло 5 минут.\n",
            "Введите, готовы ли вы выйти на занятия (да/нет): нет\n",
            "Так легко опоздать на пару. Напомню вам про выход через пять минут.\n",
            "С момента начала сборов прошло 10 минут.\n",
            "Прошло 5 минут.\n",
            "Введите, готовы ли вы выйти на занятия (да/нет): да\n",
            "Ура! Мы наконец-то выходим. Поспешим!\n",
            "Вы собирались на пару 15 минут\n"
          ]
        }
      ],
      "source": [
        "minutes = 0 # инициируем переменную, которую будем обновлять\n",
        "\n",
        "while True:\n",
        "    minutes += 5 # обновляем переменную, добавляем к ней 5\n",
        "    print('Прошло 5 минут.') # печатаем строку\n",
        "    answer = input('Введите, готовы ли вы выйти на занятия (да/нет): ') # запрашиваем у пользователя ответ\n",
        "    if answer == 'да': # если ответ - это \"да\", то:\n",
        "        print('Ура! Мы наконец-то выходим. Поспешим!') # печатаем строку\n",
        "        break # останавливаем цикл с помощью ключевого слова break\n",
        "    else: # если введен другой ответ, то:\n",
        "        print('Так легко опоздать на пару. Напомню вам про выход через пять минут.') # печатаем строку\n",
        "    print('С момента начала сборов прошло', minutes, 'минут.') # печатаем сколько минут прошло\n",
        "\n",
        "print('Вы собирались на пару', minutes, 'минут') # печатаем финальную строку сколько минут прошло"
      ]
    },
    {
      "cell_type": "markdown",
      "metadata": {
        "id": "9b990200"
      },
      "source": [
        "Здесь и далее вы можете увидеть ключевое слово `break`. Его использование позволяет прекратить исполнение определенного цикла.\n",
        "\n",
        "Когда вы используете цикл `while True` очень важно не забыть написать условие выхода из цикла, иначе ваш цикл будет *бесконечным*. Лучше не испытывать судьбу и не писать бесконечных циклов.\n",
        "\n",
        "**Hint**: если вы не понимаете, как работают циклы, воспользуйтесь онлайн-визуализаторами кода: они позволяют вам идти по коду шаг за шагом и также пошагово демонстрируют изменения переменных в ходе кода. Вы можете воспользоваться сайтом [pythontutor.com](https://pythontutor.com) или любым другим сайтом."
      ]
    },
    {
      "cell_type": "markdown",
      "metadata": {
        "id": "15cda994"
      },
      "source": [
        "<center><b><font size=4>Задача №1</font></b></center>\n",
        "\n",
        "**Напишите программу, которая будет спрашивать у пользователя числа до момента пока не введено слово \"СТОП\". После того как введено слово \"СТОП\", программа должна вывести сумму этих чисел в формате `Сумма чисел: <число>`**\n",
        "\n",
        "* Гарантируется, что все введенные строки кроме слова \"СТОП\" могут быть преобразованы в целые числа.\n",
        "\n",
        "* В тесте ниже каждое значение вводится на новой итерации цикла (например, в тесте №1 сперва вводится `1`, потом `1`, потом `СТОП`).\n",
        "\n",
        "**Ориентируйтесь на тесты ниже:**\n",
        "<center>\n",
        "    <table>\n",
        "        <tr>\n",
        "            <th>Ввод</th>\n",
        "            <th> Результат </th>\n",
        "        </tr>\n",
        "        <tr><td><p>1</p>\n",
        "            <p>1</p>\n",
        "            <p>СТОП</p>\n",
        "        </td><td>Сумма чисел: 2</td></tr>\n",
        "        <tr><td><p>4</p>\n",
        "            <p>3</p>\n",
        "            <p>3</p>\n",
        "            <p>СТОП</p>\n",
        "        </td><td>Сумма чисел: 10</td></tr>\n",
        "        <tr><td><p>5</p>\n",
        "            <p>15</p>\n",
        "            <p>20</p>\n",
        "            <p>-15</p>\n",
        "            <p>СТОП</p>\n",
        "            </td><td>Сумма чисел: 25</td></tr>\n",
        "    </table>\n",
        "</center>"
      ]
    },
    {
      "cell_type": "code",
      "execution_count": null,
      "metadata": {
        "id": "627179cb"
      },
      "outputs": [],
      "source": [
        "#YOUR CODE HERE"
      ]
    },
    {
      "cell_type": "markdown",
      "metadata": {
        "id": "cedbbb34"
      },
      "source": [
        "Принцип работы циклов `while` и `while True` проще разбирать и понимать на конкретных примерах. Давайте представим следующую ситуацию: вам загадали некоторое число – пусть оно будет в интервале от `0` до `100` – и вам нужно его отгадать. Пока считаем, что количество попыток не ограничено.\n",
        "\n",
        "Число у нас будет загадывать программа, поэтому чуть-чуть отвлечемся на то, как она это сделает. Обратимся к модулю `random` и функции `randrange` в нем.\n",
        "\n",
        "*Да, некоторые функции можно использовать, только предварительно загрузив их из соответствующего модуля (библиотеки). Функции случайного выбора – один из таких примеров.*"
      ]
    },
    {
      "cell_type": "code",
      "execution_count": null,
      "metadata": {
        "id": "ddb77a2b"
      },
      "outputs": [],
      "source": [
        "from random import randrange # из модуля random вытаскиваем функию randrange"
      ]
    },
    {
      "cell_type": "markdown",
      "metadata": {
        "id": "4697c864"
      },
      "source": [
        "После того, как функция была импортирована, мы можем вызвать функцию `help()`, чтобы понять, какие аргументы наша функция хочет получить на вход."
      ]
    },
    {
      "cell_type": "code",
      "execution_count": null,
      "metadata": {
        "id": "92237be9",
        "outputId": "e00bbb84-edfa-4b98-9dd4-cdb283c4086e"
      },
      "outputs": [
        {
          "name": "stdout",
          "output_type": "stream",
          "text": [
            "Help on method randrange in module random:\n",
            "\n",
            "randrange(start, stop=None, step=1) method of random.Random instance\n",
            "    Choose a random item from range(start, stop[, step]).\n",
            "    \n",
            "    This fixes the problem with randint() which includes the\n",
            "    endpoint; in Python this is usually not what you want.\n",
            "\n"
          ]
        }
      ],
      "source": [
        "help(randrange)"
      ]
    },
    {
      "cell_type": "markdown",
      "metadata": {
        "id": "12eba7c4"
      },
      "source": [
        "Видим параметры `start`, `stop` и `step`. Они означают, что мы хотим этой функцией задать некий диапазон значений от точки `start` до точки `stop` (важно!: не включая последнюю). Параметр `step` здесь отвечает за шаг, с которым мы идем (по умолчанию равен 1), и является опциональным (как и в обычной функции `range()`, о ней поговорим уже в следующий раз).\n",
        "\n",
        "К слову, обратите внимание на приписку `This fixes the problem with randint() which includes the endpoint; in Python this is usually not what you want`. Подумайте — зачем она здесь и что может значит?"
      ]
    },
    {
      "cell_type": "markdown",
      "metadata": {
        "id": "98ab5386"
      },
      "source": [
        "### Возвращаемся к функции `randrange` <a name=\"par1.2\"></a>"
      ]
    },
    {
      "cell_type": "markdown",
      "metadata": {
        "id": "45f4e673"
      },
      "source": [
        "Загадаем число от 0 до 100 и сохраним его в переменную `N`."
      ]
    },
    {
      "cell_type": "code",
      "execution_count": null,
      "metadata": {
        "id": "fc51224e",
        "outputId": "8a91dd0c-8c43-4ee7-b787-1cef55b8bdce"
      },
      "outputs": [
        {
          "ename": "NameError",
          "evalue": "name 'randrange' is not defined",
          "output_type": "error",
          "traceback": [
            "\u001b[1;31m---------------------------------------------------------------------------\u001b[0m",
            "\u001b[1;31mNameError\u001b[0m                                 Traceback (most recent call last)",
            "Cell \u001b[1;32mIn[1], line 1\u001b[0m\n\u001b[1;32m----> 1\u001b[0m N \u001b[38;5;241m=\u001b[39m \u001b[43mrandrange\u001b[49m(\u001b[38;5;241m0\u001b[39m, \u001b[38;5;241m101\u001b[39m)\n\u001b[0;32m      2\u001b[0m \u001b[38;5;28mprint\u001b[39m(N)\n",
            "\u001b[1;31mNameError\u001b[0m: name 'randrange' is not defined"
          ]
        }
      ],
      "source": [
        "N = randrange(0, 101)\n",
        "print(N)"
      ]
    },
    {
      "cell_type": "markdown",
      "metadata": {
        "id": "b9d036d9"
      },
      "source": [
        "Я сразу печатаю `N`, чтобы мы число хотя бы знали. Пользователь, очевидно, его знать не будет.  \n",
        "\n",
        "Почему там `101`, а не `100`? Потому что функция не включает последнее значение, значит, если мы хотим, чтобы 100 было включено, то прописываем 101."
      ]
    },
    {
      "cell_type": "markdown",
      "metadata": {
        "id": "b479676d"
      },
      "source": [
        "Запустим цикл `while True`.\n",
        "\n",
        "Цикл `while` буквально расшифровывается `до тех пор, пока условие верно`. Вместо условия у нас здесь `True`, которое всегда верно, значит и цикл будет работать бесконечно, если мы не пропишем условие выхода из него.\n",
        "\n",
        "Мы добрые и напишем программу так, чтобы она давала пользователю подсказки — близко он к загаданному числу или нет.\n",
        "\n",
        "Русский перевод того, что происходит в ячейке ниже:\n",
        "\n",
        "    Запускаем цикл\n",
        "        В переменную guess сохраняем число, которое ввел пользователь\n",
        "        \n",
        "        Если число совпало с загаданным, то\n",
        "            печатаем фразу «Вы выиграли»\n",
        "            и используем break, чтобы завершить работу цикла\n",
        "            \n",
        "        Если число больше загаданного, то\n",
        "            печатаем фразу «Вы ввели слишком большое число»\n",
        "            \n",
        "        Во всех остальных случаях (то есть число меньше загаданного)\n",
        "            печатаем фразу «Вы ввели слишком маленькое число»"
      ]
    },
    {
      "cell_type": "code",
      "execution_count": null,
      "metadata": {
        "id": "f5a12bfc",
        "outputId": "ee49cec1-25c9-4828-dd82-b2544f2b426d"
      },
      "outputs": [
        {
          "name": "stdout",
          "output_type": "stream",
          "text": [
            "Введите число: 30\n",
            "Вы ввели слишком маленькое число\n",
            "Введите число: 70\n",
            "Вы ввели слишком большое число\n",
            "Введите число: 40\n",
            "Вы ввели слишком маленькое число\n",
            "Введите число: 56\n",
            "Вы ввели слишком маленькое число\n",
            "Введите число: 63\n",
            "Вы выиграли\n"
          ]
        }
      ],
      "source": [
        "while True:\n",
        "    guess = int(input('Введите число: '))\n",
        "\n",
        "    if guess == N:\n",
        "        print('Вы выиграли')\n",
        "        break\n",
        "\n",
        "    elif guess > N:\n",
        "        print('Вы ввели слишком большое число')\n",
        "\n",
        "    else:\n",
        "        print('Вы ввели слишком маленькое число')"
      ]
    },
    {
      "cell_type": "markdown",
      "metadata": {
        "id": "35926fab"
      },
      "source": [
        "Обращаем внимание, что цикл остановился, когда мы ввели наше загаданное число (не зря мы его ранее напечатали, а то сейчас угадывали бы очень долго).\n",
        "\n",
        "Но это ситуация, когда у нас количество попыток никак не ограничено. Попробуем реализовать программу для конкретного числа попыток."
      ]
    },
    {
      "cell_type": "markdown",
      "metadata": {
        "id": "fae7e498"
      },
      "source": [
        "## Цикл `while` <a name=\"par2\"></a>"
      ]
    },
    {
      "cell_type": "markdown",
      "metadata": {
        "id": "1a583396"
      },
      "source": [
        "Предположим, что количество попыток задается в переменную `attempt`."
      ]
    },
    {
      "cell_type": "code",
      "execution_count": null,
      "metadata": {
        "id": "cc42c797",
        "outputId": "1b9afa74-a1d4-4a6a-f901-ccdcc3d52fec"
      },
      "outputs": [
        {
          "name": "stdout",
          "output_type": "stream",
          "text": [
            "Введите количество попыток: 4\n",
            "4\n"
          ]
        }
      ],
      "source": [
        "attempt = int(input('Введите количество попыток: '))\n",
        "print(attempt)"
      ]
    },
    {
      "cell_type": "markdown",
      "metadata": {
        "id": "5e351c95"
      },
      "source": [
        "Далее нас интересует фраза «пока количество попыток не закончилось», то есть в нашем случае пока `attempt != 0` <b>принимает значение</b> `True`.\n",
        "\n",
        "По сути, это тот же `while True`, просто в какой-то момент `True` примет значение `False` и цикл работу прекратит.\n",
        "\n",
        "    Запускаем цикл, который работает, пока (attempt != 0) == True\n",
        "        В переменную guess сохраняем число, которое ввел пользователь\n",
        "        \n",
        "        Если число совпало с загаданным, то\n",
        "            печатаем фразу «Вы выиграли»\n",
        "            и используем break, чтобы завершить работу цикла\n",
        "            \n",
        "        Если число больше загаданного, то\n",
        "            печатаем фразу «Вы ввели слишком большое число»\n",
        "            \n",
        "        Во всех остальных случаях (то есть число меньше загаданного)\n",
        "            печатаем фразу «Вы ввели слишком маленькое число»\n",
        "            \n",
        "        ВАЖНО: изменяем значение переменной attempt!\n",
        "        По сути тут у нас закончилась итерация цикла, следовательно, была\n",
        "        израсходована одна попытка => уменьшаем значение переменной на 1"
      ]
    },
    {
      "cell_type": "code",
      "execution_count": null,
      "metadata": {
        "id": "acbcbce8",
        "outputId": "785c73ba-7315-456f-a3bd-b21b7875f61f"
      },
      "outputs": [
        {
          "name": "stdout",
          "output_type": "stream",
          "text": [
            "Введите число: 45\n",
            "Вы ввели слишком маленькое число\n",
            "Осталось попыток: 3\n",
            "Введите число: 23\n",
            "Вы ввели слишком маленькое число\n",
            "Осталось попыток: 2\n",
            "Введите число: 87\n",
            "Вы ввели слишком большое число\n",
            "Осталось попыток: 1\n",
            "Введите число: 67\n",
            "Вы ввели слишком большое число\n",
            "Осталось попыток: 0\n"
          ]
        }
      ],
      "source": [
        "while attempt != 0:\n",
        "    guess = int(input('Введите число: '))\n",
        "\n",
        "    if guess == N:\n",
        "        print('Вы выиграли')\n",
        "        break\n",
        "\n",
        "    elif guess > N:\n",
        "        print('Вы ввели слишком большое число')\n",
        "\n",
        "    else:\n",
        "        print('Вы ввели слишком маленькое число')\n",
        "\n",
        "    attempt -= 1 # attempt = attempt - 1\n",
        "    print(f'Осталось попыток: {attempt}')"
      ]
    },
    {
      "cell_type": "markdown",
      "metadata": {
        "id": "38344ee3"
      },
      "source": [
        "Обратите внимание, что стало с переменной `attempt` — мы перезаписывали ее каждый раз (уменьшали значение) и теперь она равна `0`."
      ]
    },
    {
      "cell_type": "code",
      "execution_count": null,
      "metadata": {
        "id": "145dd45c",
        "outputId": "b56408fb-03f7-4592-a764-130635d04c81"
      },
      "outputs": [
        {
          "name": "stdout",
          "output_type": "stream",
          "text": [
            "0\n"
          ]
        }
      ],
      "source": [
        "print(attempt)"
      ]
    },
    {
      "cell_type": "markdown",
      "metadata": {
        "id": "ddcc6f08"
      },
      "source": [
        "Подумайте, как мог бы выглядеть код, если бы мы хотели на каждой итерации цикла увеличивать значение переменной `attempt`?"
      ]
    },
    {
      "cell_type": "markdown",
      "metadata": {
        "id": "97a9c618"
      },
      "source": [
        "Но и наш код сейчас не идеален. Если пользователь выиграет, то об этом будет сказано фразой «Вы выиграли», а если проиграет, то...?"
      ]
    },
    {
      "cell_type": "code",
      "execution_count": null,
      "metadata": {
        "id": "c1642e42",
        "outputId": "1626286d-dffc-4fb6-9ab8-e868454921c3"
      },
      "outputs": [
        {
          "name": "stdout",
          "output_type": "stream",
          "text": [
            "Введите количество попыток: 3\n",
            "Введите число: 57\n",
            "Вы ввели слишком маленькое число\n",
            "Осталось попыток: 2\n",
            "Введите число: 23\n",
            "Вы ввели слишком маленькое число\n",
            "Осталось попыток: 1\n",
            "Введите число: 43\n",
            "Вы ввели слишком маленькое число\n",
            "Осталось попыток: 0\n",
            "Вы проиграли О_О\n"
          ]
        }
      ],
      "source": [
        "attempt = int(input('Введите количество попыток: '))\n",
        "\n",
        "while attempt != 0:\n",
        "    guess = int(input('Введите число: '))\n",
        "\n",
        "    if guess == N:\n",
        "        print('Вы выиграли')\n",
        "        break\n",
        "\n",
        "    elif guess > N:\n",
        "        print('Вы ввели слишком большое число')\n",
        "\n",
        "    else:\n",
        "        print('Вы ввели слишком маленькое число')\n",
        "\n",
        "    attempt -= 1 # attempt = attempt - 1\n",
        "    print(f'Осталось попыток: {attempt}')\n",
        "\n",
        "else:\n",
        "    print('Вы проиграли О_О')"
      ]
    },
    {
      "cell_type": "markdown",
      "metadata": {
        "id": "89e40e01"
      },
      "source": [
        "Вроде условных конструкций нет... откуда тогда `else`? Дело в том, что здесь он относится именно к циклу и реализуется, если мы не вышли из цикла с помощью `break`. Попробуйте запустить ячейку и сразу угадать число — фразы «Вы проиграли О_О» выведено не будет."
      ]
    },
    {
      "cell_type": "markdown",
      "metadata": {
        "id": "2a75c512"
      },
      "source": [
        "<center><b><font size=4>Задача №2</font></b></center>\n",
        "\n",
        "Давайте предположим, что потребности студентов Факультета гуманитарных наук ограничиваются кофе и хинкали.\n",
        "\n",
        "**Напишите программу, которая будет принимать на вход целое число - бюджет студента на день – и далее в цикле, пока у него еще есть хотя бы какие-то деньги – запрашивает, что он хочет купить (кофе или хинкали), и по завершению цикла выводит информацию о количестве купленных стаканов кофе и порций хинкали, а также о том, на какую сумму студент вышел из своего бюджета.**\n",
        "\n",
        "* На Мясницкой улице действуют следующие цены:\n",
        "    * **кофе** стоит 100 рублей;\n",
        "    * **хинкали** стоят 200 рублей;\n",
        "    \n",
        "    \n",
        "* Гарантируется, что в цикле будет введено только два значения: `кофе`, `хинкали`.\n",
        "\n",
        "\n",
        "* **Алгоритм возможного решения**:\n",
        "    1. Создайте переменные:\n",
        "        * `money`, куда вы будете считывать размер бюджета пользователя на день;\n",
        "        * `coffee`, куда вы будете сохранять число купленных стаканов кофе;\n",
        "        * `hinkali`, куда вы будете сохранять число купленных порций хинкали.\n",
        "    2. Инициируйте цикл `while`;\n",
        "    3. В цикле `while`, пока у студента денег больше, чем `0`, считывайте, что он хочет купить (кофе или хинкали);\n",
        "        * Если введено значение `кофе`, вычтите `100` из переменной `money`;\n",
        "        * Если введено значение `хинкали`, вычтите `200` из переменной `money`.\n",
        "        * Обновите значение соответствующей переменной с числом купленных стаканов кофе или порций хинкали (пункт 1).\n",
        "    6. Когда цикл остановится, выведите две строки:\n",
        "        * Строку формата: `Вы купили: <число> стаканчика(ов) кофе, <число> порции(й) хинкали.`;\n",
        "        * Строку формата: `Вы вышли из бюджета на <число> рублей.`.\n",
        "\n",
        "\n",
        "**Ориентируйтесь на тесты ниже:**\n",
        "<center>\n",
        "    <table>\n",
        "        <tr>\n",
        "            <th>money</th>\n",
        "            <th>Ввод</th>\n",
        "            <th>Результат</th>\n",
        "        </tr>\n",
        "        <tr><td>250</td>\n",
        "            <td>\n",
        "                <p>кофе</p>\n",
        "                <p>кофе</p>\n",
        "                <p>кофе</p>\n",
        "        </td><td><p>Вы купили: 3 стаканчика(ов) кофе, 0 порции(й) хинкали.</p>\n",
        "            <p>Вы вышли из бюджета на 50 рублей.</p></td></tr>\n",
        "        <tr><td>500</td>\n",
        "            <td>\n",
        "                <p>хинкали</p>\n",
        "                <p>хинкали</p>\n",
        "                <p>кофе</p>\n",
        "        </td><td><p>Вы купили: 1 стаканчика(ов) кофе, 2 порции(й) хинкали.</p>\n",
        "            <p>Вы вышли из бюджета на 0 рублей.</p></td></tr>\n",
        "        <tr><td>100</td>\n",
        "            <td>\n",
        "                <p>хинкали</p>\n",
        "        </td><td><p>Вы купили: 0 стаканчика(ов) кофе, 1 порции(й) хинкали.</p>\n",
        "            <p>Вы вышли из бюджета на 100 рублей.</p></td></tr>\n",
        "    </table>\n",
        "</center>"
      ]
    },
    {
      "cell_type": "code",
      "execution_count": null,
      "metadata": {
        "id": "cc7eeacc"
      },
      "outputs": [],
      "source": [
        "#YOUR CODE HERE"
      ]
    },
    {
      "cell_type": "markdown",
      "metadata": {
        "id": "f15aac0f-6076-4c88-879a-895b56d89771"
      },
      "source": [
        "**Цикл while: повторим ещё раз**"
      ]
    },
    {
      "cell_type": "code",
      "execution_count": null,
      "metadata": {
        "id": "7c7c89f8-f3bb-483a-b824-816728b486f0"
      },
      "outputs": [],
      "source": [
        "while <логическое выражение>:\n",
        "    <тело цикла>"
      ]
    },
    {
      "cell_type": "markdown",
      "metadata": {
        "id": "62eafd0d-73ea-404a-a468-803e8f79b331"
      },
      "source": [
        "|ЭЛЕМЕНТ|ОПИСАНИЕ|\n",
        "|:---:|:---:|\n",
        "|<font size=\"3\">**while**</font>|<font size=\"3\">Зарезервированное ключевое слово, с которого начинается цикл|\n",
        "|<font size=\"3\">**<логическое выражение>**\t| <font size=\"3\">Выражение, результатом которого является булево значение `True` или `False`. <br>Если результат <логического выражения> `True`, то цикл продолжает работу. <br>Как только результат <логического выражения> поменялся на `False`, цикл останавливается|\n",
        "|<font size=\"3\">**:**|<font size=\"3\">Зарезервированный ключевой символ. Обязательно после указания <логического выражения> использовать двоеточие|\n",
        "|<font size=\"3\">**<тело цикла>**|<font size=\"3\">Инструкции, которые выполняются при каждой итерации. Записывается с отступом относительно ключевого слова while|"
      ]
    },
    {
      "cell_type": "markdown",
      "metadata": {
        "id": "38d5d524-291e-4830-a1e5-2ce2d5cc5655"
      },
      "source": [
        "<hr>\n",
        "\n",
        "Небольшой пример использования цикла while в [игре](https://reeborg.ca/reeborg.html?lang=en&mode=python&menu=worlds%2Fmenus%2Freeborg_intro_en.json&name=Hurdle%202&url=worlds%2Ftutorial_en%2Fhurdle2.json)\n",
        "\n",
        "Вставьте в поле с кодом игры этот код:\n",
        "\n",
        "    def turn_right():\n",
        "        turn_left()\n",
        "        turn_left()\n",
        "        turn_left()\n",
        "        \n",
        "    def jump():\n",
        "        move()\n",
        "        turn_left()\n",
        "        move()\n",
        "        turn_right()\n",
        "        move()\n",
        "        turn_right()\n",
        "        move()\n",
        "        turn_left()\n",
        "\n",
        "    while not at_goal():\n",
        "        jump()\n",
        "\n",
        "<hr>"
      ]
    },
    {
      "cell_type": "markdown",
      "metadata": {
        "id": "n3ml_yuHmbTo"
      },
      "source": [
        "Рисуем с помощью цикла while."
      ]
    },
    {
      "cell_type": "code",
      "execution_count": null,
      "metadata": {
        "colab": {
          "base_uri": "https://localhost:8080/"
        },
        "id": "ICkZWy6smYJ2",
        "outputId": "5132fe53-c367-455a-911c-f0e9c2b0f063"
      },
      "outputs": [
        {
          "name": "stdout",
          "output_type": "stream",
          "text": [
            " **   ** \n",
            "**** ****\n",
            "*********\n",
            " ******* \n",
            "  *****  \n",
            "   ***   \n",
            "    *    \n"
          ]
        }
      ],
      "source": [
        "h = 7\n",
        "w = h + 2\n",
        "m = w // 4\n",
        "i = 1\n",
        "while i <= h:\n",
        "    if (i <= m):\n",
        "      print(\" \" * (m-i) + \"*\" * (2*i) + \" \" * (w-2*i-2*m) + \"*\" *(2*i) + \" \" * (m-i))\n",
        "    else:\n",
        "      print(\" \" * (i - 2*m+1) + \"*\" * (w-2*(i-2*m+1)) + \" \" * (i - 2*m+1))\n",
        "    i += 1"
      ]
    },
    {
      "cell_type": "markdown",
      "metadata": {
        "id": "3fdf3277"
      },
      "source": [
        "**Задача**\n",
        "\n",
        "Напишите программу, которая будет проверять верность введенного пользователем пароля, пока пароль не совпадет с истинным.\n",
        "\n",
        "Верный пароль пользователя – PythonLanguage345"
      ]
    },
    {
      "cell_type": "code",
      "execution_count": null,
      "metadata": {
        "id": "1f6ff269"
      },
      "outputs": [],
      "source": [
        "correct_passw = 'PythonLanguage345'\n",
        "\n",
        "# ваш код"
      ]
    },
    {
      "cell_type": "markdown",
      "metadata": {
        "id": "6fb2d768"
      },
      "source": [
        "## Строки, списки и кортежи <a name=\"par3\"></a>"
      ]
    },
    {
      "cell_type": "markdown",
      "metadata": {
        "id": "-mCxngRaYumc"
      },
      "source": [
        "В рамках курса мы будем работать также и с встроенными структурами данных 👼\n",
        "\n",
        "До этого мы поработали с числами, но хотим, конечно, работать не только с ними\n"
      ]
    },
    {
      "cell_type": "markdown",
      "metadata": {
        "id": "89woPohPhPnU"
      },
      "source": [
        "![python-data-types.jpg](data:image/jpeg;base64,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)"
      ]
    },
    {
      "cell_type": "markdown",
      "metadata": {
        "id": "F4uhFuACZ5Ag"
      },
      "source": [
        "Вспомним про различия между структурами данных.\n",
        "\n",
        "**Строки** — содержат текстовую информацию и пишутся в кавычках '' или \"\". Неизменяемые.\n",
        "\n",
        "``` my_string = 'я строка'```\n",
        "\n",
        "**Списки** — содержат набор данных (возможно, разных типов) и пишутся в квадратных скобках через запятую [ ]. Изменяемые.\n",
        "\n",
        "```my_list = ['я', 'список'] ```\n",
        "\n",
        "**Кортежи** — содержат набор данных (возможно, разных типов) и пишутся в квадратных скобках через запятую ( ). Неизменяемые.\n",
        "\n",
        "```my_tuple = ('я', 'кортеж') ```"
      ]
    },
    {
      "cell_type": "code",
      "execution_count": null,
      "metadata": {
        "colab": {
          "base_uri": "https://localhost:8080/",
          "height": 35
        },
        "id": "lB5yxw_ia0z4",
        "outputId": "0756a1a1-1b20-4ec8-8970-b3b8fd701459"
      },
      "outputs": [
        {
          "data": {
            "application/vnd.google.colaboratory.intrinsic+json": {
              "type": "string"
            },
            "text/plain": [
              "'это строка'"
            ]
          },
          "execution_count": 22,
          "metadata": {},
          "output_type": "execute_result"
        }
      ],
      "source": [
        "new_line = 'это строка'\n",
        "\n",
        "new_line"
      ]
    },
    {
      "cell_type": "code",
      "execution_count": null,
      "metadata": {
        "colab": {
          "base_uri": "https://localhost:8080/"
        },
        "id": "TBRB6fI_axv_",
        "outputId": "24da3763-58cc-4c54-aab6-1771ff567316"
      },
      "outputs": [
        {
          "data": {
            "text/plain": [
              "[4, 'я очень разнообразный', [2, 3], 'это строка']"
            ]
          },
          "execution_count": 23,
          "metadata": {},
          "output_type": "execute_result"
        }
      ],
      "source": [
        "new_list = [4, 'я очень разнообразный', [2, 3], new_line]\n",
        "\n",
        "new_list"
      ]
    },
    {
      "cell_type": "code",
      "execution_count": null,
      "metadata": {
        "id": "Koqz_wtinbMz"
      },
      "outputs": [],
      "source": [
        "new_tuple = (4, 'я очень разнообразный', [2, 3], new_line)\n",
        "\n",
        "new_tuple"
      ]
    },
    {
      "cell_type": "markdown",
      "metadata": {
        "id": "Tm1FhsCSh49T"
      },
      "source": [
        "**Основные операции над строками и списками**"
      ]
    },
    {
      "cell_type": "markdown",
      "metadata": {
        "id": "zwk7d2zIyVuu"
      },
      "source": [
        "Со строками можно выполнять те же операции, что и со строками: складывать и умножать на число. Как вы думаете, что будет получаться?"
      ]
    },
    {
      "cell_type": "code",
      "execution_count": null,
      "metadata": {
        "colab": {
          "base_uri": "https://localhost:8080/",
          "height": 35
        },
        "id": "afKqsd5Hh92f",
        "outputId": "80c31c6b-af91-407c-e808-9cb9e198d058"
      },
      "outputs": [
        {
          "data": {
            "application/vnd.google.colaboratory.intrinsic+json": {
              "type": "string"
            },
            "text/plain": [
              "'дваслова'"
            ]
          },
          "execution_count": 24,
          "metadata": {},
          "output_type": "execute_result"
        }
      ],
      "source": [
        "two_words = \"два\" + \"слова\"\n",
        "\n",
        "two_words"
      ]
    },
    {
      "cell_type": "code",
      "execution_count": null,
      "metadata": {
        "colab": {
          "base_uri": "https://localhost:8080/",
          "height": 35
        },
        "id": "qsVZbdR0zha_",
        "outputId": "7afb5751-355d-4618-e855-fb75779dce7c"
      },
      "outputs": [
        {
          "data": {
            "application/vnd.google.colaboratory.intrinsic+json": {
              "type": "string"
            },
            "text/plain": [
              "'двасловадвасловадваслова'"
            ]
          },
          "execution_count": 25,
          "metadata": {},
          "output_type": "execute_result"
        }
      ],
      "source": [
        "two_words * 3"
      ]
    },
    {
      "cell_type": "code",
      "execution_count": null,
      "metadata": {
        "colab": {
          "base_uri": "https://localhost:8080/"
        },
        "id": "rm9Bv9ax0OzT",
        "outputId": "0f1ed1ff-03f1-49a1-9024-b1ae05bbcbc8"
      },
      "outputs": [
        {
          "data": {
            "text/plain": [
              "8"
            ]
          },
          "execution_count": 26,
          "metadata": {},
          "output_type": "execute_result"
        }
      ],
      "source": [
        "#Считаем длину слова - количество символов в строке\n",
        "len(two_words)"
      ]
    },
    {
      "cell_type": "code",
      "execution_count": null,
      "metadata": {
        "colab": {
          "base_uri": "https://localhost:8080/"
        },
        "id": "O4SX8Wzn0U7f",
        "outputId": "3a542dbe-5b48-47db-a817-603b30b080fb"
      },
      "outputs": [
        {
          "data": {
            "text/plain": [
              "1"
            ]
          },
          "execution_count": 27,
          "metadata": {},
          "output_type": "execute_result"
        }
      ],
      "source": [
        "len(' ')"
      ]
    },
    {
      "cell_type": "code",
      "execution_count": null,
      "metadata": {
        "colab": {
          "base_uri": "https://localhost:8080/"
        },
        "id": "eRuidsBQyaWl",
        "outputId": "be3fbb29-fc30-45cb-b554-8fdd83f958bb"
      },
      "outputs": [
        {
          "data": {
            "text/plain": [
              "['два', 'слова']"
            ]
          },
          "execution_count": 28,
          "metadata": {},
          "output_type": "execute_result"
        }
      ],
      "source": [
        "two_words = [\"два\"] + [\"слова\"]\n",
        "\n",
        "two_words"
      ]
    },
    {
      "cell_type": "code",
      "execution_count": null,
      "metadata": {
        "colab": {
          "base_uri": "https://localhost:8080/"
        },
        "id": "VkO7Ys7IzmFy",
        "outputId": "fdbb775e-bb22-4e35-8222-0bad69a93feb"
      },
      "outputs": [
        {
          "data": {
            "text/plain": [
              "['два', 'слова', 'два', 'слова', 'два', 'слова']"
            ]
          },
          "execution_count": 29,
          "metadata": {},
          "output_type": "execute_result"
        }
      ],
      "source": [
        "two_words * 3"
      ]
    },
    {
      "cell_type": "code",
      "execution_count": null,
      "metadata": {
        "colab": {
          "base_uri": "https://localhost:8080/"
        },
        "id": "Dgsj9MSTz4hZ",
        "outputId": "18d0797d-a7b2-4d8c-b300-cba3ec44990f"
      },
      "outputs": [
        {
          "data": {
            "text/plain": [
              "2"
            ]
          },
          "execution_count": 30,
          "metadata": {},
          "output_type": "execute_result"
        }
      ],
      "source": [
        "# Считаем длину списка\n",
        "\n",
        "len(two_words)"
      ]
    },
    {
      "cell_type": "markdown",
      "metadata": {
        "id": "bBHn65cTyvC4"
      },
      "source": [
        "А вот такого не надо"
      ]
    },
    {
      "cell_type": "code",
      "execution_count": null,
      "metadata": {
        "id": "GWBvi4qmyqi5"
      },
      "outputs": [],
      "source": [
        "#two_words = [\"два\"] - [\"слова\"]\n",
        "\n",
        "#two_words"
      ]
    },
    {
      "cell_type": "markdown",
      "metadata": {
        "id": "G10GMC5dzKHq"
      },
      "source": [
        "И такого не надо 😶"
      ]
    },
    {
      "cell_type": "code",
      "execution_count": null,
      "metadata": {
        "id": "UhodIQMYzRdC"
      },
      "outputs": [],
      "source": [
        "#two_words = \"два\" + 5\n",
        "\n",
        "#two_words"
      ]
    },
    {
      "cell_type": "markdown",
      "metadata": {
        "id": "SvuF2i-1zS-W"
      },
      "source": [
        "Операции мы можем выполнять только над данными одного типа"
      ]
    },
    {
      "cell_type": "markdown",
      "source": [
        "Мы можем проверять, есть ли некоторый элемент в списке."
      ],
      "metadata": {
        "id": "R8CfdbqE_-S4"
      }
    },
    {
      "cell_type": "code",
      "source": [
        "lst = [1, 2, 3, 4, 5]\n",
        "x = int(input())\n",
        "if x in lst:\n",
        "  print('элемент нашёлся!')\n",
        "else:\n",
        "  print('элемент не нашёлся')"
      ],
      "metadata": {
        "colab": {
          "base_uri": "https://localhost:8080/"
        },
        "id": "lmXrt3CLABAw",
        "outputId": "5cf69d5f-532b-418a-8065-cf0ba402ac9c"
      },
      "execution_count": 2,
      "outputs": [
        {
          "output_type": "stream",
          "name": "stdout",
          "text": [
            "0\n",
            "элемент не нашёлся\n"
          ]
        }
      ]
    },
    {
      "cell_type": "markdown",
      "source": [
        "И в строке!"
      ],
      "metadata": {
        "id": "l31bUiJcLMtt"
      }
    },
    {
      "cell_type": "code",
      "source": [
        "s = \"12345\"\n",
        "x = input()\n",
        "if x in s:\n",
        "  print('элемент нашёлся!')\n",
        "else:\n",
        "  print('элемент не нашёлся')"
      ],
      "metadata": {
        "colab": {
          "base_uri": "https://localhost:8080/"
        },
        "id": "e0YJAGkWKv8N",
        "outputId": "9e057381-0e2b-47ab-9415-62c0d2b5d6e3"
      },
      "execution_count": 8,
      "outputs": [
        {
          "output_type": "stream",
          "name": "stdout",
          "text": [
            "23\n",
            "элемент нашёлся!\n"
          ]
        }
      ]
    },
    {
      "cell_type": "markdown",
      "metadata": {
        "id": "NVKjQduibPgv"
      },
      "source": [
        "### Индексы <a name=\"par3.1\"></a>"
      ]
    },
    {
      "cell_type": "code",
      "execution_count": null,
      "metadata": {
        "id": "O8JMib8kw2G8"
      },
      "outputs": [],
      "source": [
        "my_string = '40'\n",
        "my_list = ['4', '0']"
      ]
    },
    {
      "cell_type": "code",
      "execution_count": null,
      "metadata": {
        "colab": {
          "base_uri": "https://localhost:8080/"
        },
        "id": "gUlnmriXagfT",
        "outputId": "31eef3e2-3a6e-487a-ec41-5fcdc3b1c904"
      },
      "outputs": [
        {
          "name": "stdout",
          "output_type": "stream",
          "text": [
            "False\n"
          ]
        }
      ],
      "source": [
        "print(my_string == my_list)"
      ]
    },
    {
      "cell_type": "code",
      "execution_count": null,
      "metadata": {
        "colab": {
          "base_uri": "https://localhost:8080/"
        },
        "id": "ErEG3hbtbS0M",
        "outputId": "b3362197-6caa-44db-caec-8f72683c9531"
      },
      "outputs": [
        {
          "name": "stdout",
          "output_type": "stream",
          "text": [
            "True\n"
          ]
        }
      ],
      "source": [
        "print(my_string[0] == my_list[0])"
      ]
    },
    {
      "cell_type": "markdown",
      "metadata": {
        "id": "NxSfu4R5bZlJ"
      },
      "source": [
        "Что произошло?"
      ]
    },
    {
      "cell_type": "markdown",
      "metadata": {
        "id": "SF0U2nCUdqwj"
      },
      "source": [
        "**Индексы** в Python начинаются с 0.\n",
        "\n",
        "Первый элемент имеет индекс 0, второй — 1, и так далее\n",
        "\n",
        "Можно использовать отрицательные индексы для доступа к элементам с конца списка. -1 обозначает последний элемент, -2 — предпоследний и так далее.\n"
      ]
    },
    {
      "cell_type": "code",
      "execution_count": null,
      "metadata": {
        "colab": {
          "base_uri": "https://localhost:8080/"
        },
        "id": "2dJn1vebbboh",
        "outputId": "5a412ec3-64ee-4e9d-f070-b5135fb04162"
      },
      "outputs": [
        {
          "name": "stdout",
          "output_type": "stream",
          "text": [
            "С индексами:  4 4\n",
            "Без индексов:  40 ['4', '0']\n"
          ]
        }
      ],
      "source": [
        "print('С индексами: ', my_string[0], my_list[0])\n",
        "print('Без индексов: ', my_string, my_list)"
      ]
    },
    {
      "cell_type": "markdown",
      "metadata": {
        "id": "tNMir8UUcYBM"
      },
      "source": [
        "Давайте разберемся с индексами 🤔"
      ]
    },
    {
      "cell_type": "code",
      "execution_count": null,
      "metadata": {
        "colab": {
          "base_uri": "https://localhost:8080/"
        },
        "id": "nJo-FQeGcMRx",
        "outputId": "a8959a06-94a2-4bf0-fb49-d28b413ccd1d"
      },
      "outputs": [
        {
          "name": "stdout",
          "output_type": "stream",
          "text": [
            "Первый элемент списка: 10\n",
            "Второй элемент списка: 30\n",
            "Последний элемент списка: 50\n"
          ]
        }
      ],
      "source": [
        "# Создаем список чисел\n",
        "numbers = [10, 20, 30, 40, 50]\n",
        "\n",
        "# Обращение к элементам списка по индексу\n",
        "print(\"Первый элемент списка:\", numbers[0])\n",
        "print(\"Второй элемент списка:\", numbers[2])\n",
        "print(\"Последний элемент списка:\", numbers[-1])"
      ]
    },
    {
      "cell_type": "markdown",
      "metadata": {
        "id": "3TmxTX-SccEi"
      },
      "source": [
        "А как со строкой? 🤔"
      ]
    },
    {
      "cell_type": "code",
      "execution_count": null,
      "metadata": {
        "colab": {
          "base_uri": "https://localhost:8080/"
        },
        "id": "mxaLpXxAcvYP",
        "outputId": "6dcb0ade-7af5-4d73-991d-d390b8679077"
      },
      "outputs": [
        {
          "name": "stdout",
          "output_type": "stream",
          "text": [
            "Первый элемент строки: к\n",
            "Второй элемент строки: о\n",
            "Последний элемент строки: д\n"
          ]
        }
      ],
      "source": [
        "string = 'кто проживает на дне океана'\n",
        "\n",
        "print(\"Первый элемент строки:\", string[0])\n",
        "print(\"Второй элемент строки:\", string[2])\n",
        "print(\"Последний элемент строки:\", string[-10])"
      ]
    },
    {
      "cell_type": "markdown",
      "metadata": {
        "id": "4IJZt7tfdT73"
      },
      "source": [
        "Посмотрим на список строк 🤔"
      ]
    },
    {
      "cell_type": "code",
      "execution_count": null,
      "metadata": {
        "colab": {
          "base_uri": "https://localhost:8080/"
        },
        "id": "rXFUgZuodSbd",
        "outputId": "faabfb91-909b-421e-85eb-51098c43791f"
      },
      "outputs": [
        {
          "name": "stdout",
          "output_type": "stream",
          "text": [
            "Первый элемент списка: к\n",
            "Второй элемент списка: о\n",
            "Последний элемент списка: д\n"
          ]
        }
      ],
      "source": [
        "list_of_strs = ['кто', 'проживает', 'на', 'дне', 'океана']\n",
        "print(\"Первый элемент списка:\", string[0])\n",
        "print(\"Второй элемент списка:\", string[2])\n",
        "print(\"Последний элемент списка:\", string[-10])"
      ]
    },
    {
      "cell_type": "markdown",
      "metadata": {
        "id": "ad8e376b"
      },
      "source": [
        "### Срезы <a name=\"par3.2\"></a>"
      ]
    },
    {
      "cell_type": "markdown",
      "metadata": {
        "id": "dcdee34a"
      },
      "source": [
        "![](data:image/png;base64,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)"
      ]
    },
    {
      "cell_type": "markdown",
      "source": [
        "У срезов индексы следующие: `[START:END:STEP]`. Если `START` совпадает с началом строки, его можно не писать. Если `END` совпадает с концом строки, его можно не писать. Если `STEP`= 1, его можно не писать.\n",
        "Всё как с функцией `range`."
      ],
      "metadata": {
        "id": "-RoA4X2XN5hK"
      }
    },
    {
      "cell_type": "code",
      "source": [
        "m = ['rock', 'pop', 'jazz', 'soul', 'r&b']\n",
        "m[0:3:2]"
      ],
      "metadata": {
        "colab": {
          "base_uri": "https://localhost:8080/"
        },
        "id": "g-o0JO9OMP-O",
        "outputId": "7c4dbb18-aa12-497e-993b-2db66da721bc"
      },
      "execution_count": null,
      "outputs": [
        {
          "output_type": "execute_result",
          "data": {
            "text/plain": [
              "['rock', 'jazz']"
            ]
          },
          "metadata": {},
          "execution_count": 1
        }
      ]
    },
    {
      "cell_type": "markdown",
      "source": [
        "Со строками всё точно так же."
      ],
      "metadata": {
        "id": "P1N5EuH6MhHG"
      }
    },
    {
      "cell_type": "code",
      "source": [
        "s1 = 'rhythm'\n",
        "s2 = '&'\n",
        "s3 = 'blues'\n",
        "print(s1[0] + s2[0] + s3[0])"
      ],
      "metadata": {
        "colab": {
          "base_uri": "https://localhost:8080/"
        },
        "id": "hwBk1AVQMlbs",
        "outputId": "c2cfbd2d-2445-466e-fc73-f3ef43bcabb4"
      },
      "execution_count": null,
      "outputs": [
        {
          "output_type": "stream",
          "name": "stdout",
          "text": [
            "r&b\n"
          ]
        }
      ]
    },
    {
      "cell_type": "code",
      "source": [
        "state = 'alabama'\n",
        "print(state[0:7:2])\n",
        "print(state[::2]) # здесь мы пропускаем индекс начала и индекс конца, т.к. они дефолтные — совпадают с началом и концом строки; результат такой же\n",
        "print(state[::-1]) # похожим образом можно вывести строку задом наперёд"
      ],
      "metadata": {
        "colab": {
          "base_uri": "https://localhost:8080/"
        },
        "id": "S88T58_vNDQU",
        "outputId": "ebe9337f-c6ef-4e9f-ea82-5f8b8eaa7459"
      },
      "execution_count": null,
      "outputs": [
        {
          "output_type": "stream",
          "name": "stdout",
          "text": [
            "aaaa\n",
            "aaaa\n",
            "amabala\n"
          ]
        }
      ]
    },
    {
      "cell_type": "markdown",
      "metadata": {
        "id": "nHsrOEABWP09"
      },
      "source": [
        "## Цикл `for`. <a name=\"par4\"></a>\n",
        "\n"
      ]
    },
    {
      "cell_type": "markdown",
      "metadata": {
        "id": "5a0da71e"
      },
      "source": [
        "<center><b><font size=4>Задача №1</font></b></center>\n",
        "\n",
        "**Напишите программу, которая будет спрашивать у пользователя фамилии друзей, с которыми он общался за последнюю неделю и выводит справочную информацию о ваших друзьях:**\n",
        "\n",
        "* Информация считывается с помощью функции `input()`;\n",
        "\n",
        "* Отсортировать значения вы можете с помощью функции `sorted()`;\n",
        "\n",
        "* Фамилии ваших друзей будут разделены запятой с пробелом;\n",
        "\n",
        "* Гарантируется, что будут введены только строки.\n",
        "\n",
        "**Ориентируйтесь на тесты ниже:**\n",
        "<center>\n",
        "    <table>\n",
        "        <tr>\n",
        "            <th><center>Ввод</center></th>\n",
        "            <th><center>Результат</center></th>\n",
        "        </tr>\n",
        "        <tr><td><p>Музыка, Морозов, Егерева</p></td>\n",
        "            <td><p>За последнюю неделю вы общались с 3 друзьями.</p>\n",
        "<p>Отсортированный список ваших друзей: ['Егерева', 'Морозов', 'Музыка']</p></td></tr>\n",
        "        <tr><td>Федоров, Смирнов, Иванов, Потапов, Кузнецов</td>\n",
        "            <td><p>За последнюю неделю вы общались с 5 друзьями.</p>\n",
        "                <p>Отсортированный список ваших друзей: ['Иванов', 'Кузнецов', 'Потапов', 'Смирнов', 'Федоров'</p></td></tr>\n",
        "        <tr><td>        \n",
        "            <p>Сато, Като, Ёсида, Исикава, Ито, Оота</p></td>\n",
        "            <td><p>За последнюю неделю вы общались с 6 друзьями.</p>\n",
        "<p>Отсортированный список ваших друзей: ['Ёсида', 'Исикава', 'Ито', 'Като', 'Оота', 'Сато']</p></td></tr>\n",
        "    </table>\n",
        "</center>"
      ]
    },
    {
      "cell_type": "code",
      "execution_count": null,
      "metadata": {
        "id": "f888f2d5"
      },
      "outputs": [],
      "source": [
        "#YOUR CODE HERE"
      ]
    },
    {
      "cell_type": "markdown",
      "metadata": {
        "id": "2b1eca36"
      },
      "source": [
        "### Цикл `for` и функция `range()` <a name=\"par4.1\"></a>"
      ]
    },
    {
      "cell_type": "markdown",
      "metadata": {
        "id": "821ae173"
      },
      "source": [
        "Цикл `for` буквально можно воспринимать следующим образом `для каждого элемента последовательности сделай что-то`. Под последовательностью здесь понимается <b>итерируемый объект</b> т.е. буквально тот, который вы можете растащить на части (например, строку можно раcтащить на символы, список — на элементы списка, кортеж — на элементы кортежа, словарь — на пары ключ-значение).\n",
        "\n",
        "Небольшое уточнение — разница между последовательностями и итерируемыми объектами заключается в том, что в последовательностях элементы упорядочены.\n",
        "\n",
        "Попробуем перебрать все элементы нашего списка `years` и напечатать каждый."
      ]
    },
    {
      "cell_type": "code",
      "execution_count": null,
      "metadata": {
        "colab": {
          "base_uri": "https://localhost:8080/"
        },
        "id": "613ec62b",
        "outputId": "667ab4dc-08a6-4eac-cdf4-b7fea9ef1a1a"
      },
      "outputs": [
        {
          "output_type": "stream",
          "name": "stdout",
          "text": [
            "1258\n",
            "1658\n",
            "1729\n",
            "982\n"
          ]
        }
      ],
      "source": [
        "years = ['1258', '1658', '1729', '982'] # создаем список years\n",
        "\n",
        "for y in years: # для каждого элемента в years\n",
        "    print(y) # печатаем этот элемент"
      ]
    },
    {
      "cell_type": "markdown",
      "metadata": {
        "id": "8e757270"
      },
      "source": [
        "Разберемся с тем, что только что произошло.\n",
        "\n",
        "Во-первых, у нас прошло четыре <b>итерации</b> цикла, то есть четыре повторения цикла. Воспринимается это так:\n",
        "\n",
        "<i>Итерация №1</i>\n",
        "\n",
        "    y = '1258'\n",
        "    print(y) # 1258\n",
        "    \n",
        "<i>Итерация №2</i>\n",
        "\n",
        "    y = '1638'\n",
        "    print(y) # 1638\n",
        "    \n",
        "<i>Итерация №3</i>\n",
        "\n",
        "    y = '1729'\n",
        "    print(y) # 1729\n",
        "    \n",
        "<i>Итерация №4</i>\n",
        "\n",
        "    y = '982'\n",
        "    print(y) # 982\n",
        "    \n",
        "Во-вторых, подумайте, что сейчас хранится в переменной `y`?    "
      ]
    },
    {
      "cell_type": "code",
      "execution_count": null,
      "metadata": {
        "colab": {
          "base_uri": "https://localhost:8080/"
        },
        "id": "0d3430f1",
        "outputId": "f60bd177-e9ea-4ba7-c727-9873166d91e7"
      },
      "outputs": [
        {
          "output_type": "stream",
          "name": "stdout",
          "text": [
            "982\n"
          ]
        }
      ],
      "source": [
        "print(y)"
      ]
    },
    {
      "cell_type": "markdown",
      "metadata": {
        "id": "3ef9a7cf"
      },
      "source": [
        "В нашей переменной сохранилось именно последнее значение, которое она приняла в цикле. Фактически нам это не особо важно: сама переменная важна лишь внутри самого цикла, она там создается, потом с ней что-то происходит (в нашем случае мы ее печатаем), и затем мы о ней забываем.\n",
        "\n",
        "Доказать, что это буквально новая переменная, а не элемент списка, можно следующим образом.  "
      ]
    },
    {
      "cell_type": "code",
      "execution_count": null,
      "metadata": {
        "colab": {
          "base_uri": "https://localhost:8080/"
        },
        "id": "0424a2c4",
        "outputId": "ccbca9c9-378f-49bd-98be-ecceb711f609"
      },
      "outputs": [
        {
          "output_type": "stream",
          "name": "stdout",
          "text": [
            "['1258', '1658', '1729', '982']\n",
            "12581\n",
            "16581\n",
            "17291\n",
            "9821\n",
            "['1258', '1658', '1729', '982']\n"
          ]
        }
      ],
      "source": [
        "print(years) # печатаем список\n",
        "\n",
        "for y in years: # печатаем\n",
        "    y = y + '1'\n",
        "    print(y)\n",
        "\n",
        "print(years)"
      ]
    },
    {
      "cell_type": "markdown",
      "metadata": {
        "id": "1bfd53f0"
      },
      "source": [
        "Обратите внимание, что элементы списка не изменились. В цикле менялась только переменная `y`, там же она печаталась, а потом принимала новое значение."
      ]
    },
    {
      "cell_type": "markdown",
      "metadata": {
        "id": "e37be425"
      },
      "source": [
        "**Теперь, когда мы, вроде как, поняли, что лежит внутри цикла `for`, подумаем, а как в итоге заменить элементы списка.**\n",
        "\n",
        "В этом нам поможет индексация. Как создать набор индексов? Тут есть два способа:\n",
        "\n",
        "1. функция `range()`\n",
        "2. функция `enumerate()`\n",
        "\n",
        "Первая универсальнее, так как буквально создает диапазон значений от и до (даже может сделать его с определенным шагом). При работе с ней нужно запомнить следующее:\n",
        "\n",
        "   `range(START, STOP, STEP)`\n",
        "   \n",
        "   + `START` — начало нашего диапазона\n",
        "   + `STOP` — конец нашего диапазона (не включается!)\n",
        "   + `STEP` — шаг, с которым мы идем"
      ]
    },
    {
      "cell_type": "code",
      "execution_count": null,
      "metadata": {
        "colab": {
          "base_uri": "https://localhost:8080/"
        },
        "id": "5850adb8",
        "outputId": "d6ba2649-b9f1-4ee3-c98a-e880ae1986c1"
      },
      "outputs": [
        {
          "output_type": "stream",
          "name": "stdout",
          "text": [
            "1\n",
            "3\n",
            "5\n",
            "7\n",
            "9\n"
          ]
        }
      ],
      "source": [
        "# например, сделаем диапазон целых чисел от 1 до 10 с шагом 2\n",
        "# то есть возьем все нечетные числа от 1 до 10\n",
        "for i in range(1, 11, 2):\n",
        "    print(i)"
      ]
    },
    {
      "cell_type": "code",
      "execution_count": null,
      "metadata": {
        "colab": {
          "base_uri": "https://localhost:8080/"
        },
        "id": "37615c4d",
        "outputId": "4d5f2d92-d8f0-48ab-8238-a15f4d9394dd"
      },
      "outputs": [
        {
          "output_type": "stream",
          "name": "stdout",
          "text": [
            "0\n",
            "1\n",
            "2\n",
            "3\n"
          ]
        }
      ],
      "source": [
        "# значения, которые можно подставить вместо «индексов» можно создать так:\n",
        "for i in range(len(years)):\n",
        "    print(i)"
      ]
    },
    {
      "cell_type": "markdown",
      "metadata": {
        "id": "4cdc16c4"
      },
      "source": [
        "В примере выше важно следующее:\n",
        "+ по умолчанию в значение `START` подставляется `0`;\n",
        "+ как раз тут важно, что последнее значение (`4`) не включается — если бы включалось, то подставив его вместо индекса в список `years`, мы бы получили ошибку `IndexError`:"
      ]
    },
    {
      "cell_type": "code",
      "execution_count": null,
      "metadata": {
        "colab": {
          "base_uri": "https://localhost:8080/",
          "height": 146
        },
        "id": "5086d23b",
        "outputId": "45a0cf5c-3b77-4269-b5e2-8cd7df246974"
      },
      "outputs": [
        {
          "output_type": "error",
          "ename": "IndexError",
          "evalue": "list index out of range",
          "traceback": [
            "\u001b[0;31m---------------------------------------------------------------------------\u001b[0m",
            "\u001b[0;31mIndexError\u001b[0m                                Traceback (most recent call last)",
            "\u001b[0;32m<ipython-input-70-58677b0ac147>\u001b[0m in \u001b[0;36m<cell line: 1>\u001b[0;34m()\u001b[0m\n\u001b[0;32m----> 1\u001b[0;31m \u001b[0mprint\u001b[0m\u001b[0;34m(\u001b[0m\u001b[0myears\u001b[0m\u001b[0;34m[\u001b[0m\u001b[0;36m4\u001b[0m\u001b[0;34m]\u001b[0m\u001b[0;34m)\u001b[0m\u001b[0;34m\u001b[0m\u001b[0;34m\u001b[0m\u001b[0m\n\u001b[0m",
            "\u001b[0;31mIndexError\u001b[0m: list index out of range"
          ]
        }
      ],
      "source": [
        "print(years[4])"
      ]
    },
    {
      "cell_type": "markdown",
      "metadata": {
        "id": "1c69a0d9"
      },
      "source": [
        "Функция `enumerate()` вернет нам пару индекс-элемент, впредставленную в виде кортежа."
      ]
    },
    {
      "cell_type": "code",
      "execution_count": null,
      "metadata": {
        "colab": {
          "base_uri": "https://localhost:8080/"
        },
        "id": "d0540be9",
        "outputId": "6200f0ee-eeac-421f-8211-d87f2a1333c9"
      },
      "outputs": [
        {
          "output_type": "stream",
          "name": "stdout",
          "text": [
            "(0, '1258')\n",
            "Индексу 0 соответствует элемент 1258\n",
            "(1, '1658')\n",
            "Индексу 1 соответствует элемент 1658\n",
            "(2, '1729')\n",
            "Индексу 2 соответствует элемент 1729\n",
            "(3, '982')\n",
            "Индексу 3 соответствует элемент 982\n"
          ]
        }
      ],
      "source": [
        "for i in enumerate(years):\n",
        "    print(i)\n",
        "    print(f'Индексу {i[0]} соответствует элемент {i[1]}') # так можно разбить эту пару"
      ]
    },
    {
      "cell_type": "markdown",
      "metadata": {
        "id": "4c892dbc"
      },
      "source": [
        "Вернемся к идее поменять строки на целые числа в нашем списке `years`."
      ]
    },
    {
      "cell_type": "code",
      "execution_count": null,
      "metadata": {
        "colab": {
          "base_uri": "https://localhost:8080/"
        },
        "id": "6eab206b",
        "outputId": "982d4ea9-fb2c-467e-f857-478655fb7ad7"
      },
      "outputs": [
        {
          "output_type": "stream",
          "name": "stdout",
          "text": [
            "['1258', '1658', '1729', '982']\n",
            "[1258, 1658, 1729, 982]\n"
          ]
        }
      ],
      "source": [
        "print(years)\n",
        "\n",
        "for i in range(len(years)):\n",
        "    years[i] = int(years[i])\n",
        "\n",
        "print(years)"
      ]
    },
    {
      "cell_type": "markdown",
      "metadata": {
        "id": "642481e9"
      },
      "source": [
        "В цикле у нас создается переменная `i`, однако она используется для обращения к объектам списка, которые мы непосредственно изменяем.\n",
        "\n"
      ]
    },
    {
      "cell_type": "markdown",
      "source": [
        "В целом цикл `for` всегда можно заменить на цикл `while` (но не наоборот), в таком случае цикл `while` просто будет немного длиннее. Вспомним задачку с рисованием с прошлого семинара."
      ],
      "metadata": {
        "id": "tA9v6taV_RJO"
      }
    },
    {
      "cell_type": "code",
      "source": [
        "# цикл while\n",
        "h = 7\n",
        "w = h + 2\n",
        "m = w // 4\n",
        "i = 1\n",
        "while i <= h:\n",
        "    if (i <= m):\n",
        "      print(\" \" * (m-i) + \"*\" * (2*i) + \" \" * (w-2*i-2*m) + \"*\" *(2*i) + \" \" * (m-i))\n",
        "    else:\n",
        "      print(\" \" * (i - 2*m+1) + \"*\" * (w-2*(i-2*m+1)) + \" \" * (i - 2*m+1))\n",
        "    i += 1"
      ],
      "metadata": {
        "colab": {
          "base_uri": "https://localhost:8080/"
        },
        "id": "Yg2ljQVYAFAc",
        "outputId": "e300dd7f-95cf-4ec9-ed48-b791234b1e4d"
      },
      "execution_count": null,
      "outputs": [
        {
          "output_type": "stream",
          "name": "stdout",
          "text": [
            " **   ** \n",
            "**** ****\n",
            "*********\n",
            " ******* \n",
            "  *****  \n",
            "   ***   \n",
            "    *    \n"
          ]
        }
      ]
    },
    {
      "cell_type": "markdown",
      "metadata": {
        "id": "19d82c49"
      },
      "source": [
        "<center><b><font size=4>Задача №2</font></b></center>\n",
        "\n",
        "**Используйте функцию `range()`, превратите последовательность в список с помощью функции `list()` и напечатайте:**\n",
        "\n",
        "* Список от 1 до 5 включительно: `[1, 2, 3, 4, 5]`;\n",
        "* Список от 8 до 12 невключительно: `[8, 9, 10, 11]`;\n",
        "* Список от 1 до 10 включительно только с нечетными числами: ```[1, 3, 5, 7, 9]```;\n",
        "* Список от 1 до 10 включительно только с четными числами: `[2, 4, 6, 8, 10]`;\n",
        "* Список от 100 до 130 включительно с шагом `3`: `[100, 103, 106, 109, 112, 115, 118, 121, 124, 127, 130]`.\n",
        "\n",
        "\n",
        "*Подсказки:*\n",
        "* Чтобы вывести четные и нечетные числа или последовательности с определенным шагом, пользуйтесь третьим аргументом функции `range()`;\n",
        "* Чтобы получить справку по функции, пользуйтесь функцией `help()` или запросите справку с помощью `Shift + Tab`."
      ]
    },
    {
      "cell_type": "code",
      "execution_count": null,
      "metadata": {
        "id": "3b233d0f"
      },
      "outputs": [],
      "source": [
        "# YOUR CODE HERE"
      ]
    },
    {
      "cell_type": "markdown",
      "metadata": {
        "id": "lhKthkHgWP1S"
      },
      "source": [
        "## Дополнительные материалы <a name=\"parlast\"></a>\n",
        "\n",
        "+ Документация Python [Built-in Types](https://docs.python.org/3/library/stdtypes.html)\n",
        "+ Документация Python [More Control Flow Tools](https://docs.python.org/3/tutorial/controlflow.html)\n",
        "+ Щуров И.В., Тамбовцева А.А., Жучкова С.В. —  курс «Основы программирования в Python» ([ссылка на курс](https://allatambov.github.io/pypolit/pypolit.html))\n",
        "+ Простыми словами и очень подробно про [модуль `random`](https://pythonchik.ru/pro/random-v-python)\n",
        "+ Статья на Хабр. [Понимание итераторов в Python](https://habr.com/ru/post/488112/)\n",
        "+ [Цикл `for` в Python - как работает, синтаксис, примеры](https://pythonchik.ru/osnovy/cikl-for-v-python)\n",
        "+ [Как работает функция `enumerate()` в Python?](https://pythonist.ru/kak-rabotaet-funkcziya-enumerate-v-python/)\n",
        "+ Python для начинающих. [Про `try-except`](https://pythonworld.ru/tipy-dannyx-v-python/isklyucheniya-v-python-konstrukciya-try-except-dlya-obrabotki-isklyuchenij.html)\n",
        "+ Python для начинающих. [Все методы списков с примерами](https://pythonworld.ru/tipy-dannyx-v-python/spiski-list-funkcii-i-metody-spiskov.html)"
      ]
    }
  ]
}