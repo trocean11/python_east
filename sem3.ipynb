{
  "nbformat": 4,
  "nbformat_minor": 0,
  "metadata": {
    "colab": {
      "provenance": []
    },
    "kernelspec": {
      "name": "python3",
      "display_name": "Python 3"
    },
    "language_info": {
      "name": "python"
    }
  },
  "cells": [
    {
      "cell_type": "markdown",
      "metadata": {
        "id": "6fb2d768"
      },
      "source": [
        "## Списки и кортежи <a name=\"par1\"></a>"
      ]
    },
    {
      "cell_type": "markdown",
      "metadata": {
        "id": "a5ef26b0"
      },
      "source": [
        "Ранее мы уже обсуждали списки и кортежи в разговоре о типах данных. Тогда основное отличие заключалось в том, что списки — это изменяемый тип данных, а кортежи — неизменяемый. Проверить, что кортежи нельзя изменить, очень просто:"
      ]
    },
    {
      "cell_type": "code",
      "source": [
        "my_tuple = (1, 2, 3)"
      ],
      "metadata": {
        "id": "Fc3mfJUdcmEh"
      },
      "execution_count": 4,
      "outputs": []
    },
    {
      "cell_type": "code",
      "execution_count": 5,
      "metadata": {
        "colab": {
          "base_uri": "https://localhost:8080/"
        },
        "id": "996cba04",
        "outputId": "c4d9e962-7bd5-4d9d-ba4a-346163305bc9"
      },
      "outputs": [
        {
          "output_type": "execute_result",
          "data": {
            "text/plain": [
              "1"
            ]
          },
          "metadata": {},
          "execution_count": 5
        }
      ],
      "source": [
        "my_tuple[0] # индексация работает"
      ]
    },
    {
      "cell_type": "code",
      "execution_count": 6,
      "metadata": {
        "colab": {
          "base_uri": "https://localhost:8080/",
          "height": 146
        },
        "id": "df9b2020",
        "outputId": "978daa2f-cb88-4634-a9e9-39ec33db2b53"
      },
      "outputs": [
        {
          "output_type": "error",
          "ename": "TypeError",
          "evalue": "'tuple' object does not support item assignment",
          "traceback": [
            "\u001b[0;31m---------------------------------------------------------------------------\u001b[0m",
            "\u001b[0;31mTypeError\u001b[0m                                 Traceback (most recent call last)",
            "\u001b[0;32m<ipython-input-6-d4fe375c1757>\u001b[0m in \u001b[0;36m<cell line: 0>\u001b[0;34m()\u001b[0m\n\u001b[0;32m----> 1\u001b[0;31m \u001b[0mmy_tuple\u001b[0m\u001b[0;34m[\u001b[0m\u001b[0;36m0\u001b[0m\u001b[0;34m]\u001b[0m \u001b[0;34m=\u001b[0m \u001b[0;36m0\u001b[0m \u001b[0;31m# а вот попытка изменить кортеж (заменить его элемент) выдает ошибку\u001b[0m\u001b[0;34m\u001b[0m\u001b[0;34m\u001b[0m\u001b[0m\n\u001b[0m",
            "\u001b[0;31mTypeError\u001b[0m: 'tuple' object does not support item assignment"
          ]
        }
      ],
      "source": [
        "my_tuple[0] = 0 # а вот попытка изменить кортеж (заменить его элемент) выдает ошибку"
      ]
    },
    {
      "cell_type": "markdown",
      "metadata": {
        "id": "390be1d0"
      },
      "source": [
        "Синтаксис словаря (на английскойм – *tuple*) выглядит так, а для его создания вам нужно использовать круглые скобки:\n",
        "\n",
        "```my_tuple = (1, 2, 3, 4, 5)```\n",
        "\n",
        "Вы можете также создать кортеж с помощью функции `tuple()`:\n",
        "\n",
        "```tuple([1, 2, 3, 4, 5])  # создаем кортеж из списка```\n",
        "\n",
        "Оба типа данных представляют собой последовательности, однако кортеж — это неизменяемый и более быстрый аналог списка. Он защищает хранимые данные от непреднамеренных изменений и может использоваться в качестве ключа в словарях."
      ]
    },
    {
      "cell_type": "code",
      "execution_count": null,
      "metadata": {
        "colab": {
          "base_uri": "https://localhost:8080/"
        },
        "id": "e825018c",
        "outputId": "5c92b1cc-3df6-4124-d1f3-cef9c8370aa1"
      },
      "outputs": [
        {
          "output_type": "stream",
          "name": "stdout",
          "text": [
            "0.0033723829999985355\n",
            "0.010176925999985542\n"
          ]
        }
      ],
      "source": [
        "import timeit # импортируем модуль timeit\n",
        "\n",
        "# измеряет, за сколько секунд запустится этот код number раз\n",
        "print(timeit.timeit('x = (1,2,3,4,5,6,7,8,9)', number=100000)) # когда создаем кортеж\n",
        "print(timeit.timeit('x = [1,2,3,4,5,6,7,8,9]', number=100000)) # когда создаем список"
      ]
    },
    {
      "cell_type": "markdown",
      "metadata": {
        "id": "1df2f336"
      },
      "source": [
        "Также, если функция возвращает несколько значений, то делает она это в виде кортежа."
      ]
    },
    {
      "cell_type": "code",
      "execution_count": null,
      "metadata": {
        "colab": {
          "base_uri": "https://localhost:8080/"
        },
        "id": "a08bbb3c",
        "outputId": "6d6ff621-03dd-4937-bb8a-e24119c02784"
      },
      "outputs": [
        {
          "output_type": "execute_result",
          "data": {
            "text/plain": [
              "(0.33999999999999986, 2.0)"
            ]
          },
          "metadata": {},
          "execution_count": 14
        }
      ],
      "source": [
        "import math     # импортируем модуль math\n",
        "math.modf(2.34) # к слову, как вы думаете, что делает эта функция?"
      ]
    },
    {
      "cell_type": "markdown",
      "metadata": {
        "id": "77045889"
      },
      "source": [
        "Методы `.index()`, `.count()` и функция `len()` работают как с кортежами, так и со списками."
      ]
    },
    {
      "cell_type": "code",
      "execution_count": null,
      "metadata": {
        "colab": {
          "base_uri": "https://localhost:8080/"
        },
        "id": "85698505",
        "outputId": "c814724e-7f23-4f42-e54d-be4b941ac48b"
      },
      "outputs": [
        {
          "output_type": "stream",
          "name": "stdout",
          "text": [
            "3\n",
            "1\n",
            "0\n"
          ]
        }
      ],
      "source": [
        "A = (1, 2, 4) # создаем кортеж A\n",
        "\n",
        "print(len(A)) # длина кортежа A\n",
        "print(A.count(1)) # сколько раз число 1 встречается в кортеже A\n",
        "print(A.index(1)) # возвращает индекс целого числа 1 в кортеже A"
      ]
    },
    {
      "cell_type": "markdown",
      "metadata": {
        "id": "5923d468"
      },
      "source": [
        "## Методы строк (`.join()` и `.split()`) <a name=\"par2\"></a>"
      ]
    },
    {
      "cell_type": "markdown",
      "metadata": {
        "id": "1e651a63"
      },
      "source": [
        "Со списками работает больше методов, все их обсудим позже. Пока остановимся только на двух, которые на данный момент могут представлять интерес, они оба имеют оношение к спискам, однако являются методами строк. Речь идет про `.join()` и `split()`.\n",
        "\n",
        "Чтобы создать список, нужно использовать квадратные скобки и поместить внутрь какие-то значения:\n",
        "\n",
        "```products = [\"яблоки\", \"бананы\", \"апельсины\"]```\n",
        "\n",
        "```numbers = [1, 2, 3]```\n",
        "\n",
        "Вы можете также создать список из кортежа с помощью функции `list()`. Например:\n",
        "\n",
        "```numbers = list((1, 2, 3)) # результат - [1, 2, 3]```\n",
        "\n",
        "Можно создать список из строки. Например:\n",
        "\n",
        "```list('abcde') # ['a', 'b', 'c', 'd', 'e']```"
      ]
    },
    {
      "cell_type": "markdown",
      "metadata": {
        "id": "b94ec599"
      },
      "source": [
        "Метод `.join()` из списка <b>строк</b> делает строку."
      ]
    },
    {
      "cell_type": "code",
      "execution_count": null,
      "metadata": {
        "colab": {
          "base_uri": "https://localhost:8080/",
          "height": 36
        },
        "id": "feaf843a",
        "outputId": "5fba40c5-9325-47ce-f20a-54c216d04119"
      },
      "outputs": [
        {
          "output_type": "execute_result",
          "data": {
            "text/plain": [
              "'яблоки, бананы, апельсины'"
            ],
            "application/vnd.google.colaboratory.intrinsic+json": {
              "type": "string"
            }
          },
          "metadata": {},
          "execution_count": 16
        }
      ],
      "source": [
        "products = [\"яблоки\", \"бананы\", \"апельсины\"] # внутри списка products только строки\n",
        "', '.join(products) # объединяем эти строки в списке в одну большую строку"
      ]
    },
    {
      "cell_type": "markdown",
      "metadata": {
        "id": "4b33b5d7"
      },
      "source": [
        "Фактически метод применяется к строке `', '` и говорит — используй эту строку в качестве разделителя между другими строками нашего списка."
      ]
    },
    {
      "cell_type": "code",
      "execution_count": null,
      "metadata": {
        "colab": {
          "base_uri": "https://localhost:8080/",
          "height": 146
        },
        "id": "eb832184",
        "outputId": "2a8ce8ae-5d18-40e2-e365-398526d47e55"
      },
      "outputs": [
        {
          "output_type": "error",
          "ename": "TypeError",
          "evalue": "sequence item 1: expected str instance, int found",
          "traceback": [
            "\u001b[0;31m---------------------------------------------------------------------------\u001b[0m",
            "\u001b[0;31mTypeError\u001b[0m                                 Traceback (most recent call last)",
            "\u001b[0;32m<ipython-input-17-e94ebff022aa>\u001b[0m in \u001b[0;36m<cell line: 1>\u001b[0;34m()\u001b[0m\n\u001b[0;32m----> 1\u001b[0;31m \u001b[0;34m', '\u001b[0m\u001b[0;34m.\u001b[0m\u001b[0mjoin\u001b[0m\u001b[0;34m(\u001b[0m\u001b[0;34m[\u001b[0m\u001b[0;34m\"яблоки\"\u001b[0m\u001b[0;34m,\u001b[0m \u001b[0;36m111\u001b[0m\u001b[0;34m,\u001b[0m \u001b[0;34m\"апельсины\"\u001b[0m\u001b[0;34m]\u001b[0m\u001b[0;34m)\u001b[0m \u001b[0;31m# ошибка TypeError\u001b[0m\u001b[0;34m\u001b[0m\u001b[0;34m\u001b[0m\u001b[0m\n\u001b[0m",
            "\u001b[0;31mTypeError\u001b[0m: sequence item 1: expected str instance, int found"
          ]
        }
      ],
      "source": [
        "', '.join([\"яблоки\", 111, \"апельсины\"]) # ошибка TypeError"
      ]
    },
    {
      "cell_type": "markdown",
      "metadata": {
        "id": "2b236a9d"
      },
      "source": [
        "Если же мы попытаемся объединить так список, состоящий не только из строк, то программа выдаст уже известную нам ошибку."
      ]
    },
    {
      "cell_type": "markdown",
      "metadata": {
        "id": "f81fe093"
      },
      "source": [
        "У этого метода есть еще пара нюансов, которые стоит запомнить. Помните про форматирование строки и f-строки? Попробуем подставить в такую запись `.join()`."
      ]
    },
    {
      "cell_type": "code",
      "execution_count": null,
      "metadata": {
        "colab": {
          "base_uri": "https://localhost:8080/",
          "height": 110
        },
        "id": "60f61551",
        "outputId": "00012ee8-7190-4822-9915-57bee2e64074"
      },
      "outputs": [
        {
          "output_type": "error",
          "ename": "SyntaxError",
          "evalue": "f-string: expecting '}' (<ipython-input-18-d0b3e6949be9>, line 1)",
          "traceback": [
            "\u001b[0;36m  File \u001b[0;32m\"<ipython-input-18-d0b3e6949be9>\"\u001b[0;36m, line \u001b[0;32m1\u001b[0m\n\u001b[0;31m    print(f'В магазине надо купить: {', '.join(products)}') # внутри одинарные кавычки\u001b[0m\n\u001b[0m                                      ^\u001b[0m\n\u001b[0;31mSyntaxError\u001b[0m\u001b[0;31m:\u001b[0m f-string: expecting '}'\n"
          ]
        }
      ],
      "source": [
        "print(f'В магазине надо купить: {', '.join(products)}') # внутри одинарные кавычки"
      ]
    },
    {
      "cell_type": "markdown",
      "metadata": {
        "id": "62f25b55"
      },
      "source": [
        "Это тот случай, где кавычки важны! Обратите внимание ошибка возникла потому, что f-строка подумала, что она заканчивается вот здесь `В магазине надо купить: {'` и при этом не нашла закрывающуюся скобочку `}`. Как решить проблему? Например, использовать в `.join()` двойные кавычки."
      ]
    },
    {
      "cell_type": "code",
      "execution_count": null,
      "metadata": {
        "colab": {
          "base_uri": "https://localhost:8080/"
        },
        "id": "cd0f6519",
        "outputId": "39032d1a-6036-45e0-c24e-8752df7aea4b"
      },
      "outputs": [
        {
          "output_type": "stream",
          "name": "stdout",
          "text": [
            "В магазине надо купить: яблоки, бананы, апельсины\n"
          ]
        }
      ],
      "source": [
        "print(f'В магазине надо купить: {\", \".join(products)}') # внутри двойные кавычки"
      ]
    },
    {
      "cell_type": "markdown",
      "metadata": {
        "id": "65dd8262"
      },
      "source": [
        "И второй нюанс в том, что визуально может быть похоже следующее:"
      ]
    },
    {
      "cell_type": "code",
      "execution_count": null,
      "metadata": {
        "colab": {
          "base_uri": "https://localhost:8080/"
        },
        "id": "92c191ad",
        "outputId": "c36fa5ab-3973-4d40-ea35-f0be9f9e9b7f"
      },
      "outputs": [
        {
          "output_type": "stream",
          "name": "stdout",
          "text": [
            "яблоки, бананы, апельсины\n",
            "яблоки, бананы, апельсины\n"
          ]
        }
      ],
      "source": [
        "print(\", \".join(products))   # печатаем строку\n",
        "print(*products, sep = ', ') # распаковываем список"
      ]
    },
    {
      "cell_type": "markdown",
      "metadata": {
        "id": "4269a86c"
      },
      "source": [
        "В первом случае у нас создается строка, во втором — мы просто распаковываем имеющийся список."
      ]
    },
    {
      "cell_type": "markdown",
      "metadata": {
        "id": "d9936193"
      },
      "source": [
        "Метод `split()` работает в обратную сторону — он буквально разделит нашу строку, и по умолчанию сделает это по пробелам.\n",
        "\n",
        "Вспомним наш список `years` из прошлой темы."
      ]
    },
    {
      "cell_type": "code",
      "execution_count": null,
      "metadata": {
        "colab": {
          "base_uri": "https://localhost:8080/"
        },
        "id": "679ca8b2",
        "outputId": "8baed06f-43cb-42cc-fe34-603fadb64073"
      },
      "outputs": [
        {
          "output_type": "stream",
          "name": "stdout",
          "text": [
            "1258   1638        1729   982\n",
            "['1258', '1638', '1729', '982']\n"
          ]
        }
      ],
      "source": [
        "years = input()        # вводим какое-то значение\n",
        "years = years.split()  # разбиваем строку (по умолчанию - по пробелу)\n",
        "print(years)           # печатаем получившийся результат"
      ]
    },
    {
      "cell_type": "markdown",
      "metadata": {
        "id": "c412485a"
      },
      "source": [
        "Во-первых, обращаем внимание, что убираются все пробелы между символами.\n",
        "\n",
        "Во-вторых, это все можно было записать в одну строку вот так:"
      ]
    },
    {
      "cell_type": "code",
      "execution_count": null,
      "metadata": {
        "colab": {
          "base_uri": "https://localhost:8080/"
        },
        "id": "e12e6191",
        "outputId": "83a35f54-db3e-4535-ceb2-5b05a2f36682"
      },
      "outputs": [
        {
          "output_type": "stream",
          "name": "stdout",
          "text": [
            "1258   1638        1729   982\n",
            "['1258', '1638', '1729', '982']\n"
          ]
        }
      ],
      "source": [
        "print(input().split()) # только тут у нас не создается переменная"
      ]
    },
    {
      "cell_type": "code",
      "execution_count": null,
      "metadata": {
        "colab": {
          "base_uri": "https://localhost:8080/"
        },
        "id": "93bfc69f",
        "outputId": "9c0e3a50-2dda-4f45-99e3-f4c4a7c4838b"
      },
      "outputs": [
        {
          "output_type": "stream",
          "name": "stdout",
          "text": [
            "1258   1638        1729   982\n",
            "['1258   1638        1729   982']\n"
          ]
        }
      ],
      "source": [
        "print(input().split(', ')) # а еще можно использовать другое разделитель - например, запятую с пробелом"
      ]
    },
    {
      "cell_type": "markdown",
      "metadata": {
        "id": "34da6d5d"
      },
      "source": [
        "Если тоже самое «разделить» по запятой с пробелом, то получится список, состоящий из одной строки. Однако, если бы в ней были `, `, то наш метод также бы разделил по ним строку.\n",
        "\n",
        "Вернемся к нашему списку `years` и попробуем вытащить оттуда максимальное значение:"
      ]
    },
    {
      "cell_type": "code",
      "execution_count": null,
      "metadata": {
        "colab": {
          "base_uri": "https://localhost:8080/",
          "height": 36
        },
        "id": "217c15c1",
        "outputId": "06560b91-2ead-4ff2-a18b-a50d5a986d9e"
      },
      "outputs": [
        {
          "output_type": "execute_result",
          "data": {
            "text/plain": [
              "'982'"
            ],
            "application/vnd.google.colaboratory.intrinsic+json": {
              "type": "string"
            }
          },
          "metadata": {},
          "execution_count": 58
        }
      ],
      "source": [
        "max(years)"
      ]
    },
    {
      "cell_type": "markdown",
      "metadata": {
        "id": "a5fbef4a"
      },
      "source": [
        "Ой, что-то пошло не так. Это связано с тем, что было вытащено максимальное/первое значение по алфавиту, ведь мы работаем со строками. Нужно попробовать переделать наш список в список целых чисел. Мы уже обсуждали, как сделать это через цикл `for`, а теперь давайте посмотрим на более быстрый способ с использованием функции `map()`."
      ]
    },
    {
      "cell_type": "markdown",
      "source": [
        "## Функция `map()`"
      ],
      "metadata": {
        "id": "kCpeyhXPTvLC"
      }
    },
    {
      "cell_type": "code",
      "execution_count": null,
      "metadata": {
        "id": "e9643e6a",
        "outputId": "c318c075-f435-4188-d69c-d42cc41bb149"
      },
      "outputs": [
        {
          "name": "stdout",
          "output_type": "stream",
          "text": [
            "['1258', '1638', '1729', '982']\n",
            "[1258, 1638, 1729, 982]\n"
          ]
        }
      ],
      "source": [
        "int_years_3 = list(map(int, years))\n",
        "print(years)\n",
        "print(int_years_3)"
      ]
    },
    {
      "cell_type": "markdown",
      "metadata": {
        "id": "a8f5ab06"
      },
      "source": [
        "Что тут произошло? Функция `map()` буквально говорит: возьми функцию `int()` и примени ее ко всем элементам нашего списка. Возвращает нам объект типа `map`, который потом мы уже преобразовываем в список с помощью функции `list()`.\n",
        "\n",
        "Функция `map()` может работать не только с встроенными функциями, но и с любыми другими, даже написанными именно нами."
      ]
    },
    {
      "cell_type": "code",
      "execution_count": null,
      "metadata": {
        "id": "d7ba1e3b",
        "outputId": "4519116d-b1f6-4f35-ebd1-560493a2884a"
      },
      "outputs": [
        {
          "name": "stdout",
          "output_type": "stream",
          "text": [
            "[1258, 1638, 1729, 982]\n",
            "[35.4682957019364, 40.47221268969612, 41.58124577258358, 31.336879231984796]\n"
          ]
        }
      ],
      "source": [
        "from math import sqrt\n",
        "\n",
        "sqrt_years = list(map(sqrt, int_years_3))\n",
        "\n",
        "print(int_years_3)\n",
        "print(sqrt_years)"
      ]
    },
    {
      "cell_type": "markdown",
      "metadata": {
        "id": "25c3b083"
      },
      "source": [
        "Например, возьмем квадратный корень из всех наших значений.\n",
        "\n",
        "В заключении скажем, что есть еще нечто, называемое безымянными функциями `lambda`, которые также работают с `map()`, но о них мы поговорим чуть позже, при обсуждении функций. Не переживаем, если все, что написано ниже, буде непонятно!! Мы разберемся со всем!"
      ]
    },
    {
      "cell_type": "code",
      "execution_count": null,
      "metadata": {
        "id": "e715c1e4",
        "outputId": "626ebba3-b0dc-4ab5-b3d9-24abe09a0fbb"
      },
      "outputs": [
        {
          "name": "stdout",
          "output_type": "stream",
          "text": [
            "[1258, 1638, 1729, 982]\n",
            "[1259, 1639, 1730, 983]\n"
          ]
        }
      ],
      "source": [
        "plus_one_years = list(map(lambda x: x + 1, int_years_3))\n",
        "\n",
        "print(int_years_3)\n",
        "print(plus_one_years)"
      ]
    },
    {
      "cell_type": "markdown",
      "metadata": {
        "id": "539ce6fb"
      },
      "source": [
        "А и началось же все с того, что мы хотели максимальный год достать. Вот он:"
      ]
    },
    {
      "cell_type": "code",
      "execution_count": null,
      "metadata": {
        "id": "c9d7b483",
        "outputId": "e29f0df8-818f-4211-c28b-f0123238f65b"
      },
      "outputs": [
        {
          "name": "stdout",
          "output_type": "stream",
          "text": [
            "1729\n"
          ]
        }
      ],
      "source": [
        "print(max(int_years))"
      ]
    },
    {
      "cell_type": "markdown",
      "source": [
        "А вообще-то нам функция `map()` нужна в основном для ввода списков и других последовательностей.\n",
        "\n",
        "Допустим, нам нужно ввести список из чисел и найти среди них максимальное."
      ],
      "metadata": {
        "id": "k4ygClltZdIH"
      }
    },
    {
      "cell_type": "code",
      "source": [
        "numbers = list(map(int, input().split()))\n",
        "print(max(numbers))"
      ],
      "metadata": {
        "colab": {
          "base_uri": "https://localhost:8080/"
        },
        "id": "Qd_xnDP4aB56",
        "outputId": "f1561cab-bf20-4a5f-d3e4-7f2f9ef4f1f6"
      },
      "execution_count": 1,
      "outputs": [
        {
          "output_type": "stream",
          "name": "stdout",
          "text": [
            "1 5 3 2 4\n",
            "5\n"
          ]
        }
      ]
    },
    {
      "cell_type": "markdown",
      "source": [
        "Что тут происходит?\n",
        "\n",
        "1. Применяем функцию ввода – `input()`.\n",
        "2. *Разделяем (сплитим)* то, что ввели.\n",
        "3. Применяем ко *всему* введённому (к каждому из полученных элементов) функцию `int` – в этом нам поможет `map()`.\n",
        "4. Преобразуем полученное в `list` одноимённой функцией."
      ],
      "metadata": {
        "id": "dmgYQkh7ad1f"
      }
    },
    {
      "cell_type": "markdown",
      "source": [
        "Если мы вводим не через пробел, а через какой-то другой разделитель, можно прописать его в `split()`:"
      ],
      "metadata": {
        "id": "PnlKN_j0bmTH"
      }
    },
    {
      "cell_type": "code",
      "source": [
        "numbers = list(map(int, input().split(',')))\n",
        "print(max(numbers))"
      ],
      "metadata": {
        "colab": {
          "base_uri": "https://localhost:8080/"
        },
        "id": "_hpK4X1rbvFq",
        "outputId": "704f9339-248f-4930-e6fe-99cb176f3f76"
      },
      "execution_count": 2,
      "outputs": [
        {
          "output_type": "stream",
          "name": "stdout",
          "text": [
            "1,5,3,2,4\n",
            "5\n"
          ]
        }
      ]
    },
    {
      "cell_type": "markdown",
      "source": [
        "Или можно преобразовывать в `tuple`, если нам это для чего-то нужно."
      ],
      "metadata": {
        "id": "6QCxUSRwb2DY"
      }
    },
    {
      "cell_type": "code",
      "source": [
        "numbers = tuple(map(int, input().split(',')))\n",
        "print(max(numbers))"
      ],
      "metadata": {
        "colab": {
          "base_uri": "https://localhost:8080/"
        },
        "id": "sTFL-HQRb9Ih",
        "outputId": "274a054f-8a93-4197-c2c3-427c43263be2"
      },
      "execution_count": 3,
      "outputs": [
        {
          "output_type": "stream",
          "name": "stdout",
          "text": [
            "1,5,3,2,4\n",
            "5\n"
          ]
        }
      ]
    },
    {
      "cell_type": "markdown",
      "metadata": {
        "id": "b4dcdaaa"
      },
      "source": [
        "## Методы списков <a name=\"par6\"></a>"
      ]
    },
    {
      "cell_type": "markdown",
      "metadata": {
        "id": "5b9dc3b2"
      },
      "source": [
        "Сейчас перечислим те методы, которые были упомянуты в онлайн-курсе, и методы, которые есть еще. И коротко о том, как они работают.\n",
        "\n",
        "|Есть в онлайн-курсе | Все остальное |\n",
        "|:--------------:|:-----:|\n",
        "| `.append()` |  `.extend()` |\n",
        "| `.count()`      |  `.insert()` |\n",
        "| `.remove()`      |  `.pop()` |\n",
        "| `.index()`      |  `.sort()` |\n",
        "|     |  `.reverse()` |\n",
        "|     |  `.copy()` |\n",
        "|     |  `.clear()` |\n",
        "\n",
        "Почти все они <u>изменяют исходный список</u>."
      ]
    },
    {
      "cell_type": "code",
      "execution_count": null,
      "metadata": {
        "id": "93369786",
        "outputId": "8b703a2e-a3e0-4846-d09e-5e429c9a4fa7"
      },
      "outputs": [
        {
          "name": "stdout",
          "output_type": "stream",
          "text": [
            "[1, 2, 3, 4, 5, 6, 7, 8]\n"
          ]
        }
      ],
      "source": [
        "# Метод .extend() добавляет в конец списка А все элементы списка B\n",
        "\n",
        "A = [1, 2, 3, 4]\n",
        "B = [5, 6, 7, 8]\n",
        "\n",
        "A.extend(B)\n",
        "\n",
        "print(A)"
      ]
    },
    {
      "cell_type": "code",
      "execution_count": null,
      "metadata": {
        "id": "354212f6",
        "outputId": "fc2978ff-a542-45b6-de92-04f5fa92a62b"
      },
      "outputs": [
        {
          "name": "stdout",
          "output_type": "stream",
          "text": [
            "[1, 2, 'new', 3, 4]\n"
          ]
        }
      ],
      "source": [
        "# Метод .insert() добавляет в список А на место определенного индекса (2) новый элемент (строку 'new')\n",
        "\n",
        "A = [1, 2, 3, 4]\n",
        "\n",
        "A.insert(2, 'new')\n",
        "\n",
        "print(A)"
      ]
    },
    {
      "cell_type": "code",
      "execution_count": null,
      "metadata": {
        "id": "d60548dc",
        "outputId": "50c99ae8-a9ea-433a-f4c6-7119f58b3662"
      },
      "outputs": [
        {
          "name": "stdout",
          "output_type": "stream",
          "text": [
            "3\n",
            "[1, 2, 4]\n"
          ]
        }
      ],
      "source": [
        "# Метод .pop() удаляет i-ый (2) элемент из списка А и возвращает его.\n",
        "# Если индекс не указан, удаляется последний элемент\n",
        "\n",
        "A = [1, 2, 3, 4]\n",
        "\n",
        "get_element = A.pop(2)\n",
        "\n",
        "print(get_element)\n",
        "print(A)"
      ]
    },
    {
      "cell_type": "code",
      "execution_count": null,
      "metadata": {
        "id": "0ebef480",
        "outputId": "b79e59b2-2c73-493d-e8a9-102370706f52"
      },
      "outputs": [
        {
          "name": "stdout",
          "output_type": "stream",
          "text": [
            "[1, 2, 3, 4]\n",
            "[8, 7, 6, 5]\n"
          ]
        }
      ],
      "source": [
        "# Метод .sort() сортирует список А\n",
        "# Метод .reverse() разворачивает список В\n",
        "\n",
        "A = [1, 2, 3, 4]\n",
        "B = [5, 6, 7, 8]\n",
        "\n",
        "A.sort()\n",
        "B.reverse()\n",
        "\n",
        "print(A)\n",
        "print(B)"
      ]
    },
    {
      "cell_type": "code",
      "execution_count": null,
      "metadata": {
        "id": "1a98d5e6",
        "outputId": "621a8ca2-2d92-4820-83a1-a1532f366a9b"
      },
      "outputs": [
        {
          "name": "stdout",
          "output_type": "stream",
          "text": [
            "[]\n",
            "[1, 2, 3, 4]\n"
          ]
        }
      ],
      "source": [
        "# Метод .copy() создает копию списка A\n",
        "# Метод .clear() очищает список А\n",
        "\n",
        "A = [1, 2, 3, 4]\n",
        "\n",
        "B = A.copy()\n",
        "A.clear()\n",
        "\n",
        "print(A) # будет пустым\n",
        "print(B) # а тут лежит копия"
      ]
    },
    {
      "cell_type": "markdown",
      "metadata": {
        "id": "441e623a"
      },
      "source": [
        "Не путайте списки с массивами (если кто-то встречался с таким словом). Массивы ограничены тем, что содержат в себе только один тип данных за раз, а в списках может быть сразу несколько. Возможно, чуть позже будет отдельный конспект именно по массивам."
      ]
    },
    {
      "cell_type": "markdown",
      "metadata": {
        "id": "5a0da71e"
      },
      "source": [
        "<center><b><font size=4>Задача №1</font></b></center>\n",
        "\n",
        "**Напишите программу, которая будет спрашивать у пользователя фамилии друзей, с которыми он общался за последнюю неделю и выводит справочную информацию о ваших друзьях:**\n",
        "\n",
        "* Информация считывается с помощью функции `input()`;\n",
        "\n",
        "* Отсортировать значения вы можете с помощью функции `sorted()`;\n",
        "\n",
        "* Фамилии ваших друзей будут разделены запятой с пробелом;\n",
        "\n",
        "* Гарантируется, что будут введены только строки.\n",
        "\n",
        "**Ориентируйтесь на тесты ниже:**\n",
        "<center>\n",
        "    <table>\n",
        "        <tr>\n",
        "            <th><center>Ввод</center></th>\n",
        "            <th><center>Результат</center></th>\n",
        "        </tr>\n",
        "        <tr><td><p>Музыка, Морозов, Егерева</p></td>\n",
        "            <td><p>За последнюю неделю вы общались с 3 друзьями.</p>\n",
        "<p>Отсортированный список ваших друзей: ['Егерева', 'Морозов', 'Музыка']</p></td></tr>\n",
        "        <tr><td>Федоров, Смирнов, Иванов, Потапов, Кузнецов</td>\n",
        "            <td><p>За последнюю неделю вы общались с 5 друзьями.</p>\n",
        "                <p>Отсортированный список ваших друзей: ['Иванов', 'Кузнецов', 'Потапов', 'Смирнов', 'Федоров'</p></td></tr>\n",
        "        <tr><td>        \n",
        "            <p>Сато, Като, Ёсида, Исикава, Ито, Оота</p></td>\n",
        "            <td><p>За последнюю неделю вы общались с 6 друзьями.</p>\n",
        "<p>Отсортированный список ваших друзей: ['Ёсида', 'Исикава', 'Ито', 'Като', 'Оота', 'Сато']</p></td></tr>\n",
        "    </table>\n",
        "</center>"
      ]
    },
    {
      "cell_type": "code",
      "execution_count": null,
      "metadata": {
        "id": "f888f2d5"
      },
      "outputs": [],
      "source": [
        "#YOUR CODE HERE"
      ]
    },
    {
      "cell_type": "markdown",
      "source": [
        "## P.S. Парочка методов строк"
      ],
      "metadata": {
        "id": "MZk0xiwqP1sw"
      }
    },
    {
      "cell_type": "code",
      "source": [
        "s = 'Столица США - Вашингтон'\n",
        "print(s)"
      ],
      "metadata": {
        "colab": {
          "base_uri": "https://localhost:8080/"
        },
        "id": "j_NmzwxXP8XM",
        "outputId": "2adcd294-9719-494d-c789-1219dfab3dfe"
      },
      "execution_count": null,
      "outputs": [
        {
          "output_type": "stream",
          "name": "stdout",
          "text": [
            "Столица США - Вашингтон\n"
          ]
        }
      ]
    },
    {
      "cell_type": "code",
      "source": [
        "s1 = s.lower()\n",
        "print(s1)"
      ],
      "metadata": {
        "colab": {
          "base_uri": "https://localhost:8080/"
        },
        "id": "6nQ-I0vxQKle",
        "outputId": "ac5f38e4-7d49-427a-c59c-c1d6b0a40790"
      },
      "execution_count": null,
      "outputs": [
        {
          "output_type": "stream",
          "name": "stdout",
          "text": [
            "столица сша - вашингтон\n"
          ]
        }
      ]
    },
    {
      "cell_type": "code",
      "source": [
        "s2 = s.upper()\n",
        "print(s2)"
      ],
      "metadata": {
        "colab": {
          "base_uri": "https://localhost:8080/"
        },
        "id": "sbLPOEFXQU8R",
        "outputId": "1c0dfd99-07a0-4047-e2f9-f1d39b32795a"
      },
      "execution_count": null,
      "outputs": [
        {
          "output_type": "stream",
          "name": "stdout",
          "text": [
            "СТОЛИЦА США - ВАШИНГТОН\n"
          ]
        }
      ]
    },
    {
      "cell_type": "code",
      "source": [
        "s3 = s1.replace('-', '')\n",
        "print(s3)"
      ],
      "metadata": {
        "colab": {
          "base_uri": "https://localhost:8080/"
        },
        "id": "fKDpjZLfQYMG",
        "outputId": "e2436561-692e-435a-e3c5-a5f4a0dbf924"
      },
      "execution_count": null,
      "outputs": [
        {
          "output_type": "stream",
          "name": "stdout",
          "text": [
            "столица сша  вашингтон\n"
          ]
        }
      ]
    },
    {
      "cell_type": "code",
      "source": [
        "zaklyatie_smekhom = 'О, рассмейтесь, смехачи!\\nО, засмейтесь, смехачи!\\nЧто смеются смехами, что смеянствуют смеяльно,\\nО, засмейтесь усмеяльно!\\nО, рассмешищ надсмеяльных — смех усмейных смехачей!\\nО, иссмейся рассмеяльно, смех надсмейных смеячей!\\nСмейево, смейево!\\nУсмей, осмей, смешики, смешики!\\nСмеюнчики, смеюнчики.\\nО, рассмейтесь, смехачи!\\nО, засмейтесь, смехачи!'"
      ],
      "metadata": {
        "id": "ZIgmVh9ei3ch"
      },
      "execution_count": null,
      "outputs": []
    },
    {
      "cell_type": "code",
      "source": [
        "from collections import Counter # функция для подсчёта частот\n",
        "zaklyatie_list = zaklyatie_smekhom.split()\n",
        "zaklyatie_list\n",
        "Counter(zaklyatie_list)\n",
        "\n",
        "# что надо исправить?"
      ],
      "metadata": {
        "colab": {
          "base_uri": "https://localhost:8080/"
        },
        "id": "_RJfolf8jPhN",
        "outputId": "26d4f6be-ec3c-4d96-9add-fd6671050dd7"
      },
      "execution_count": null,
      "outputs": [
        {
          "output_type": "execute_result",
          "data": {
            "text/plain": [
              "Counter({'О,': 7,\n",
              "         'рассмейтесь,': 2,\n",
              "         'смехачи!': 4,\n",
              "         'засмейтесь,': 2,\n",
              "         'Что': 1,\n",
              "         'смеются': 1,\n",
              "         'смехами,': 1,\n",
              "         'что': 1,\n",
              "         'смеянствуют': 1,\n",
              "         'смеяльно,': 1,\n",
              "         'засмейтесь': 1,\n",
              "         'усмеяльно!': 1,\n",
              "         'рассмешищ': 1,\n",
              "         'надсмеяльных': 1,\n",
              "         '—': 1,\n",
              "         'смех': 2,\n",
              "         'усмейных': 1,\n",
              "         'смехачей!': 1,\n",
              "         'иссмейся': 1,\n",
              "         'рассмеяльно,': 1,\n",
              "         'надсмейных': 1,\n",
              "         'смеячей!': 1,\n",
              "         'Смейево,': 1,\n",
              "         'смейево!': 1,\n",
              "         'Усмей,': 1,\n",
              "         'осмей,': 1,\n",
              "         'смешики,': 1,\n",
              "         'смешики!': 1,\n",
              "         'Смеюнчики,': 1,\n",
              "         'смеюнчики.': 1})"
            ]
          },
          "metadata": {},
          "execution_count": 7
        }
      ]
    }
  ]
}