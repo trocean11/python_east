{
  "cells": [
    {
      "cell_type": "markdown",
      "source": [
        "# Программирование на Python\n",
        "\n",
        "*Авторы: Анастасия Паршина, Дарья Касьяненко, Лика Капустина, Даниил Трошин — НИУ ВШЭ*"
      ],
      "metadata": {
        "id": "xv2sYZFNvEnp"
      },
      "id": "xv2sYZFNvEnp"
    },
    {
      "cell_type": "markdown",
      "id": "ac19a257",
      "metadata": {
        "id": "ac19a257"
      },
      "source": [
        "# Часть 1. Основные типы данных. Создание переменных. Основные ошибки.\n",
        "\n",
        "## План\n",
        "\n",
        "* Функции и вывод данных\n",
        "* Основные типы данных: число, текст\n",
        "* Действия с основными типами данных\n",
        "* Переменные\n",
        "* Ввод данных\n",
        "* Немного об ошибках\n",
        "* Разметка Markdown в Jupyter Notebook"
      ]
    },
    {
      "cell_type": "markdown",
      "metadata": {
        "id": "0ddcb484"
      },
      "source": [
        "### Где мы будем работать?\n",
        "\n",
        "Jupyter Notebook - интерактивная среда для запуска программного кода в браузере. Удобный инструмент, который используется многими специалистами по data science.\n",
        "\n",
        "![](https://media2.giphy.com/media/2IudUHdI075HL02Pkk/giphy.gif?cid=ecf05e47ty9lob0kw3ifr0d4xrcpwag7oarei12devpt0bpz&ep=v1_gifs_search&rid=giphy.gif&ct=g)"
      ],
      "id": "0ddcb484"
    },
    {
      "cell_type": "markdown",
      "metadata": {
        "id": "23941ae8"
      },
      "source": [
        "###  Меньше текста, больше кода\n",
        "\n",
        "**Напутствие**:\n",
        "- *главное не бояться пробовать писать код*\n",
        "- *каким бы неправильным он ни казался*\n",
        "- *скорее всего, ничего такого, что бы не починилось, в рамках Jupyter Notebook вы сделать не сможете*\n",
        "\n",
        "**Краткая инструкция на все случаи жизни**:\n",
        "- Как создать новую ячейку?\n",
        "\n",
        "> Просто нажать кнопку `+` (*insert cell below*) на панели меню выше.\n",
        "\n",
        "- Как запустить код в ячейке?\n",
        "\n",
        "> Выделить ячейку и нажать кнопку `Run`/ `Запуск` или `Ctrl + Enter`(Windows), `Cmd + Enter`(Mac) *(см. Help - Keyboard Shortcuts)*. Также можно запустить все ячейки сразу (`Run All Cells`), или все ДО выбранной (`Run All Above Selected Cell`), или все ПОСЛЕ выбранной (`Run Selected Cell and All Below`).\n",
        "\n",
        "- Как понять, что код успешно выполнен?\n",
        "\n",
        "> Под ячейкой не появились сообщения об ошибках + поле `In []` / `Ввод []` слева от ячейки содержит число, а не символ `*`.\n",
        "\n",
        "- Что делать, если код не хочет успешно выполняться, поле слева выглядит вот так `In [*]` / `Ввод [*]` и вообще всё зависло аааа помогите\n",
        "<img src=\"https://media4.giphy.com/media/YBf4bJkA2Ns17oix5x/giphy.gif\" style=\"width: 300px;\"/>\n",
        "\n",
        "> Для прерывания выполнения кода можно попробовать нажать кнопку `■` (*interrupt the kernel*) в панели наверху, либо перезапустить весь проект, нажав соседнюю кнопку (*restart the kernel*).\n"
      ],
      "id": "23941ae8"
    },
    {
      "cell_type": "markdown",
      "metadata": {
        "id": "c3481f74"
      },
      "source": [
        "## Функции и вывод на экран\n",
        "\n",
        "В дальнейшем вы часто будете использовать _функции_ из Python или из специализированных Python-модулей.\n",
        "\n",
        "_Функция_ -- это какой-то скрытый от вас программный код, который можно применять для решения конкретной задачи.\n",
        "\n",
        "Например, познакомимся с функцией `print`:\n",
        "- нужна для того, чтобы выводить на экран текст / числа / что угодно ещё\n",
        "- формат вызова: `print(<первое, что хотите вывести на экран>, <второе, что хотите вывести на экран>, ...)`\n",
        "\n",
        "То, что перечисляется внутри скобок и разделяется запятыми, называется *аргументами* или _входами_ функции"
      ],
      "id": "c3481f74"
    },
    {
      "cell_type": "markdown",
      "metadata": {
        "id": "eb4a56ad"
      },
      "source": [
        "<img src=\"https://i.ibb.co/12sSpRd/Untitled-Frame-1-11.jpg\" alt=\"Drawing\" style=\"width: 800px;\"/>"
      ],
      "id": "eb4a56ad"
    },
    {
      "cell_type": "markdown",
      "metadata": {
        "id": "781866e2"
      },
      "source": [
        "Для начала сделаем классику – выведем текст \"Hello world!\"\n",
        "\n",
        "Обычно это первый пример программы в учебниках по программированию, и для многих студентов такая программа является первым опытом при изучении нового языка. Одно из значений фразы – программа, начиная работу, как бы рождается и приветствует мир, в который она приходит."
      ],
      "id": "781866e2"
    },
    {
      "cell_type": "code",
      "execution_count": null,
      "metadata": {
        "id": "8f66e705",
        "outputId": "2ac6e066-b97b-4b7e-c01d-250fc25c9a83"
      },
      "outputs": [
        {
          "name": "stdout",
          "output_type": "stream",
          "text": [
            "Hello, world!\n"
          ]
        }
      ],
      "source": [
        "print('Hello, world!')"
      ],
      "id": "8f66e705"
    },
    {
      "cell_type": "markdown",
      "metadata": {
        "id": "6af4c4bc"
      },
      "source": [
        "Попробуем вывести результат сложения чисел 42 и 146:"
      ],
      "id": "6af4c4bc"
    },
    {
      "cell_type": "code",
      "execution_count": null,
      "metadata": {
        "id": "aaa8e501",
        "outputId": "8b777d26-2eb0-428a-e69f-69fa0c70ac97"
      },
      "outputs": [
        {
          "name": "stdout",
          "output_type": "stream",
          "text": [
            "188\n"
          ]
        }
      ],
      "source": [
        "print(42+146)\n",
        "# всё, что пишется за знаком #, воспринимается как комментарий и не выполняется в рамках программы"
      ],
      "id": "aaa8e501"
    },
    {
      "cell_type": "markdown",
      "metadata": {
        "id": "21abed7a"
      },
      "source": [
        "## Типы данных: Целые числа — INT (INTEGER)"
      ],
      "id": "21abed7a"
    },
    {
      "cell_type": "markdown",
      "metadata": {
        "id": "d1a44ebd"
      },
      "source": [
        "Python сам понимает, какой тип у данных. Однако, можно так же и запросить у него данную информацию"
      ],
      "id": "d1a44ebd"
    },
    {
      "cell_type": "code",
      "execution_count": null,
      "metadata": {
        "id": "fd5993bc",
        "outputId": "c876ff14-3bd1-4e23-d874-a7816585bab9"
      },
      "outputs": [
        {
          "name": "stdout",
          "output_type": "stream",
          "text": [
            "<class 'int'>\n"
          ]
        }
      ],
      "source": [
        "print(type(5)) # `type` - это, конечно, тоже функция"
      ],
      "id": "fd5993bc"
    },
    {
      "cell_type": "markdown",
      "metadata": {
        "id": "7ebcc29b"
      },
      "source": [
        "Разумеется, в python представлены все возможные арифметические операции:"
      ],
      "id": "7ebcc29b"
    },
    {
      "cell_type": "code",
      "execution_count": null,
      "metadata": {
        "id": "3c0fb3b4",
        "outputId": "2cb315e7-a463-4e95-cc55-cd2a22544fcc"
      },
      "outputs": [
        {
          "name": "stdout",
          "output_type": "stream",
          "text": [
            "6\n",
            "2\n"
          ]
        }
      ],
      "source": [
        "# сложение\n",
        "print(4 + 2)\n",
        "# вычитание\n",
        "print(4 - 2)"
      ],
      "id": "3c0fb3b4"
    },
    {
      "cell_type": "code",
      "execution_count": null,
      "metadata": {
        "id": "12d34c84",
        "outputId": "4f0728c1-ad0a-4d7e-add5-19c37e91b802"
      },
      "outputs": [
        {
          "name": "stdout",
          "output_type": "stream",
          "text": [
            "8\n",
            "2.0\n",
            "1\n"
          ]
        }
      ],
      "source": [
        "# умножение\n",
        "print(4 * 2)\n",
        "# деление\n",
        "print(4 / 2)\n",
        "# взятие остатка от деления\n",
        "print(3 % 2)"
      ],
      "id": "12d34c84"
    },
    {
      "cell_type": "code",
      "execution_count": null,
      "metadata": {
        "id": "f2c7a60a",
        "outputId": "9632dad4-c664-4e71-bbf7-26bba30016e6"
      },
      "outputs": [
        {
          "name": "stdout",
          "output_type": "stream",
          "text": [
            "9\n",
            "1.7320508075688772\n"
          ]
        }
      ],
      "source": [
        "# возведение в степень\n",
        "print(3 ** 2)\n",
        "# взятие корня aka возведение в дробную степень\n",
        "print(3 ** (1 / 2))"
      ],
      "id": "f2c7a60a"
    },
    {
      "cell_type": "markdown",
      "metadata": {
        "id": "29da8466"
      },
      "source": [
        "Заметим, что здесь у нас в ответах получились не только целые числа, но и дроби."
      ],
      "id": "29da8466"
    },
    {
      "cell_type": "markdown",
      "metadata": {
        "id": "727c030b"
      },
      "source": [
        "## Типы данных: Вещественные (действительные) числа — FLOAT"
      ],
      "id": "727c030b"
    },
    {
      "cell_type": "code",
      "execution_count": null,
      "metadata": {
        "id": "36fd4ce0",
        "outputId": "281fa8c3-7dac-4c40-d407-05105bd3e056"
      },
      "outputs": [
        {
          "data": {
            "text/plain": [
              "float"
            ]
          },
          "execution_count": 28,
          "metadata": {},
          "output_type": "execute_result"
        }
      ],
      "source": [
        "type(1.5)"
      ],
      "id": "36fd4ce0"
    },
    {
      "cell_type": "markdown",
      "metadata": {
        "id": "3998fd93"
      },
      "source": [
        "На что обратить внимание:\n",
        "- числа с десятичной частью, например, $1.43$, в отличие от Excel, в Python пишутся не через запятую `,`, а через точку `.`.\n",
        "\n",
        "Почувствуйте разницу:"
      ],
      "id": "3998fd93"
    },
    {
      "cell_type": "code",
      "execution_count": null,
      "metadata": {
        "id": "7635af06",
        "outputId": "38e2bae1-e139-4116-951b-b2bdf1914b2f"
      },
      "outputs": [
        {
          "name": "stdout",
          "output_type": "stream",
          "text": [
            "2 3.0\n",
            "2 3.0\n",
            "1.3\n"
          ]
        }
      ],
      "source": [
        "print(2,6 / 2)  # печатает два числа\n",
        "print(2, 6 / 2)  # и так тоже два числа, пробел в данном случае неважен\n",
        "print(2.6 / 2)  # печатает одно число"
      ],
      "id": "7635af06"
    },
    {
      "cell_type": "markdown",
      "metadata": {
        "id": "415d96dc"
      },
      "source": [
        "Также не стоит путать целочисленное и обычное деление:"
      ],
      "id": "415d96dc"
    },
    {
      "cell_type": "code",
      "execution_count": null,
      "metadata": {
        "id": "d789872d",
        "outputId": "adcbaf17-be78-4603-f37f-843c221500e4"
      },
      "outputs": [
        {
          "name": "stdout",
          "output_type": "stream",
          "text": [
            "2.25\n",
            "2\n",
            "1\n"
          ]
        }
      ],
      "source": [
        "print(9 / 4)  # печатает ожидаемый дробный результат\n",
        "print(9 // 4)  # целочисленное деление\n",
        "print(9 % 4)  # остаток от (целочисленного) деления"
      ],
      "id": "d789872d"
    },
    {
      "cell_type": "markdown",
      "source": [
        "Результатом операции `/` всегда будет дробное число (`float`), даже если нам удалось разделить нацело."
      ],
      "metadata": {
        "id": "ylw-ZybNBwfY"
      },
      "id": "ylw-ZybNBwfY"
    },
    {
      "cell_type": "code",
      "source": [
        "print(9 / 9)\n",
        "print(type(9 / 9))"
      ],
      "metadata": {
        "colab": {
          "base_uri": "https://localhost:8080/"
        },
        "id": "KIC7UFVjB-rk",
        "outputId": "a3b01f27-196a-4121-9a7c-11a5eced4ac2"
      },
      "execution_count": null,
      "outputs": [
        {
          "output_type": "stream",
          "name": "stdout",
          "text": [
            "1.0\n",
            "<class 'float'>\n"
          ]
        }
      ],
      "id": "KIC7UFVjB-rk"
    },
    {
      "cell_type": "markdown",
      "source": [
        "А результатом операций `//` и `%` – всегда целое (`int`)."
      ],
      "metadata": {
        "id": "8Rb0G9ngCGEK"
      },
      "id": "8Rb0G9ngCGEK"
    },
    {
      "cell_type": "code",
      "source": [
        "print(9 // 9)\n",
        "print(type(9 // 9))"
      ],
      "metadata": {
        "colab": {
          "base_uri": "https://localhost:8080/"
        },
        "id": "nB8_Wl7nCifi",
        "outputId": "ed6bfeee-a6f5-45a5-d306-2062ee3dec3c"
      },
      "execution_count": null,
      "outputs": [
        {
          "output_type": "stream",
          "name": "stdout",
          "text": [
            "1\n",
            "<class 'int'>\n"
          ]
        }
      ],
      "id": "nB8_Wl7nCifi"
    },
    {
      "cell_type": "code",
      "source": [
        "print(9 % 9)\n",
        "print(type(9 % 9))"
      ],
      "metadata": {
        "colab": {
          "base_uri": "https://localhost:8080/"
        },
        "id": "GpDvgcFpCn6H",
        "outputId": "1c5de35d-0b23-463b-8e25-e993a1ea18d9"
      },
      "execution_count": null,
      "outputs": [
        {
          "output_type": "stream",
          "name": "stdout",
          "text": [
            "0\n",
            "<class 'int'>\n"
          ]
        }
      ],
      "id": "GpDvgcFpCn6H"
    },
    {
      "cell_type": "markdown",
      "metadata": {
        "id": "40bf1a5a"
      },
      "source": [
        "### Пример целочисленного деления\n",
        "\n",
        "У нас есть пирог на компанию из 4 человек. Курьер привез пирог, разрезанный на 9 частей.\n",
        "\n",
        "`9 // 4 = 2`\n",
        "\n",
        "Каждому человеку достанется 2 куска пирога, и у нас останется еще 1.\n",
        "\n",
        "`9 % 4 = 1`\n",
        "\n",
        "<img src = 'https://upload.wikimedia.org/wikipedia/commons/thumb/0/05/Pie_division.svg/440px-Pie_division.svg.png' style=\"height: 400px;\">"
      ],
      "id": "40bf1a5a"
    },
    {
      "cell_type": "markdown",
      "metadata": {
        "id": "dd546029"
      },
      "source": [
        "Иногда результаты могут быть довольно неожиданные. Может показаться, что python совершенно не умеет считать:"
      ],
      "id": "dd546029"
    },
    {
      "cell_type": "code",
      "execution_count": null,
      "metadata": {
        "id": "96b69a4f",
        "outputId": "895a9c6a-2a4b-4aea-90e5-99e1b751104e"
      },
      "outputs": [
        {
          "name": "stdout",
          "output_type": "stream",
          "text": [
            "0.30000000000000004\n"
          ]
        }
      ],
      "source": [
        "print(0.1+0.2)"
      ],
      "id": "96b69a4f"
    },
    {
      "cell_type": "markdown",
      "metadata": {
        "id": "32d560a9"
      },
      "source": [
        "https://0.30000000000000004.com/ – есть даже целый сайт, который объясняет, что ваш язык программирования не сломан, это просто \"floating point math\"."
      ],
      "id": "32d560a9"
    },
    {
      "cell_type": "markdown",
      "metadata": {
        "id": "931370ad"
      },
      "source": [
        "## Типы данных: Строки (текст) — STR (STRING)"
      ],
      "id": "931370ad"
    },
    {
      "cell_type": "markdown",
      "metadata": {
        "id": "dc0c089c"
      },
      "source": [
        "С помощью `print` можно печатать не только числа. Например, текст:\n",
        "- текстовая строка в питоне – это любое выражение, заключённое в двойные `\"` или одинарные `'` кавычки\n",
        "- с точки зрения пользователя ничем не отличается от привычного текста\n",
        "\n",
        "Например:"
      ],
      "id": "dc0c089c"
    },
    {
      "cell_type": "code",
      "execution_count": null,
      "metadata": {
        "id": "2b5d04a7",
        "outputId": "f2f34f68-81c2-44c7-e5b8-d33097d6a326"
      },
      "outputs": [
        {
          "name": "stdout",
          "output_type": "stream",
          "text": [
            "Моё имя:\n"
          ]
        }
      ],
      "source": [
        "print('Моё имя:')"
      ],
      "id": "2b5d04a7"
    },
    {
      "cell_type": "code",
      "execution_count": null,
      "metadata": {
        "id": "8083a5a2",
        "outputId": "cb2e168c-3a4d-495e-9f94-4601279270a2"
      },
      "outputs": [
        {
          "data": {
            "text/plain": [
              "str"
            ]
          },
          "execution_count": 40,
          "metadata": {},
          "output_type": "execute_result"
        }
      ],
      "source": [
        "type('Моё имя:')"
      ],
      "id": "8083a5a2"
    },
    {
      "cell_type": "markdown",
      "metadata": {
        "id": "ce45dd01"
      },
      "source": [
        "Ещё строки можно\n",
        "- складывать (склеивать)\n",
        "- умножать на число (раскопировать n-ное кол-во раз)\n",
        "- использовать встроенные методы (об этом поговорим попозже)"
      ],
      "id": "ce45dd01"
    },
    {
      "cell_type": "code",
      "execution_count": null,
      "metadata": {
        "id": "75b20d08",
        "outputId": "ee777925-ee61-4f81-d737-22c4de05e96c"
      },
      "outputs": [
        {
          "name": "stdout",
          "output_type": "stream",
          "text": [
            "Перваяпара\n"
          ]
        }
      ],
      "source": [
        "print('Первая' + 'пара')"
      ],
      "id": "75b20d08"
    },
    {
      "cell_type": "code",
      "execution_count": null,
      "metadata": {
        "id": "fbc06aa4",
        "outputId": "f0c40371-64f4-4a15-d2af-bc23c86f9b28"
      },
      "outputs": [
        {
          "name": "stdout",
          "output_type": "stream",
          "text": [
            "Первая пара\n"
          ]
        }
      ],
      "source": [
        "print('Первая', 'пара')"
      ],
      "id": "fbc06aa4"
    },
    {
      "cell_type": "code",
      "execution_count": null,
      "metadata": {
        "id": "36847469"
      },
      "outputs": [],
      "source": [
        "?print"
      ],
      "id": "36847469"
    },
    {
      "cell_type": "code",
      "execution_count": null,
      "metadata": {
        "id": "7cf0a7a3",
        "outputId": "fd5e70f1-de85-4130-8529-134af42a1df0"
      },
      "outputs": [
        {
          "name": "stdout",
          "output_type": "stream",
          "text": [
            "У меня проблемапроблемапроблемапроблемапроблемапроблемапроблемапроблемапроблемапроблемапроблемапроблемапроблемапроблемапроблемапроблемапроблемапроблемапроблемапроблема\n"
          ]
        }
      ],
      "source": [
        "print('У меня '+ 'проблема'*20)"
      ],
      "id": "7cf0a7a3"
    },
    {
      "cell_type": "code",
      "execution_count": null,
      "metadata": {
        "id": "a9290666",
        "outputId": "710dd376-eb0d-4cd6-9fd9-26d0268e1e70"
      },
      "outputs": [
        {
          "name": "stdout",
          "output_type": "stream",
          "text": [
            "how\n",
            "how are\n",
            "howhowhow\n",
            " are areyou?\n"
          ]
        }
      ],
      "source": [
        "print('how')\n",
        "print('how' + ' ' + 'are')\n",
        "print('how' * 3)\n",
        "print(' are' * 2 + 'you?')"
      ],
      "id": "a9290666"
    },
    {
      "cell_type": "markdown",
      "source": [
        "При этом вычитать и делить строки, конечно же, нельзя – но в этом и нет смысла."
      ],
      "metadata": {
        "id": "qbLPaji5Dw32"
      },
      "id": "qbLPaji5Dw32"
    },
    {
      "cell_type": "code",
      "source": [
        "print('how' - 'are')"
      ],
      "metadata": {
        "colab": {
          "base_uri": "https://localhost:8080/",
          "height": 146
        },
        "id": "-wbQMGTGD5-1",
        "outputId": "2f5348a8-6b01-46e1-ef7f-528ddf5a63b3"
      },
      "execution_count": null,
      "outputs": [
        {
          "output_type": "error",
          "ename": "TypeError",
          "evalue": "unsupported operand type(s) for -: 'str' and 'str'",
          "traceback": [
            "\u001b[0;31m---------------------------------------------------------------------------\u001b[0m",
            "\u001b[0;31mTypeError\u001b[0m                                 Traceback (most recent call last)",
            "\u001b[0;32m<ipython-input-5-3c88bf67c63a>\u001b[0m in \u001b[0;36m<cell line: 0>\u001b[0;34m()\u001b[0m\n\u001b[0;32m----> 1\u001b[0;31m \u001b[0mprint\u001b[0m\u001b[0;34m(\u001b[0m\u001b[0;34m'how'\u001b[0m \u001b[0;34m-\u001b[0m \u001b[0;34m'are'\u001b[0m\u001b[0;34m)\u001b[0m\u001b[0;34m\u001b[0m\u001b[0;34m\u001b[0m\u001b[0m\n\u001b[0m",
            "\u001b[0;31mTypeError\u001b[0m: unsupported operand type(s) for -: 'str' and 'str'"
          ]
        }
      ],
      "id": "-wbQMGTGD5-1"
    },
    {
      "cell_type": "code",
      "source": [
        "print('how' / 3)"
      ],
      "metadata": {
        "colab": {
          "base_uri": "https://localhost:8080/",
          "height": 146
        },
        "id": "nUCunvcqD_Cb",
        "outputId": "63f4e0f4-5463-42db-d4d2-b9e9d39028b2"
      },
      "execution_count": null,
      "outputs": [
        {
          "output_type": "error",
          "ename": "TypeError",
          "evalue": "unsupported operand type(s) for /: 'str' and 'int'",
          "traceback": [
            "\u001b[0;31m---------------------------------------------------------------------------\u001b[0m",
            "\u001b[0;31mTypeError\u001b[0m                                 Traceback (most recent call last)",
            "\u001b[0;32m<ipython-input-6-864816b964ee>\u001b[0m in \u001b[0;36m<cell line: 0>\u001b[0;34m()\u001b[0m\n\u001b[0;32m----> 1\u001b[0;31m \u001b[0mprint\u001b[0m\u001b[0;34m(\u001b[0m\u001b[0;34m'how'\u001b[0m \u001b[0;34m/\u001b[0m \u001b[0;36m3\u001b[0m\u001b[0;34m)\u001b[0m\u001b[0;34m\u001b[0m\u001b[0;34m\u001b[0m\u001b[0m\n\u001b[0m",
            "\u001b[0;31mTypeError\u001b[0m: unsupported operand type(s) for /: 'str' and 'int'"
          ]
        }
      ],
      "id": "nUCunvcqD_Cb"
    },
    {
      "cell_type": "markdown",
      "metadata": {
        "id": "b4f553db"
      },
      "source": [
        "На что обратить внимание:\n",
        "- выражение `1` это число\n",
        "- выражение `'1'` это строка\n",
        "\n",
        "Почувствуйте разницу:"
      ],
      "id": "b4f553db"
    },
    {
      "cell_type": "code",
      "execution_count": null,
      "metadata": {
        "id": "17cc4717",
        "outputId": "2bc7b312-7be7-4c80-987f-4f22b124cc34"
      },
      "outputs": [
        {
          "name": "stdout",
          "output_type": "stream",
          "text": [
            "3\n",
            "12\n",
            "12\n"
          ]
        }
      ],
      "source": [
        "print(1 + 2)  # печатает число\n",
        "print('1' + '2')  # печатает результат склеивания строк\n",
        "print(str(1) + str(2))  # функция str преобразует аргумент в строку"
      ],
      "id": "17cc4717"
    },
    {
      "cell_type": "code",
      "source": [
        "print('1' + 2) # а так не получится - мы не можем складывать данные разных типов"
      ],
      "metadata": {
        "id": "q9JuNhAw-TKe",
        "colab": {
          "base_uri": "https://localhost:8080/",
          "height": 146
        },
        "outputId": "e76b681b-467c-4a2b-9106-e5ba85119cc7"
      },
      "id": "q9JuNhAw-TKe",
      "execution_count": null,
      "outputs": [
        {
          "output_type": "error",
          "ename": "TypeError",
          "evalue": "can only concatenate str (not \"int\") to str",
          "traceback": [
            "\u001b[0;31m---------------------------------------------------------------------------\u001b[0m",
            "\u001b[0;31mTypeError\u001b[0m                                 Traceback (most recent call last)",
            "\u001b[0;32m<ipython-input-15-04173d2ac31c>\u001b[0m in \u001b[0;36m<cell line: 0>\u001b[0;34m()\u001b[0m\n\u001b[0;32m----> 1\u001b[0;31m \u001b[0mprint\u001b[0m\u001b[0;34m(\u001b[0m\u001b[0;34m'1'\u001b[0m \u001b[0;34m+\u001b[0m \u001b[0;36m2\u001b[0m\u001b[0;34m)\u001b[0m \u001b[0;31m# а так не получится - мы не можем складывать данные разных типов\u001b[0m\u001b[0;34m\u001b[0m\u001b[0;34m\u001b[0m\u001b[0m\n\u001b[0m",
            "\u001b[0;31mTypeError\u001b[0m: can only concatenate str (not \"int\") to str"
          ]
        }
      ]
    },
    {
      "cell_type": "markdown",
      "source": [
        "Да, на самом деле `int`, `float` и `str` – это не только типы данных, но и функции (которые переводят свои аргументы в соответствующие типы данных). Посмотрим, как это работает."
      ],
      "metadata": {
        "id": "OHxpW5KGE3A7"
      },
      "id": "OHxpW5KGE3A7"
    },
    {
      "cell_type": "code",
      "execution_count": null,
      "metadata": {
        "id": "ed59e83a",
        "outputId": "360849a9-d78a-4196-f049-4bd61d3d8490"
      },
      "outputs": [
        {
          "data": {
            "text/plain": [
              "1"
            ]
          },
          "execution_count": 50,
          "metadata": {},
          "output_type": "execute_result"
        }
      ],
      "source": [
        "int('1')"
      ],
      "id": "ed59e83a"
    },
    {
      "cell_type": "code",
      "execution_count": null,
      "metadata": {
        "id": "e221bf08",
        "outputId": "7d6bab72-b854-4a82-f439-7cb6b00b3a63"
      },
      "outputs": [
        {
          "data": {
            "text/plain": [
              "'1'"
            ]
          },
          "execution_count": 51,
          "metadata": {},
          "output_type": "execute_result"
        }
      ],
      "source": [
        "str(1)"
      ],
      "id": "e221bf08"
    },
    {
      "cell_type": "code",
      "execution_count": null,
      "metadata": {
        "id": "e8af80e6",
        "outputId": "75d83ee8-080b-4f9e-f425-377bea7aa7ee"
      },
      "outputs": [
        {
          "data": {
            "text/plain": [
              "1.0"
            ]
          },
          "execution_count": 52,
          "metadata": {},
          "output_type": "execute_result"
        }
      ],
      "source": [
        "float(1)"
      ],
      "id": "e8af80e6"
    },
    {
      "cell_type": "code",
      "execution_count": null,
      "metadata": {
        "id": "0fec8f9a",
        "outputId": "79023b45-f0e7-4ec8-d918-ff99d9f8c3d7"
      },
      "outputs": [
        {
          "data": {
            "text/plain": [
              "1.0"
            ]
          },
          "execution_count": 53,
          "metadata": {},
          "output_type": "execute_result"
        }
      ],
      "source": [
        "float('1')"
      ],
      "id": "0fec8f9a"
    },
    {
      "cell_type": "code",
      "execution_count": null,
      "metadata": {
        "id": "dd22a277",
        "outputId": "a135c784-8073-4358-9051-c03f392d29ad"
      },
      "outputs": [
        {
          "data": {
            "text/plain": [
              "'4.5'"
            ]
          },
          "execution_count": 54,
          "metadata": {},
          "output_type": "execute_result"
        }
      ],
      "source": [
        "str(4.5)"
      ],
      "id": "dd22a277"
    },
    {
      "cell_type": "code",
      "execution_count": null,
      "metadata": {
        "id": "5f9cbd4e",
        "outputId": "e7b6ae81-8f5c-4694-877a-ab5ec4881bff"
      },
      "outputs": [
        {
          "name": "stdout",
          "output_type": "stream",
          "text": [
            "9hello\n"
          ]
        }
      ],
      "source": [
        "print(str(4+5) + 'hello')"
      ],
      "id": "5f9cbd4e"
    },
    {
      "cell_type": "markdown",
      "metadata": {
        "id": "10c93a2f"
      },
      "source": [
        "## Переменные"
      ],
      "id": "10c93a2f"
    },
    {
      "cell_type": "markdown",
      "metadata": {
        "id": "ee9631a0"
      },
      "source": [
        "В Python мы можем записывать в переменные какие-либо значения (или наборы значений):"
      ],
      "id": "ee9631a0"
    },
    {
      "cell_type": "code",
      "execution_count": null,
      "metadata": {
        "id": "07280e73"
      },
      "outputs": [],
      "source": [
        "number = 99\n",
        "my_name = 'Python'"
      ],
      "id": "07280e73"
    },
    {
      "cell_type": "code",
      "execution_count": null,
      "metadata": {
        "id": "40c5b441",
        "outputId": "4d7eda14-e3a4-4e42-b073-da0b433f282a"
      },
      "outputs": [
        {
          "name": "stdout",
          "output_type": "stream",
          "text": [
            "99\n",
            "Python\n"
          ]
        }
      ],
      "source": [
        "print(number)\n",
        "print(my_name)"
      ],
      "id": "40c5b441"
    },
    {
      "cell_type": "code",
      "execution_count": null,
      "metadata": {
        "id": "51833244"
      },
      "outputs": [],
      "source": [
        "number = 10"
      ],
      "id": "51833244"
    },
    {
      "cell_type": "code",
      "execution_count": null,
      "metadata": {
        "id": "38cf413c",
        "outputId": "4715a021-fb7e-47e1-af62-778f865c409c"
      },
      "outputs": [
        {
          "name": "stdout",
          "output_type": "stream",
          "text": [
            "10\n"
          ]
        }
      ],
      "source": [
        "print(number)"
      ],
      "id": "38cf413c"
    },
    {
      "cell_type": "markdown",
      "metadata": {
        "id": "6780c3ab"
      },
      "source": [
        "Если мы будем реализовывать какие-то действия с переменными, то они будут осуществляться со значениями, которые записаны в эти переменные:"
      ],
      "id": "6780c3ab"
    },
    {
      "cell_type": "code",
      "execution_count": null,
      "metadata": {
        "id": "3d03b121",
        "outputId": "28b98a90-d736-457f-cdee-a0d07369a2a7",
        "scrolled": false
      },
      "outputs": [
        {
          "name": "stdout",
          "output_type": "stream",
          "text": [
            "PythonPythonPythonPythonPythonPythonPythonPythonPythonPython\n"
          ]
        }
      ],
      "source": [
        "print(number*my_name)"
      ],
      "id": "3d03b121"
    },
    {
      "cell_type": "code",
      "execution_count": null,
      "metadata": {
        "id": "2243f445",
        "outputId": "345601b7-03bc-4294-de3f-724fd39c6db7"
      },
      "outputs": [
        {
          "data": {
            "text/plain": [
              "int"
            ]
          },
          "execution_count": 67,
          "metadata": {},
          "output_type": "execute_result"
        }
      ],
      "source": [
        "type(number)"
      ],
      "id": "2243f445"
    },
    {
      "cell_type": "code",
      "execution_count": null,
      "metadata": {
        "id": "9ee0f6ca",
        "outputId": "e4d31173-cb6a-427f-cab8-b913c3d625ff"
      },
      "outputs": [
        {
          "data": {
            "text/plain": [
              "str"
            ]
          },
          "execution_count": 68,
          "metadata": {},
          "output_type": "execute_result"
        }
      ],
      "source": [
        "type(my_name)"
      ],
      "id": "9ee0f6ca"
    },
    {
      "cell_type": "markdown",
      "metadata": {
        "id": "f00cf1c5"
      },
      "source": [
        "И пара слов о том, а какие имена переменных допустимы. Предположим, я хочу назвать переменную `1qwerty` — проверим, получится или нет:"
      ],
      "id": "f00cf1c5"
    },
    {
      "cell_type": "code",
      "execution_count": null,
      "metadata": {
        "id": "d9a4ffc6",
        "outputId": "b2df9d63-f0af-4c39-fd2c-ec2c2a90b453"
      },
      "outputs": [
        {
          "ename": "SyntaxError",
          "evalue": "invalid decimal literal (271193151.py, line 1)",
          "output_type": "error",
          "traceback": [
            "\u001b[0;36m  Cell \u001b[0;32mIn[7], line 1\u001b[0;36m\u001b[0m\n\u001b[0;31m    1qwerty = 2\u001b[0m\n\u001b[0m    ^\u001b[0m\n\u001b[0;31mSyntaxError\u001b[0m\u001b[0;31m:\u001b[0m invalid decimal literal\n"
          ]
        }
      ],
      "source": [
        "1qwerty = 2"
      ],
      "id": "d9a4ffc6"
    },
    {
      "cell_type": "markdown",
      "metadata": {
        "id": "2a94e2b1"
      },
      "source": [
        "Выдается ошибка `SyntaxError`, которая явно свидетельствует, что что-то с названием переменной не так. Но тогда, как можно называть переменные, а как нельзя?\n",
        "\n",
        "Переменные в  Python подчиняются следующим правилам:\n",
        "\n",
        "+ имя переменной может содержать только буквенно-цифровые символы и символы подчеркивания (A-Za-z, 0-9 и _)\n",
        "+ имя переменной <u>должно</u> начинаться с буквы или символа подчеркивания\n",
        "+ имя переменной <u>не может</u> начинаться с цифры\n",
        "+ в имени переменной <u>не должно</u> быть пробелов\n",
        "+ имя <u>не должно</u> совпадать со служебными (зарезервированными) словами в Python\n",
        "\n",
        "Список зарезервированных слов можно узнать так:"
      ],
      "id": "2a94e2b1"
    },
    {
      "cell_type": "code",
      "execution_count": null,
      "metadata": {
        "id": "d1ee8d23",
        "outputId": "dc0605da-7acc-489d-ed85-d88274f8d018"
      },
      "outputs": [
        {
          "name": "stdout",
          "output_type": "stream",
          "text": [
            "['False', 'None', 'True', 'and', 'as', 'assert', 'async', 'await', 'break', 'class', 'continue', 'def', 'del', 'elif', 'else', 'except', 'finally', 'for', 'from', 'global', 'if', 'import', 'in', 'is', 'lambda', 'nonlocal', 'not', 'or', 'pass', 'raise', 'return', 'try', 'while', 'with', 'yield']\n"
          ]
        }
      ],
      "source": [
        "import keyword\n",
        "print(keyword.kwlist)"
      ],
      "id": "d1ee8d23"
    },
    {
      "cell_type": "markdown",
      "metadata": {
        "id": "7aa6f643"
      },
      "source": [
        "+ имена переменных чувствительны к регистру\n",
        "+ рекомендуется давать переменным осмысленные названия"
      ],
      "id": "7aa6f643"
    },
    {
      "cell_type": "markdown",
      "metadata": {
        "id": "d489c20f"
      },
      "source": [
        "## Ввод данных\n",
        "\n",
        "Чтобы мы могли передать данные нашей программе существует функция `input()`, которая при запуске выводит окошко для ввода текста.\n",
        "После того, как вы ввели в окошке текст, нужно нажать клавишу `Enter`. Функция отработает и положит в переменную все то, что вы напечатали в окошке."
      ],
      "id": "d489c20f"
    },
    {
      "cell_type": "code",
      "execution_count": null,
      "metadata": {
        "scrolled": true,
        "id": "4722cb7e",
        "outputId": "b1840744-dcda-497f-ac7a-2fff38588713"
      },
      "outputs": [
        {
          "name": "stdout",
          "output_type": "stream",
          "text": [
            "Ольга\n"
          ]
        }
      ],
      "source": [
        "name = input()"
      ],
      "id": "4722cb7e"
    },
    {
      "cell_type": "code",
      "execution_count": null,
      "metadata": {
        "id": "c6db3e95",
        "outputId": "adf740cf-3ee1-4277-a846-02df6ed06db7"
      },
      "outputs": [
        {
          "data": {
            "text/plain": [
              "str"
            ]
          },
          "execution_count": 79,
          "metadata": {},
          "output_type": "execute_result"
        }
      ],
      "source": [
        "type(name) # по умолчанию функция input() сохраняет в переменную все введенное в формате `str`"
      ],
      "id": "c6db3e95"
    },
    {
      "cell_type": "code",
      "execution_count": null,
      "metadata": {
        "id": "729a663b",
        "outputId": "ad1378f2-e3dc-4197-93a5-3cc1df658592"
      },
      "outputs": [
        {
          "name": "stdout",
          "output_type": "stream",
          "text": [
            "10\n"
          ]
        }
      ],
      "source": [
        "age = input()"
      ],
      "id": "729a663b"
    },
    {
      "cell_type": "code",
      "execution_count": null,
      "metadata": {
        "id": "ef96e4f9",
        "outputId": "53cdc7bd-54a9-419b-b2d8-ddbc36393bd4"
      },
      "outputs": [
        {
          "ename": "TypeError",
          "evalue": "can only concatenate str (not \"int\") to str",
          "output_type": "error",
          "traceback": [
            "\u001b[0;31m---------------------------------------------------------------------------\u001b[0m",
            "\u001b[0;31mTypeError\u001b[0m                                 Traceback (most recent call last)",
            "\u001b[0;32m/var/folders/qc/dzy0dz5x47q2yd53pdc35csr0000gn/T/ipykernel_19442/2121917004.py\u001b[0m in \u001b[0;36m<module>\u001b[0;34m\u001b[0m\n\u001b[0;32m----> 1\u001b[0;31m \u001b[0mage\u001b[0m \u001b[0;34m+\u001b[0m \u001b[0;36m1\u001b[0m\u001b[0;34m\u001b[0m\u001b[0;34m\u001b[0m\u001b[0m\n\u001b[0m",
            "\u001b[0;31mTypeError\u001b[0m: can only concatenate str (not \"int\") to str"
          ]
        }
      ],
      "source": [
        "age + 1"
      ],
      "id": "ef96e4f9"
    },
    {
      "cell_type": "markdown",
      "source": [
        "Видим ошибку, связанную с тем, что `age` – строка (нельзя складывать строки и числа). Вот тут-то нам и пригодится функция `int`, которая поможет перевести наш ввод в число"
      ],
      "metadata": {
        "id": "eMGUkcXjFWPJ"
      },
      "id": "eMGUkcXjFWPJ"
    },
    {
      "cell_type": "code",
      "execution_count": null,
      "metadata": {
        "id": "b0304e22",
        "outputId": "8598639f-a9ca-43be-f661-e8d5c84cfa99",
        "colab": {
          "base_uri": "https://localhost:8080/"
        }
      },
      "outputs": [
        {
          "name": "stdout",
          "output_type": "stream",
          "text": [
            "10\n"
          ]
        }
      ],
      "source": [
        "age = int(input())"
      ],
      "id": "b0304e22"
    },
    {
      "cell_type": "code",
      "execution_count": null,
      "metadata": {
        "id": "7bc8eb6f",
        "outputId": "d00b4439-6b13-4e66-a0df-16c731a1512a",
        "colab": {
          "base_uri": "https://localhost:8080/"
        }
      },
      "outputs": [
        {
          "output_type": "execute_result",
          "data": {
            "text/plain": [
              "11"
            ]
          },
          "metadata": {},
          "execution_count": 9
        }
      ],
      "source": [
        "age + 1"
      ],
      "id": "7bc8eb6f"
    },
    {
      "cell_type": "markdown",
      "source": [
        "Так же работает и функция `float`."
      ],
      "metadata": {
        "id": "P9Q_fk8mF3BD"
      },
      "id": "P9Q_fk8mF3BD"
    },
    {
      "cell_type": "code",
      "execution_count": null,
      "metadata": {
        "id": "c86b722f",
        "colab": {
          "base_uri": "https://localhost:8080/"
        },
        "outputId": "8cef61e0-a6d8-4302-8a6e-6311b56e34a0"
      },
      "outputs": [
        {
          "name": "stdout",
          "output_type": "stream",
          "text": [
            "10.5\n"
          ]
        }
      ],
      "source": [
        "age = float(input())"
      ],
      "id": "c86b722f"
    },
    {
      "cell_type": "code",
      "source": [
        "age + 1"
      ],
      "metadata": {
        "colab": {
          "base_uri": "https://localhost:8080/"
        },
        "id": "vDVPpFIjF-8b",
        "outputId": "cedcd0b0-6821-403f-cedd-0c999d0e9e46"
      },
      "execution_count": null,
      "outputs": [
        {
          "output_type": "execute_result",
          "data": {
            "text/plain": [
              "11.5"
            ]
          },
          "metadata": {},
          "execution_count": 11
        }
      ],
      "id": "vDVPpFIjF-8b"
    },
    {
      "cell_type": "markdown",
      "source": [
        "**Важно запомнить**: при вводе мы всегда пишем `input()`, но в зависимости от типа данных навешиваем на него те или иные функции.\n",
        "\n",
        "Сейчас нам важно, что:\n",
        "* ввод строки – это просто `input()`\n",
        "* ввод целого числа – `int(input())`\n",
        "* ввод дробного числа – `float(input())`"
      ],
      "metadata": {
        "id": "CY-Ty5TUGAvt"
      },
      "id": "CY-Ty5TUGAvt"
    },
    {
      "cell_type": "markdown",
      "metadata": {
        "id": "706ce05a"
      },
      "source": [
        "**Задание №1**\n",
        "\n",
        "Сохраните в переменную `number` число ваших полных лет.\n",
        "\n",
        "Напечатайте на каждой отдельной строке:\n",
        "1. Сколько полных лет вам будет через 10 лет;\n",
        "2. Сколько полных лет вам было 5 лет назад;\n",
        "3. Какое число получится, если разделить ваш возраст на 3;"
      ],
      "id": "706ce05a"
    },
    {
      "cell_type": "code",
      "execution_count": null,
      "metadata": {
        "id": "7c71d6d0"
      },
      "outputs": [],
      "source": [
        "# YOUR CODE HERE"
      ],
      "id": "7c71d6d0"
    },
    {
      "cell_type": "markdown",
      "id": "d84165ba",
      "metadata": {
        "id": "d84165ba"
      },
      "source": [
        "## Изменяемые (mutable) и неизменяемые (immutable) типы данных <a name=\"par2\"></a>"
      ]
    },
    {
      "cell_type": "markdown",
      "source": [
        "Мы с вами будем потихоньку узнавать разные типы данных в Python, но пока можно ознакомиться с основными из них по этой схеме."
      ],
      "metadata": {
        "id": "dQfiEiGGKAxe"
      },
      "id": "dQfiEiGGKAxe"
    },
    {
      "cell_type": "markdown",
      "metadata": {
        "id": "89woPohPhPnU"
      },
      "source": [
        "![python-data-types.jpg](data:image/jpeg;base64,/9j/4QAC/+EAAv/bAIQABwUFBgUEBwYFBggHBwgKEQsKCQkKFQ8QDBEYFRoZGBUYFxseJyEbHSUdFxgiLiIlKCkrLCsaIC8zLyoyJyorKgEHCAgKCQoUCwsUKhwYHCoqKioqKioqKioqKioqKioqKioqKioqKioqKioqKioqKioqKioqKioqKioqKioqKioq/8IAEQgCGwJqAwEiAAIRAQMRAf/EADMAAQACAwEBAQAAAAAAAAAAAAAFBgMEBwECCAEBAQEBAQEAAAAAAAAAAAAAAAIBAwQF/9oADAMBAAIQAxAAAAD9IgAAAAAAAAAAAAAAAAAAAAAAAAAAAAAAAAAAAAAAAAAAAAAAAAAAAAAAAAAAAAAAAAAwQeKz3MInDYNOCDTmizRTmMh0z9kGnDYNOCAn63P5mUTQAAAAAAAAAAAAAAAAAAAAAAAAAAAAFUtdUtd4EaAol7pnbnC456H9XGftlVtXk7hysCs2GvWGpyiaAAAAAAAAAAAAAAAAAAAAAAAAAAAAGKdqNypNuxsNdebDXGw19fNkFY0+He5tb30efYa42GuIGxViz1OUTQAAAAAAAAAAAAAAAAAAAAAAAAAAACO+t3y9KtMxOz7eO610VsNcbEdspqs6lxeb1ZfvXevx7DXGw1xEWymXO5yiKAAAAAAAAAAAAAAAAAAMdbrLQrjcsauCxq4LGrgsauCxq4LGrgsaAn51gzx/n6Z9k6Tq0LocD2iqLerKgt4qC3ioLeKgt4qC3ioe24RNzhZuKCdAAAAAAAAAAAAAAAAAAq1kqtuufRFAAAAAAVWzVed3PJDBn8/QO8VqxVe13gRrQ36H0iUktOvdY6G59IRVxwc91LnqjHk83YCt2Cu2GpyiaAAAAAAAAAAAAAAAAAAqFtpd0rKBKaEf7PPLWnl1lnbJo0rfbaK7587lq+6pF5vSYfTjJ2yWHm3QIquTUPM/N9Mk03SdxpiAtdKunePXg9plyXPtAvzXOtHqbrHIbFfB8ZPHm6+vBWrDXrDU5RNAAAAAAAAAAAAAAAAADwoF2pNu57p5th2mOgLguYnY3k7o6U2IL6m25oe7zNq9sxivTletXG9xqbYF5VLHXJu82Gujdhr/ACQ2SAl/n/RsWlBffbj8WSPiJq5Nd7PFsNcQlmqlrqcomgAAAAAAAAAAAAAAAAEdIxvC4ORkOd+rleFGF5UYXlRheVGF5UYXlRheVG9JW70a+Gptfcd4u0iPVzq29vUG5uSlm3RSxdFLF0UsXRSxdFLF0Uv0lrjSbzj6E6AAAAAAAAAAAAAAAAB8afxJcLx1/wAsXq5QKwm15YflkA07TWQSwpqvLDE7mosLNrywiDnK3YMZMeRFaW7qZvPftf8ALF7OMCsJteWEV5YRXlhFeTmpuRyws2vLCIOcrdgxkE6AAAAAAAAAAAAAAAAMWNKS0t3ldUtdUtfp5hGtbZwbnIbDq4fpeWS2tT551n+9eQzbmPD6AKzYa9YanKJpHSPzyqrWui3q5Uq60H089jS+sfflt6G9sNx6MlXNyZipKJrNmRw/E7ZbBW7J5O9ZsNesMsomgAAAAAAAAAAAAAAAEbJRvC5IxdpqFzotzxnYK7l2lA7mJJFNyVYK+2zoeOmrSiPaiWaWapgbDWbNcZRNAU+31Wx7mdgZudgGdHR/PpYYLe1rmYVKzRWdgdOedgEDYazZqnKJoAAAAAAAAAAAAAAADBjwSXC0Vk3Z2sTcNvezjt16Yce0JisDl1odimviLxwcnIduELWr+4eiq/VobmpKaz0+WItdOuPXnlEUBVJuG3rnbayK2WsMlZsTl2gNmWRVKv0JJZuy1np82y1hEWunXG5yiKAAAAAiaDEda9vn5y6UneaulDmrpQ5q6UOaulDmrpQ5q6UOaulDmvvSfkjrBxDs3K9ba80/m+nY3T089Kg9JgO0VNbFZU1sFTWwVNbBU1sFTWwVP21iFvMVLxQToGlQel/FZzV0hrm7pA5u6QObukDm7pA5u6QOb+9HFJvPvsgzQAAAAOOdi472L18OV2ej2LtF9rFbz8rkrXRcLOj4qLiir9k5zuF0od2h2pqnwXSL5J8svM7MyPE+2c7451LlvR+W7UlrbXn7B2iuzlatdyEUAjtGqd+fSlWwTtwcs6mBysCt2Cu2G5yiKAAAAAAAAAAAAAAAA452LjvYvXwr9geebty+1z+frFY2p1FVnDbG5BJ1O61Jv7UFAXxuVfBbxQr6TvHukUboni677QdG+0BB2ukXbtHrwevBH8x687c+VTV7VnOOkeOd+vHOvXgrVhr1hqcomgAAAAAAAAAAAAAAAON9j452P18A8ncCEonVqJ6uNl+aXrVlvnqhSDpuxU5Cdte1AT/n6hOgce6RzXo/NOtXarQrKpY65N3mw10bsQUhA8PRKS9YmtzW3KjK8us/GYK+WiWrE/147DXduMJZqpa6nKJoAAAAAAAAAAAAAAADjfY+Ldo9nD0ePuAiZZuc2sFpdY53cJRm1PYsgjpE50GaBxzqXJuxduWrJa+n8/1So9XKq7+7Qbm5qUbdYmARVo8rDNukfW25ddWqNyyyFKNuqle1MvcaTecfQnQAAAAAAAAAAAAAAAK3z/sj0cuNuyLnjbsg427IONuyDjbsg427IONuyDjbsg427IKdcTz9Y3a1ZLx9tLdjt2s+oDyc9XKEWE2vLCK8ksu5EJXcxXlhNrywivLCIiXrdgxkE6B8weOcuYhOmwSdj2aSc9IJM4yKTpsEnRBezgipWt2DGQToAAAAAAAAAAAAAAAGDHtxvC5KKlcVZWbXRb10kNAc+1fcX0fLYdbHF86xdEpV1jZAeXuBWbDXrDU5RNAVS11S13gRvnH+u839XHycrMn25yOhZucztlk46GJ+60e8efqHHpWbDXrDU5RNAAAAAAAAAAAAAAAAI2SxcqytLdrKXdKpZOk52CF59LCrW/NSyC+SfYIy4mkNhm59WtjNnUFLXzgLDWbN055RND5xUbhRbnO52BeZ2CKmpxDZ82SRzckadYY/WnbMC+edgTUBYazZqnKJoAAAAAAAAAAAAAAAACNko2S4XVJyEkvVz2IGWjfN31pnS2srR15LJO7MNn9qfZHQ2rihdBj9zl2iLBDSHTnD2un3Dv58omkdmzeXpWZyEkvby2WsjdlrCEhbd8eP3Qib9ZHfEpmuNxrPT5dlrCHtdPuFTlE0AAAAAAAAAAAAAAAAB8ae/G8LUTpdd9XKseWVWVpZRWllFaWUVpZRWllFa9snpCX+ImYpjyR3n6ZN0rI2idLrvfnWPLKrK0sorSyitLKK0sorSyite2T0hL/ETMUE6AAAAAAAAAAAAAAAAAjpHznVdnaTfLkNAAAAAAVuwV2a3PNrX2/N1D0c67OVq13IRQBFxlzZPul7N5a3NOlyDnYFbsFdsNzlEUAAAAAAAAAAAAAAAAABQ75TblO83vlNgPf5um7PK5GavmfmMzK6YqZWadg1KHjx1DR5d0Gdk9jkFrrJKRjpT5Prkmm6zuNMQFrpV17wABGUjpTrHPIrrDpPO+iHKw50BWbDXrDU5RNAAAAAAAAAAAAAAAAAAVSxV2cuahJTqsrOzOjl1um9i5rPzaEVE5pBO13FZ1ZWpjdZsFMwVh83TfYM94FZVLJW5y82IaRr3m9Ex9RmxNSWhvwdTuTFTn8aMvB683Lwn188utsa73eCDs1UtdTlE0AAAAAAAAAAAAAAAAABVZLNRLm6qZ426KWLopYuili6KWLopYuil+ktcKHf8zRkEf4+0gPVzqslmolzdY2veRdn14BlXTWqiot+tWWbaM9QauGhXmLopftzLXCh3/M+hNAAAAAAAAAAAAAAAAAAMOYaraGq2hqtoaraGq2hqtoaraHx9gwZ07rbOhu8a9gPuS9fODWcVhZxWFnFYWcVhYM7Kws5tY9swjJOtWLH2J0AAAAAAAAAAAAAAAAAAAAAAAAAAABHSOLjdZtdIu/WA05n0yp9+cNaIWD7c7Pjruzub2xp1is6nJ12xeL0BFVmw16w1OUTQAAAAAAAAAAAAAAAAAAAAAAAAAAAAFMudUspmYYmanMUJNNyR+3E7kbYtfJWbWvswk7PfejoTs6iJHcr9hrVl6c8omgAAAAAAAAAAAAAAAAAAAAAAAAAAAAKpOwUpebNdmYfzejWs8J7F/OjZMB7H/eRkxE+bXXnT7zDyHLrEWOClL5w9qqFv9HnyiaAAAAAAAAAAAAAAAAAAAAAAAAAAAAAiaV0rTrKMubVMXMUxcxTFzFMXMUxcxTPbl6U3oOPPIM0AAAAAAAAAAAAAAAAAAAAAAAAAAAAAAAAAAAAAAAAD//EAD4QAAEDAgMEBwYFBAICAwEAAAMBAgQABRESFAYTVFUVIDEzUFJTEBYhIzI1IiUwQVEkNDY3QkMHRSZAcET/2gAIAQEAAQwB/wD1IpWiGr3Lggnz5rEMJRRxae48aCtPceNBWnuPGgrT3HjQVp7jxoK09x40Fae48aCtPceNBWnuPGgrT3HjQVp7jxoK09x40Fae48aCtPceMBQ5ZwykjzWtR3jt+crbUfCkTBME6wZseRJOAJMxKIRghq8rmsYx7SMR7HI5vVvC5VhKnaP6E8d2g+1H69l/yS+VajXu7wXFbPHHQ8yTdtjCyFLuX7PglDtsZ55qmF1b12QqF3aeO7Qfaj9e0gKO/wB4IQT2s2WAWPZ1ZIE8TrZb5LtkJkVwnjNYZT3wAxSw5Md/VvXZCoXdp47tITLbiMamLsaxrGsaxrGsaxrGsaxrGsaxrGrz2QqF3aeOFI0Q1e/svI3JaZJC95jWNY1jWNY0ZTZP6fIjhTyMlyI8vItOuMxkBtwewW4zVjWNY1jWNXdf7Khd2njjf6k+8/6toPtR6zVmrNWas1ZqnThwIqmL8ajNGaNKxkhNMJIYfZ9kIa4yWfgY1tZqzVmrNWarquKw6F3aeNncpHpHGvxa1GNRrUwS/MV9sM1vaIzTBYQa4tzVmrNWas1ZqzVmrNWas1ZqzVmq4vR0iGNPqH3aeNGLuR5sMVAJRsVXriSjiQo1atOtkuK52iO8bdPd+MdW4vHGOrcXjjHVuLxxjq3F44x1bi8cY6txeOMdW4vHGOrcXjjHVuLxxjq3F44x1bi8cY6txeOMdSR7vxjqgWtzDqc7nEIiYJ4O96MbitDnzJiZ4ERqhz3jholZ7xw0Ss944aJWe8cNErPeOGiVnvHDRKz3jholZ7xw0Ss944aJWe8cNErPeOGiVnvHDRKz3jholZ7xw0So1xc6SsaWFY5/YL55d+76fY96MbitMlypaZ4cZqi/M/Qi1+Z+hFr8z9CLX5n6EWvzP0ItfmfoRa/M/Qi1+Z+hFr8z9CLX5n6EWvzP0ItfmfoRa/M/Qi1+ZehFoE1yyNPJEoS+D7QEUdnkq34KJjRhYxiYN/WvX4D28ifUxcWJRfnl3Dfp7PbfSKO1nVtMag2NYxMG+2bOj2+Pv5hN2OPtJaZchgI8rMSJcRTJUoAmvR3t34kPuN4ze9S7/hJCen1MXFieD7SfZpFJ9Kfr336rfTiqMDciZiBFuh5ccV9u0H2o/V2wXCxIq1Gv9slyGgjy2vJaTNj3K/nJ9MXpy5wdcKcONUG4S7rYd9G3QJbrjLgXKGx11DcByYs122yNZcVY8aOaJqPdnd7b12QqF3aeD7SfZpFJ9KVtU+X/AEAIMggH2i5uuFjc9/4ZNiuCC2TBMuB3KhZgAQlllflAW5wwRQSSmRoQ7QWs8nTimjUgL9bJUvTAlseW4HFG2zimkEQY4N6t9yIo4UlpHzbtBtzmtmSEY6HOjTw72GZpWN2jtLlEjZjVWRfrZFkqA8trSIqOaitXFL8uCwFWorVf88nb1NoPtR+rtSAsizoyOJ5XVBgFLKvwyjeNtvuEy22xsE9qlkkGs04GyWnaivOYDTzLatusZoo7ihoe04LgkU8gA3Zxtflc3qXrshULu08H2pJu7Kb+U+lK2g+52armnQt61rPhFH/rJaur2+5T1xTC7MaXZSyDemLdqocdIFvG0TWt2lAEEa2KAbRrcRAPtvBbJa1zb01g9prOQKIh4XSJNpLsSG2I4tpt02NdZcuYsZqbGRgtsW+3bd4QMzZ9JZWBDNt8YozxBFCmA765qDiZkxUSSFEitKLDLJ9UVZZPqirLJ9UVZZPqiq/Ifos2Yg1T9e9dkKhd2ng+0nzY0hP2RfwpUyAKaeMUrno6dEDcIb40lFVka2x41qS3IjiA91YKi3TzSiDPaQHgxYr3ERk+AK4jEw7nok+AK4jEw7nok+yxLlKQ8neK6FZI0KXqt4eQeXZo8uXqmlPGkQYDIKkc0xzPtsAVrhJGjue5j9nYz0czUzEANrRDaMaZWXpfxwKjruHIJe76m0H2o9Y1jWNY1jUiZMhqB59y9jpckl2fEA4TGjV6MTeua5x1ktzvacLBJdJfRIJDmiQgdQirvyjemNY1jWNXdf7Khd2ngyrgmK9l2THZ+SV31I78KVmrNWas1ZqzVmrNWas1ZqzVmrNV4XEkCt2hY+V1AIr0VhO89u0H2o9ZqzVmrNSuwTGppYxN2e3n30uUS1uK9Jun3lvk6O1MdOc5jbuRStDBGuDpCwxAYOWg0FD3fTBHW/KkXNWas1Zquq4rDoXdp4NNXMFAp27Qtxsx2tShkR4mvauLcaxrGsaxrGsaxrGsaxrGsaxq6uxkQGfuPu0o7HIqGEmL2PQjEcxcU9l/RVtZ0SmkR7Ec1cUxrGsaxrGsaxrGsaxrGsaxrGrk7EsNv7j7tPBk+bcXL/xlBQwVatJGuVv+XDI1wdRevLHrUXryx61F68setRevLHrUXryx61F68setRevLHrUXryx61F68setRevLHrUXryx61F68setRevLHrf3pf2j1At0gkvUzSKQiJgns/tj4f9XslB3wlbW4uMD5cZzXi1N49OPWpvHpx61N49OPWpvHpx61N49OPWpvHpx61N49OPWpvHpx61N49OPWpvHpx61N49OPWpvHpx61N49OPSSLuv/CPUKBIJK1Ex+d6JgngrnIxiud8EhNVIyPf9b3oxuK0yTJmJniRmqLLceHiVluPDxKy3Hh4lZbjw8Sstx4eJWW48PErLceHiVluPDxKy3Hh4lZbjw8Sstx4eJWW48PErLceHiVluPDxajzF3+nkhUJfY9jSDVj/AIoB7sVCX66e9GNxWmSZMxM8SM1RZbjw8Sstx4eJWW48PErLceHiVluPDxKy3Hh4lZbjw8Sstx4eJWW48PErLceHiVluPDxKy3Hh4lZbjw8Sstx4eLUeYu/08kKhL4LN/GxgPZfSKO1nVvaxqDY1jEwb7XKjWq53wRNqbOv/APX8GPaUbXjcjme1lxE+6kt6Nfvepd/wkhPT6mLixPacauRCC70RGlGj29l9Io7WdW0xqDY1jEwb+gUiBC8jscIE0dxgjlBRyM6l3/CSE9PqYuLE8FH82eR//GtoPtR+rI/tS1brqgNjtOsCWaok9ln2LCYb2yXSkv0G3rOfOGZ0u8GkNgAteVpzSblZp0XWy0mxY3+dTOreuyFQu7TqP/pzbz/r2g+1H9smXOm30lut52xWTJk+zWp7pJWTDznXu0w9cScyW263OY2Xam2xzUQ0q9QbuGBqRSliyp8PaBtvnyWymRZF3uVxnxwy2RxQrhJPFukKe5r5ES5utmxcFwsqmLdJVteApLvHuApd3NZruVLi9XwrM6aWAh7i75lXrshULu08EKRBCcR3ZDGo4rc/11tB9qP1Toro5ET4rZLiW22MMUtruDjDsEt2yZo7kRkmXc5twtj4YbVKHJlW2RbSWuXDE6TUpZF/mQxMhyI0WOAqbZSjqJ6C6l67IVC7tOo5qOarXJil5VR2yQB6+0ySLVtIeckU0mNcxz7xalIOIoH3CbLvFvWBGtkoJJ0IjLtYmhG945wCv2stZmCeopYCu2vgGaJ6its8sG8XZdGaQG3RJL2XW4SQOEXomSfZCAjY+MgL4ZSjaLZkjCT7ebaC5mEdpARLGeUW37u4BIORV67IVC7tPBJfzHCB7dpS5LcQbUxf+veuyFQu7Tq7SDR9qKv7/oW+26CTNLvc/XvXZCoXdp4IH5s0xf2opGhE4j/pu43dFSTG73GsanSZkVwlYQCtWc2M/czDtcZksRDqFrl3muj7opd6iMDNCcqjYrkfjWqlGukiMF4RtfMZHRrJD8xJ1wXRxjwyplJcI4jKJ71zGnAA/I9yq8RmGE0gnI9mNXdf7Khd2nV2g+1HrGsaxrGsakHUAFewTyutkw0sJVktYx+oHqNxm+YdZeZygeBjEuCybTHk77SLjWNY1jWNXdf7Khd2ngZyoEDyLUUShjMY76qT+rk5v+naD7Ues1Zqu6/hh0TBdpQqtPMyJfyFkvQbPxFtpiNaRGg0xpwitnPkkhz488TiRCbxgwtNf5udSJUicsaUkZCDAwar0JGxqUZsOSU0GR8/HcXeWsiW6KlvGIENrY73vHmq6risOhd2nV2g+1HrNWas1ZqzUQzAszle1jbRIC/VjYdmfSn6ZV2pkYTCQX5gzJKscUhn2ONv0wrNWas1ZqzVdVxWHQu7TwOT8wwQeyS9znJGCuD2MaMaMYmDb+iutZ0SmkR7Ec1cUxrGsaxrGn/jG5qOViwYgbdCHFjJgPGsaxrGsaxrGrk7EsNv7j7tOrf0VbWdEppEexHNXFMaxrGsaxrGsaxqVGWU8SOIiCxrGsaxrGrk7EsNv7j7tP1bjc4trj72YTKjtvIiO/BEMqe/kbgi17+RuCLXv5G4Ite/kbgi17+RuCLXv5G4Ite/kbgi17+RuCLXv5G4Ite/kbgi17+RuCLXv5G4Ite/kbgi17+RuCLXv5G4Ite/kbgi17+RuCLSbeRcfjDNha71Du7FWI9c9R/myTm/Y5kAJXqmNRgqNquJ8S1KDvhK2txcYHy4zmvFqbx6cetTePTj1qbx6cetTePTj1qbx6cetTePTj1qbx6cetTePTj1qbx6cetTePTj1qbx6cetTePTj1qbx6cekkXdf+EeoUCQSVqJj870TBOrKDvhK2txcYHy4zmvFqbx6cetTePTj1qbx6cetTePTj1qbx6cetTePTj1qbx6cetTePTj1qbx6cetTePTj1qbx6cetTePTj1qbx6cekkXdf8AhHqFAkElaiY/O9EwT9WWJL3t2saSqrHZAhjYjRxQtbo43DirRxuHFWjjcOKtHG4cVaONw4q0cbhxVo43DirRxuHFWjjcOKtHG4cVaONw4q0cbhxVo43DirRxuHFWjjcOKtHG4cVaONw4qWFFcmCxgqlzjMsO1sM0H5Y5JdxGeTtWOLcRmDxoX9UfUL3XscqInxrX75ztLFLITfyeWHrfyeWHrfyeWHrfyeWHrfyeWHrfyeWHrfyeWHrfyeWHrfyeWHrfyeWHrfyeWHrfyeWHrfyeWHrfyOWHqNOGYjhK1wi9ZWovalbtv8Vu2/xW7b/Fbtv8Vu2/xW7b/Fbtv8Vu2/xW7b/Fbtv8Vu2/xW7b/Fbtv8Vu2/xSIifrW/8A2JK9lpJfbtbVmDurWOs16bNtrSTXDAYpRgEpDkaNkjaGJHu4IakCrLxMdrLOsSQu6FNimKogyQkIUwgDznIwbASo8pFWMcRkfMjDcRCSBNUJwyB545WFZNK4NvkFH8HW5t9uFrFMHeGo6y3Usx54k4bRzH3GEMu7fMjtfebyKzwt8uUhI06NLDvAHE9B3CGYu7FLA8lbYffLbR/mygh/aQqnLpWKqIiIiIiJgnsvRnBth3MXBQiaALBDTBnVZcIRDbocsDifoXXAZ4Rk+ti4sTwO3f7ElezZxl5LY8luLEEGZs+2PsoSKFyvNMmdOx7RDYtXCLHXbW2sUA1btLFGQ1piom7HfLfFtjrZJgAYAkkLLntkkWaiPBcYgLZtDazW8bQOFb487bW5LLZvG2wLIW18+NGagw3P7TLrZf8AxqHUR7Xbb3ArV+W90WRaZPRlgzxri1C/+PoxSIjiSGW6HYXvlBY2Pd1Xo4Bg2RILK2w++W2kNlU0hEzPjh3I8FXM/wBu0H2o/WvgTyLHKFEx3tndYpscEZY4hS59ykJcWW62DG+TGuU/Wmt0wYGTNnek9fPwWLk6t67IVC7tPA7d/sSV7LLa+iLfpd7vvZsrCH0jPmBxUF0tDp8iPJjSnRZB7Q+T0e40tXvutt6TEBm93dXKza2SOXHkviS4lkeye2bcZr5siPbdxeZc/e5qHbd3fDXHe41JDqIpQquWo9guUaK2KK+OYC32iNbobwCRX0PZ2QKKsId2KkLoRjtnUtJCqregyGtZYVxnvlNkbPS5sZAzbu8ra2varr5b8tQQ/haV2OXqbQfaj9adNZb4jpBWEey9zYN8YIdpG80+7w44NoUl3cTyw7OOxvuCktInuJZ5gYN4uUOUqjP1b12QqF3aeB27/Ykr29qfGggFHHu44mCZ+vtNh0xG82eX6Aazy/QDWeX6Aazy/QDWeX6AavzpPRhs4hIn6967IVC7tPA7d/sSV1p9t17mLrZcarXbyzZlwEW7XJG26VHkxE0h3Hat2hI2Uqm+Bdo7SEyDJNYjiHEGOpyka0Ua/WyZIQMeUjiTbvBtz2tmSEY6NJDLjtNGIhB9Xa9ytvlvy1BN+FonY5eptB9qPWNY1jWNRJkmRC1CDY9QTnunOiSBIMuNXG4JAj58m8fGPqIgjYZaeVoxue9cGx5cmS1pGxmsCOUXpQkUmRW41jWNXdf7Khd2ngdu/wBiSuvs/wDc7zWobYdoLgj/AIAbFcDYOUU3fCiwm7HYZB7qQ479lrGNcqtuFsvVxEIZUtw6nQJwLutztm6K6zTg3CBvQA0/W2w++W2kDmU0dFyvjm3w8VTK/wBu0H2o9ZqzVmomdROQTka+BKBGsbDPxYOCIr5D50pMhGGYVFUb2vSXv1NMOaMRzbdIay0xVN8lLojiWqS1na525iQDRDkUjl/P27v4OzVmrNV1XFYdC7tPA7d/sSV14duFCPJKJz1dtRHHcLjbIKJiXaJqN2altamCRNmYci3x3KWSwci3RZUDRlEm4Hs+JrmbydOMyVZRSZT5DZUuM+DBBboqR4rcrOrth98ttH+VKCb9pCKAuqZiqIqKiKnxT2X9FW1nRKaRHsRzVxTGsaxoEJg42nNkOJkWOJcwABG+HHbDjIJq5lXBzVa5EVDxGmUDVwaLGhx44iK8QBseyOqT3yXvRy41jWNXJ2JYbf3H3aeBqVtr/wDIRHyVyDRcUxT/AOntAZly2sgxYrs6yRb+M8fYscu/jMJhQv6U+nXuvZKDvgq1a3NxgJu4zmvFqbv5I9am7+SPWpu/kj1qbv5I9am7+SPWpu/kj1qbv5I9am7+SPWpu/kj1qbv5I9am7+SPWpu/kj1qbv5I9am7+SPUKDILK1Ex+d6Jgngd4sca8hRp8WE9y5w/wAIbpgz3PufNa9z7nzWvc+581r3PufNa9z7nzWvc+581r3PufNa9z7nzWvc+581r3PufNa9z7nzWvc+581r3PufNa9z7nzWvc+581r3PufNa9z7nzWvc24u+D7p+GybNxrMqkRymkVH+VJOH9jhQ4lYvwqMZSNVpPgWnLgnxrX75ztLGLITfyeWHrfyeWHrfyeWHrfyeWHrfyeWHrfyeWHrfyeWHrfyeWHrfyeWHrfyeWHrfyeWHrfyeWHrfyeWHrUSeWHqNOGYjhK1wi9VVypitdJKVztJGLITWS+WnrWS+WnrWS+WnrWS+WnrWS+WnrWS+WnrWS+WnrWS+WnrWS+WnrWS+WnrWS+WnrWS+WnrWS+WnrWS+WnqPPYcjhq1wy+ByflmCf2SWOa5JIUxex7SDR7FxbejODbDuYuChE0AGCGmDeoedEivRsmUELgSo8luMY4zI6WBsxsVxWofr3XAZ4Rk+pi4sTq3ozg2w7mLgoRNABghpg32lnwwl3ZpYBvRUVMU+KUQjRCcQjkawBxSgNNHejx9a64DPCMn1MXFieBnEhgPGtRSqaMx7vqpP6STl/6doPtR+tKCI+3QWHGwjdoIYbSwV2tw2gKWWnvTFA0IXIy53K4ypCWgcZAbSuuT7ZEcdkcdQtZuV6RUCl6l67IVC7tOrtB9qP1F7Ph22dbbGaW33+ONk3awZg2YA4u6SJOnXK2WKTLlJFeccy5GhyZMuLHZEdeSQ9lIs4IAtWRdrrA3MmfGjtiz7hMS6jt1tGFTWqfdJN1lRZyRGp7b12QqF3aeCB+VNML9qKNphOG/6buR3RUkJu96tynR7dtoE8wm7HcJfvNuoFsYR0eT/nMOrVcA2F0uDc8wnbQlfM2dBKQBGJCnxriBTQybwfUvXZCoXdp1doPtR+oR+7G5+Cuq5X6z3G3EC8ZCnnxJYthI4zsc4t+uEa5bIzCQibxkr/HzVL/wGDW1/wBkbV6xXahmZkxasJYAznjgbKHL9t67IVC7tPBJfy3CP7dpRZ7cQjVwf+veuyFQu7Tq7SERlqKn7/pSbdPFeCXC2FjqsG2yulXXK5lE4/tvXZCoXdp4IUaFE4buyGRSRW5/rraD7Ues1ZqBNeSXLz5Ggh3VJkwgWBcxh5ogjMu8ZmDN3cML7k8Ucsya8aR2xMhCZqkSJI1eoIzSNDcAGhDlK9BjbMK+4GGNrVBb7oOTEA6QULDtllJdHgEjVDAlkkb9psufNV4X+yoXdp1HORrVc5cEvKKS2SDvSs1ZqzVmq4TVhxszG5iJMXpJIat+KzI7T7lTjQpZYAuRpjDG4ssAFRDmGNTSgx0TfmGKps14xgSHkITNWas1ZqvC/wBlQu7TwUfyp5Gf8a2g+1HrNWNWxcCTEd8ShX/5HKpqx9S/Ju9+aWmveEIBuJYHfk4/4YZhUVRva9J8p7naKH8ZCBixYIwG3e6I75TqDp/c92TLmGrkEzP9UBf6+covgPNV1XFYdC7tOo/+pNu/+vaD7Ues1ZqzVmrNWfNtCjhqjqiAfJsOQkkA2S0fEKeYJ4TpIxG8lwjOE5EmtedjI8YeewO/Km9mGas1ZqzVdVxWHQu7TwWb+BjD+zaBMbUfCkdimKVjQou6knfnRw0gw2uRzYgEVGDQikRjUeUADuRTBGRUa0Y1aFrWVDjthxkE1cykiRSvV5Ywnu08fdbrcD3eNJFjNe1zY4kdjUSPpkKrno9+NXNcXw0oXdp7TkVqIMXeiG0Q0Y3s2gTG1HwpHYpilY1jWNY0MQhOc4Q2MVY0dxt64A1I+PHKRCEAN7yRwGejyhG9xQAOqKcIyKxrBpgNqNTGsaxrGrmuL4aULu08Fc1HsVrvikJyrGRj/rmg34HMWmGn29m53LZA+l5fL0rpeXy9K6Xl8vSul5fL0rpeXy9K6Xl8vSul5fL0rpeXy9K6Xl8vSul5fL0rpeXy9K6Xl8vSul5fL0rpaYv/AK9KigkzJjZEvBEamDfY97RjV7/ggGOxUxfrqaDfgcxaYafb2bnctkD6Xl8vSul5fL0rpeXy9K6Xl8vSul5fL0rpeXy9K6Xl8vSul5fL0rpeXy9K6Xl8vSul5fL0rpeXy9K6Xl8vSulpi/8Ar0qKCTMmNkS8ERqYN8GT5Vxcn/FyoifGlmIdztLFLITOflZ6zn5Wes5+VnrOflZ6zn5Wes5+VnrOflZ6zn5Wes5+VnrOflZ6zn5Wes5+VnrOflZ6zn5YeoswRSOFlcIvs/uT4/8AV7HKiJ8aWYh3O0sUshM5+VnrOflZ6zn5Wes5+VnrOflZ6zn5Wes5+VnrOflZ6zn5Wes5+VnrOflZ6zn5Wes5+VnrOflh6izBFI4WVwi+DTfwhQydt5OorWZ41+IRNABghpg39a64DPCMn1MXFiUd7lVAiXB7GNGxGMTBPZejODbDuYuChE0AGCGmDesj2uc5rXIq9e64DPCMn1MXFieDKmKYL2XNcLHIE76v1712Qq3iCj53UAasRXk7z27Qfaj9a5/aZdbN/wCOQ6iy4caZeCpH3Kw7rNlOEr7U8YbXcLq+8TmPhq9vVvXZCoXdp4PtD8oRl/aoUi73xppUScOGGKh2xWJMcxxhz4Zi7sMsBCGOKOPeHKwTGTYpN3u5IXUhxOM4LSsUqHCshQIVimPNixXIkmSEK70e53u8bu3XGE3JmmASuxPjQp8Q5d2CUEjzzI0XDUyBBphGFYjxua9t67IVR037kKvd9TaD7UfrXP7TLqxX+2R7LFjmlNaWG9grhtA8wnFHAkBHeIodn5RyxocwNv2muQZauG/q3rshULu08H2mHvLSX9lqVYDx5BJlhlLGLcrya4bICKjMj51vlnhtHC2ebENMGlw2uiRJ7MwpsCNC2vtekEgkh/5tcaj/AOfyqtLjy1lyyWZLi+JFlw9nbwOUBY4oFkgP2S3pANeWRJK/Ya3MUipQ7JbBOC4UMTHQXml3S4yXWhLg7Z2JLiFm7+NpY97RqhjZloRXIJESMTDfP4Ytb5/DFrfP4Ytb5/DFq/FctrNiAif/AEL12QqF3aeD7Qfaj078TVTFUpbNclGoenTblbHDWypbcFQTbZcsrRkvZFHc7TrpAZUeS6LKPDJF2rtbpEp8o06zvPcUnQZroci32TQ3V850sh39DGjyiltdwdEa2CVbXJiyJjzvjwtxZ2wd5mptjCuz7LWd6kbHs8lDBWddCyhls5WTiyrZOdEdBjnjNfqZj5T7z+JIaLUVys+QTt6m0H2o9ZqzVcJZgOjMBkRSmlNXAMdhKhTGzYjDsRWoc7Y8d5XrggJuSEF9yeKOWbNeNgUiZCEzU6eZ1wLFjgY5WOerE3iI1xTSmOcrBAUZLrJdZFuAhjFWas1Xhf7Khd2ng+0H2o9ZqzVmrNWanCEQrCvExxM1ZqzVmrNWas1ZqzVdVxWHThKQDci4PCXejzYYL7doPtR6zVmq5r/UQKnTHsc2LE/FKjsFboLBKRGszUaWmveEIBuJYHfk4/4YZhUVRva9CxohSlNvHMJbJjnWsRJpERbuVzgDhhXAl4a0Wz5hsTBuas1XVcVh0Lu08H2gTG1HwpHYpilY1jWNY1jWNY1jWNY1jWNY1jVzXF8NKF3aUX5Bd+36e1Ph7doExtR8KR2KYpWNTIzpKhcwiMc+LHM7MeOEjzQAkGwLGtGHGigAdyKYIyKjWjGrQtayocdsOMgmrmUkWMV+cscT3PYMqIhWNeisGpEIrGq+fHfNiuA0jRtxrGrmuL4aULu08Hmg34HMWmGn29m53LZA+l5fL0rpeXy9K6Xl8vSul5fL0rpeXy9K6Xl8vSul5fL0rpeXy9K6Xl8vSul5fL0rpeXy9K6Xl8vSul5fL0rpaYv/AK9KigkzJjZEvBEamDfYL5Bdw76fZNBvwOYtMNPt7NzuWyB9Ly+XpXS8vl6V0vL5eldLy+XpXS8vl6V0vL5eldLy+XpXS8vl6V0vL5eldLy+XpXS8vl6V0vL5eldLy+XpXS0xf8A16VFBJmTGyJeCI1MG+EOEx3alacflrTj8tacflrTj8tacflrTj8tacflrTj8tacflrTj8tacflrTj8tacflrTj8tIxG9ntMLfDy44KAqkYqPTAlL2fGizou9cNMxX6yPw0mtZH4aTWsj8NJrWR+Gk1rI/DSa1kfhpNayPw0mtZH4aTWsj8NJrWR+Gk1rI/DSa1kfhpNayPw0mtZH4eTUWVHkIu4ci+OHao3pIGnxa5HtRzVxS7yHR7eYjO2LHZEjMCNPh+ghxKdQoVil6tyRATYklnwexcWp443+mPu/+raD7Ufq7SWO3CtUycyPhJbBt1itLbuCHmPNuWjsjrhus9T762A2C50dxEHfDMngjXK3uiVG/wA6mV05IkOK62W18sFvniuUJkkGOX23rshULu08cKNpRqx/ZeSOW0yBl7zqbUf4zMq7scTYt7WIrlu91hE2QQIjtIW7nZFds+Y2KMvUoFzn2qNBMwxBtV+2s9rVwWxgjJAUEq7yoB7JHiR7dhbzvOH23rshULu08d2kHmtxHtXB3UKIZxqMzGkYjURuVERGtt0JqPRsOOiXW3mkXG1vAJFCGHGjOV0aOISoESHUyDYhTQIch+eRFAVzWtY1GsRGt9t67IVC7tPHdoPtR6zVmpZj1uzYo8uUl0aHBxgHGLNWaoN0DcHFQCPqXNbEYxzmPfQTvIq545A1mpbl/fKgsWANvo4y4YU2aQ0mUAI0qBM1kER8MFzVeF/sqF3aeO7Qfaj1jWNQ1/O7iq9t4aXSqUzmEjNIj2I5Oy6keoWR2NJltph9LTmDa9rZcZstjGue9lAOYd2fEIVTMxqc1g7RLaNqNQgRR7RDkx/7hqNZjkajasyogJKN+nGrsvxh0Lu08d2g+1HrGsa3JB3jfsTEaW6KmCZHK3TK66aoiphjTBDGYhWNwe2BGYBgmMVrUAkcZVitTewo6Q4QwIuNEa0onDImLR2+KJzFYPCnucg3KxMzrdHWJAGN/wBeNXNcXQ6F3aeO3AGojOZQrieGNAy45CV08PhJNdPD4STXTw+Ek108PhJNdPD4STXTw+Ek108PhJNdPD4STXTw+Ek108PhJNdPD4STXTw+Ek108PhJNdOj4STQN/cZrCkHuhNTBvjvbT4o39rUrQB8qVoA+VK0AfKlaAPlStAHypWgD5UrQB8qVoA+VK0AfKlaAPlStAHypWgD5UrQB8qVoQ+VKYJo/pT/APJP/8QARRAAAQICBAkJBgUEAgEFAAAAAQACAxESITHSBBATIEFRcXJzFCJQYZGxwtHiMlJ0gaHBMEBCYuEjM4KykvBwBSRjorP/2gAIAQEADT8B/wDKQTq2U2l7iNcpiS+HN9fDm+vhzfXw5vr4c318Ob6+HN9fDm+vhzfXw5vr4c318Ob6+HN9fDm+nCcN7LH+R6eyZ7s/ByBEbI82dmJomXOMgE4TDgaiM7lEv/o7p6ge7Ppwu4pjnNa7IhxeevUEwOEZrWAiJLuT8HZQhZMNoVa9OdynwO6eoHuz4j4dBxbIOqNiyzjRe2RUQxKLXiU9SweE1jjFZJpIqq153KfA7p5zD8hr/Icp8DunQnsM+qqzPna+wDZpUGHlREhiU27EZOMIA0gw6Zzt+WfyjwO6dhnm/uOtUD3Z9jRrKwphpBjwaNVQHUEWtg5H9QItmNFiAlnco8DunHVvPutQqARYU8TH4+Vpy6g0j79N2AaynVuOMmdGojsK3GeS3GeS3GeS3GeS3GeS3GeS3GeS3GeS3GeS3GeS3GeS3GeS3GeS3GeSNrnHogL9MWNEoB+wSJXxDri+IdcXxDri+IdcXxDri+IdcXxDri+IdcXxDri+IdcXxDri+IdcXxDri+IdcUqQBMw8awcYqhj75n6YkWJRpbKiuO64uO64uO64uO64uO64uO64uO64uO64uO64uO64uO64uO64uO64uO64pTAnMOGsHojJu7k1oAH4+XLZ9RY7yGIVxD9szJnuTRIDMnKcie5PMmjJuE/osFcGvpCo7MwtpZOlzpa5ZuXoz6ix3kOiMme78hynwOTqmjrVrjrOZQPdmiMxP9ltE1/RQ4lM7AConOhYPkQ4S0TJQdQeYg5rSLT2LCIohPYGNaWT01J2DFzH5FpoNpHmy07UBW6Up9eZynwO6IyZ7sUaKWzY6jPUoLSyKNIcAhSpxHzcfbIQbSpSNijlohuka5iYXzA7bFYBI17DYUzBHEucbKym10ZEH6p1jZFx7ApymNCjGTBRdrlqqTTJwkSG7TYEbCFynwOREmD3Rm0D3ZuWaaLGzOLCXUWPc2QMwRMdqgig0w2Thv1c5PjZaPChn2hpb3KFhMMxIjoFE29sutcnMI5BlIgzJsThOi60ZnKfA7ohzaIxcq8lh7TDjftfKo/961RP/wCqODsl9E6JABH+BQwpkMBolJpBmFDwyG1lESoivyXJyQHa5mSc9zXStLav5TYgbPCS6YbolJYQ0czByZTGmsKI80nStkalFeYsRpqe2du1PYHMEpVEVIx6urmuXDPmuGfNcM+a4Z81wz5qgbGHVt/Icp8DuiIMFx/yI8u/Fg0TKMom09afqtColvPtMzP7qRoMfFmIfWAsFcxzCCJmiJCahRRFbQOkKFFEVtA6Qmw6AoulKuc9qlRESO+kWhSkYkB9EuHWokqT40SkakCTN5rTjM4OI3MTRJoGgLlPgcn+wdR1ZtA92dFiiGWQ2mYnqM6+wJkMPm+GXE/ULSWtkE0T58Ekj50lHjBg5pkGk2ymtFCGW/c5vKPA7ocKM1z/AKVfSX5DlPgctB1FMqd55lA92dTBhw6ZfbbzT7NWySaK8oBOXV/CL6MOmCTKdQWEuk7qYLVY0RBzRUslz8n7BfPRonLN5R4HdDxnUPlp+k1kzLsTgCD+Pl6Uuqg7zxMtHvDUjZjoHuThMH8fLTl1UXefQ8Bsv8j/ABLtRQ9lkRk6OxcM3lwzeXDN5cM3lwzeXDN5cM3lwzeXDN5cM3lwzeXDN5cM3lwjeUpCqQaOoY4p/wCLv5zB7LYjZ0Vw3Xlw3Xlw3Xlw3Xlw3Xlw3Xlw3Xlw3Xlw3Xlw3Xlw3Xlw3Xlw3Xlw3XlYKpBo6uhmiZUQ03fPF+mJFfRpbKiuO64uO64uO64uO64uO64uO64uO64uO64uO64uO64uO64uO64uO64uObilMCcw4awcZTNPvDXj/TEivo0tlRXHdcXHdcXHdcXHdcXHdcXHdcXHdcXHdcXHdcXHdcXHdcXHdcXHdcXHNxSmBOYcNYPQ0Z0ju2nFkz3JokBmCsrWYT5dycJhwsOZDhiITLmyzcvRn1FjvIZjPZ6+pH6LJnuTRID8FjS4yUQVB1ubl6M+osd5DoaEMmNprP2xUD3ZtA9yybxTEGcOtx0praLZWFxNny+yhinEwbIgNlprtWHNp0315NsplYREyRcYQYYbjZYuSt7xm8p8Ds155/7TrVA92PB2B0WLQDySbAAU+KIeDuoUZk6x2qHIxYORDRLqNqwwPqiCqwSPynNYWw5OI+GGZMi2oW1KNCL4cTJhhBGipYPHLREyQc6WhoCwRpFNolTBBkZKMcnDpmoEuNZT4gZFhNa0Fs9IkozC+A6iOa4fp/71KMabYcgMm3QMXKfA7oVomU7nO2mvFQPdmlpUOlZg5kZuJt+aiRuUNhz9mzmqOzJvMRkobZ2mksDh5KLDba4StH1UCKI0V+EMoEkWABOwZoD6PNJmNObynwOzTaEIZoHW3HhcNoOQbScxwqsUCO2LAhxPaeBr1WqNIRHx2UWMGmvSsHptc8NqbzRKaYyJSeG1N5ptKZBeHPDahbpTsJMzAbSc07FhgIhwne0GgVLBX5TIRRKkJmqRRcKRfgrWNZ10lgrS2ES2VOIf1dYCgHJuLm1Pl+oa8XKfA7oWI6bt0Vn7duN7DV1aT+Q5T4HZzWkg/L8HCouUlRlR6s/lPgd0Kz+k3vP/AHqxNUSGavdEqhjixmwwDCPNn/lWiKTRDhOExZZXNBoeWlpFSguLXuNUiEBSovYWmWuRxQmtM3Qy4mf+QUpnJQ3H5yE5KLGY2kBOYKbKlJpIbOyZsHzUqVFjC4ga6k4TBGLlHgdnUD3Z2hjLSocZ0OTOpUacpaEG1ZRpdM9ol9VEeB7FOdcpfPO5R4HdCNE1a7abcUE839zv4VA92PlcPvQwYy7VEgCi51hkbE3/ANQMR4o84NnqUNplKiQAddEJrzDJkRzhUbUGQ/YiObo6imw6WUjzdS6hWO9ctGiX6k54p4K4f3DZVpCi0Sx3NAeAJWuGhElwc/TPFyjwOzqB7s4aXGQT8JiObRcJy1hZCWUos96z2ZIMkQYpZMHqsKGENDObR5s6qs7lHgd0IXU3bG/zLE+tzvdbrTRIBUD3JwmDnESpNtChiVdp1k9Z/Ay05dVF3nnUD3JwmD+Cx4eW0a3Ededlpy6qLvP8Y+y0Wu2BayQFvBbwW8FvBbwW8FvBbwW8FvBbwW8FvBbwW8FvBbwW8E32ob6nDFPJt2C369y0NGk6lEM3n7Yx7LYjZ0Vw3Xlw3Xlw3Xlw3Xlw3Xlw3Xlw3Xlw3Xlw3Xlw3Xlw3Xlw3Xlw3Xlw3XlYKpBo6s8ey2I2dFcN15cN15cN15cN15cN15cN15cN15cN15cN15cN15cN15cN15cN15cN15WCqQaOr8aDVQ6gPuUNAhhbgW4FuBbgW4FuBbgW4FuBbgW4FuBbgW4FuBbgW4FwwopBcxu2TggKhrOhNFZ1lMqhDX+7MaZFzAA3tJE1vQ7y3od5b0O8t6HeW9DvLeh3lvQ7y3od5b0O8t6HeW9DvLeh3lvQ7y3od5NthvEjt6E5/dipECE7B2yPzQimC4F0g5/Um2ueZAKI0l8bLCUOqwqNhEiYb6nj5WoWsa8EhD9T3SCFuTeHKFKmC8CjOyepe8x0wmQnOG0BRATk34M2VsrVgxk8NscNYXumKJoyowspRLkBN1F4NHavdbEBOL1IHKO+Vn17lbFcNA1fNDGGGXYmNogZ3uCICez8HKmHPqLSfCOhOf3Yi93PeHUwe5Qzlw/S54/hYWcpHloDbfrPsT4by4UBJ3NNqdhFGUOqQ6kzCmQ+aPaB167Fg2D02QjY5xNv1+ijxDDiMhiQc2rQoTYZDHeyTRFo0p0FsSgLAavNZB/+qon/AGKhYMGvOidXkqLv/cvc1p3hOspoaA8isCadDblGsbIv7E2K0w49Jod2CvF6lEfk4Tdcv5mnGk92s5lA92c5lQGnWOxQZThvbRfSHXpRZlHuizoQ2/JZExIL2Tyb9um1csdl5h05zro/zncp8DuhOf3YqRdSo0cTYhgwJ6pzP2WDzoxA2lb1LA4mULyz+55KDHbG9mc5Tq+qhiiIrBOY1EJglDJYGNZ8lhIaKFH2ZCVqiwhDydGzrmojCyeqYTbGswZoPbOaif3HvNb9qM/6QhilI6KSoUcoBLTOxPDQx2TDaErEyRhjIgCrXXXViAn9U1tGEDoGvac2ge7OaRPJtmVTFF7YZaYe0qLBDDFZSFB410Uxn97nlo6udpUfDC+E0tPOBszuU+B3QnP7swfpY2Q/IZKqe9WuMbq4xurjG6uMbq4xuqgbIpPh/Icp8DuhOf3ZzNGDxaE9qwaNk2UcJtHWoX9Jz3zpTGuelYIZRjRPN80eo1bdSAmXk1STvZBaWz2TCdWGyLj2BOscM4iX1Tm0oROkatozaB7s17yGMHNoicqz/CDMoKL6Qc2zUMRMmsBlPWojA6WqYTRMlPrBfEk6WuUvusmIjC0SqmRI5nKPA7oTn92fyrzWEwThMMfvFo71hIMaIT1lOwWk463Ubds0+OARE9k1miD1SUJ4e10Mvm2WqpOh0HwYtU9hQeWvh6nac71KG/KQnap/zNNNF7dRzKB7syVRInJMBnMzM5+aitosh+4zzQMjRM60ITocEhzZNEqzasmxopkc6pGGVEewUTEJDwbarPJcn55NhbS78zlHgd0Jz+7PwmJlH0jYepPiEkj9LNP/AHqQh1BRIbHvgMiyY4y1IABrRVRlZJMIIhxI/NqUQSfkItEOQrrMyTrzvUicm752fXvUpRWjSNfyRx0D3IiYOYHEsDmWVzr12qVThDFStc4/qOko1EFQXUsmBbKzEbXNYAUWBjQGykJz+eZlpy/xd59CRbHmznDz/KQ3Na4trkZzPYERUdR0JwrGop9cLq1tzB7LYjZ0VuOvLcdeW468tx15bjry3HXluOvLcdeW468tx15bjry3HXluOvLcdeQqbqaOroRnsRW2jzQsqI+62uW1y2uW1y2uW1y2uW1y2uW1y2uW1y2uW1y2uW1y2uRt9ooiWUcJSHUMU8o3Ybfr3rQ4Wg61DMnj742mRcyQb2kia34d5b8O8t+HeW/DvLfh3lvw7y34d5b8O8t+HeW/DvLfh3lvw7y34d5b0O8m2w3iRz2mRcyQb2kia34d5b8O8t+HeW/DvLfh3lvw7y34d5b8O8t+HeW/DvLfh3lvw7y34d5b0O8m2w3iR6EDqDtjv5liYJOb7zdScJgoMMuxMbRAzSJgRIgaUNMN4cntpNh6SPwMqYc+otJ8Izgwy7ExtEDM910QAo4mCk4nQE/2XDTn5Uw59RaT4R0I4SVjtotxRjzf2u/lUD3Z3IrHtmPaKhRAHiHUHtOghRMHLxGLOeLagdSgPyeUwilz3aZSWWbSaCSaczL5KlVkAZS+ebynwOzqB7s10Qlz47f7mxyY5jQDMuno+ShltAQw6jIkCuZ60cHe+HDMy/qDtFYTy0GGxsmgT0BRXhrmMccpDnr0J0LLOfGnRa2ctCwWQfkg6ZmJiVeZynwO6Ff/AFW9x/714nKGw1+8JVHO5HRpUSa6R1LKB0fCHNLWgDQFyV3eVl3RIbqBIiA6k2O2I5hHODa60DRpUSK/nm8p8Ds6ge7MaJybaUWkMgugmmHKCWue3SGz+wkgWAmiR+putclP+qps7ysuxDBv6ZwGWUFdc+pO/qReWD+o/rzOU+B3QsN0nbpqP27MbGGvq0j8hynwOznNIA+X4cZgY+HhAMqtRCyeSYyCDRa2c9OZynwO6FcJFN5rtoqxUD3Y8HNGys1TmmtDmvdVSGxQm0i2dY+SeK2l1HvUd4AnWKOk4mNnN0WjS2VFRLKZl8lBh1v/APk1diiieTDpadAUOHz3aQ86OxQYphzYJA4uUeB2aLSjDNAamyzXuEOGDZSOtZHK059cpSXuUxPsTrA5wE06ym4CaNlNwE1GeA2dYLdJzeUeB3Q0UZQbRUftioHuxiOabtBqEpalkWKQpylSl1psKcR8R1EUdVhQc6Ut4oGRomdaiCs6IbdZTJAZWUp/NSRtlbTnV87FIT2rKc4HS+QmdmLlHgdmsPP/AHHUqB7s7kdUt5EnKF0LnNdO0mlahDDcIhRLZAaDonqWRAiwIuhtsuo9S5OHuMR1Ci3VYUHulKy3N5R4HdDQXTO7YcVA92OPWWFumUrULCIYTrXSrKFhc0GS0SFU1a53vHSUbXOYCVOdGgJTxN9khgqxRXl7iBIYsv4HZj/Z6utD6qge7Of7Ra2U1bTLBPtQsc5oJQsLmgkIWU2gyU5yAlm5fwO6GcJFQzQd8kQmVMJdRIC43pXG9K43pXG9K43pXG9K43pXG9K43pXG9K43pXG9K43pXG9KZUxjbG4wn6PdGrEQmVMJdRIC43pXG9K43pXG9K43pXG9K43pXG9K43pXG9K43pXG9K43pXG9KZUxjbG9Dx2z/wAh/EuzE0yLmSDe0kTW9Dvreh31vQ763od9b0O+t6HfW9Dvreh31vQ763od9b0O+t6HfW9Dvreh3k22G8SOOEf+Tv4zGmRcyQb2kia3od9b0O+t6HfW9Dvreh31vQ763od9b0O+t6HfW9Dvreh31vQ763od9b0O8m2w3iR6Hgup/LT9JrJkg/JMbRA/Hyphz6i0nwjE+0+6NaFmMMMuxMbRAz22gGz8DKmHPqLSfCOhyoLXM+lX0l+Q5T4HLQNZT63eWZQPdnZB/wDqqH3UAtdGiBxdlKibNCjNpQ4mVDtExPVNZVgc12E1QNmv5Z3KfA7oiNBI/wAgPLuxNiFjIeSDyZayUBz3MsK91sQEr3nukFFJDJRAaWzWmibmB1Y+SApGHS5wGuSNgiPDZqVKnOqWuaeJsnFHO2YvdZEBKNmUeGzRsc0zBXKfA5M9gazrzaB7s7IP/wBU1si2idexBzabGtmSKNdSeTl4DwS2EPnYsJiQzB5pNOrqzuU+B3RDRSGJ5pOgn2Hn7KNHECKGGU7bNslDIMKMyPDm2XeoWDZTJmxzv+9yiFxc1tk9iyDPsuRjvaosZwMR8Vgo/tAciyI6DCLw6iC01TCiQC8xHVuBlVI6FHitgvd+2Z8goJmxzRI9ulZYwwXxGjJgaJOUR4fBhZQOo2zs+SEerr5rkN3zW1vmtrfNbW+a2t81QNZo6tv5DlPgd0RQPcjpCNoMIF3/ACtQrDv1T1oe7BAcf8lBqbFaJ1aiFELqT3CXyA0KhQcQymHDYokKg/KCsmYM5/KxRnUnwzCD2z1jUsIa4GK9o5sxKoJsLJ05dVsk0VRAJEGc5qA6kyHQDaxZM6VHrisyYe1x1yTzObgGgbAFyjwOQE2H3hm0D3Y40WgS9s5VbQg32nRKFI9VR+qdoOgpjZp4raXUe9RngNBrBbpOKG0OLnxS23/ErSGmYQ/U+MW+FCug+bqQnLqlj5R4HdEUD3ZzPZeW1t2fhco8Dk2tp61Y4ajmUD3Y+UjuKiirUwe8Uyqk8ymcTYU4j4jqIo6rCg50pbxQMjRM61KjEfDjFstsinGi1zzKlXUsKdQ2N/UexNYGgdVWPlHgd0RQPd+Qy/gdiNUQffMoHuxwolMTbSn9Vpc6GCg+m9jGypYhYXNBktEhVNWud7x0le85gJQMxSE5FNqDpVhP9olk/vjy/gd0QQmVMJdRIC43pXG9K43pXG9K43pXG9K43pXG9K43pXG9K43pXG9K43pXG9KZUxjbG4zXDP2xkJlTCXUSAuN6VxvSuN6VxvSuN6VxvSuN6VxvSuN6VxvSuN6VxvSuN6VxvSmVMY2xvTdoOoptThjb7QhQ3Pl2BfCxPJfCxPJfCxPJfCxPJfCxPJfCxPJfCxPJfCxPJfCxPJfCxPJfCxPJfCxPJfCxPJfCxPJNMiNI6cbU8e81GsFNYSOxNHadf4LRMspc4DZnPfknS/UJE/b69OxDzf2nUqB7s326dN1pdXVOShwmn+66ucge9BjX5OlK2Wn5rCxYw1ioVS02rCKoT8oHgnUZWLkre8KE6iYuVDKRFtEaU7QbQdWZynwO6dKYwz66rc2iP9guTsMh1SKiwmAMYZkSlOeqxMM3ECwSauUCKXQzOg0I4GAD2KC9zYkEYQIYFegEJz3OpuM5nTmcp8DunmsPzGrNda1wmChVJRKngQhztqweITErAoirQnWljA2acJF9HnEbV7z4YJQsAzOU+B3T1A92NsPKRCbdQCLqOVc0S7Jz+mOEZTcJT6wnvENrWSmSdqHvltfYTiwQVOpe2ZTIT2h0tU1BAlEJqLiLE4c4ajpxcp8DunqB7sf9LsoqG8PdCa2iXDer7kRNRjKI9jC6i3TZrsRyYaDDcJAM2VKG8RGlkrRtWSyoc4AFtcpVYsk8yAloKnDlEnNzp1Snq6kTMyFpQwmJR2Txco8DunqB7scWHRfXYRYmmYYYji0f4zkmMoQwPqTiiypmdslDM20XkEfOc0/9URxMzombUwVnr0p4okdSZW0UjJvXKxAVDWvaftOLlHgd08QmVCJDlzts1sb5rY3zWxvmtjfNbG+a2N81sb5rY3zWxvmtjfNbG+a2N81sb5rY3zUP2GzrJ1n/AM5f/8QAKxABAAEDAgQGAwEBAQEAAAAAAREAITFBUWFxgZEQIFCh8PEwscHR4UBw/9oACAEBAAE/EP8A4NNTU1NTU1NTU1NTU1NT6+Soaq6FGRfg4kAkQhK7xj806dOnTp06dOnTp06LXrMek2xGSG4SWvmzmBkn111cOU5qAggCANPNaCIVILckOHE+EA0CAbq2CgNcNKCREyJ5sAsrg2fYpSzt678/u/ABh3BBZ0RACFictH3x/AIvqsyU7RFjGKELwLX83sFfsfXfn93nf068Elk2YkxT6CJESkMOlTJw/adjFmM1BjCPQursnHm9gr9j66svZTZGV+udQqFQqFQqFQqFQqFQqFQqFQpzyFPsfXFcYMBddA4rQIE/HTKDwP3Pn/cRNAmuoYRLhJzo/VBCYLilhEdbm1SujIKIMJuGO6iQIyOE835ujT7H1zMTIDpheUwdXavn93nA1xEVifBOmM7FYoS7Ei6cmalePamBZASZbRQhWQpbweYHQen2PrcEAILf/RwdXSgpDAYCgwkE7NQxFfcSfzgADDTNzBPc0Y5HrQIkyDy2AqRBePdjgYPA0MlHDuhAsywCEzp+ZLFixYsWLFixYsWKhhgq28ZyTGxscCoAPR2bgCVdKXO7gRuTDZQnT8wgQIECBAgQIECBAiDU4VAjyDZ2IeYtJZJJKGSlAVYDK0WKtO6NevThz8UDwBeacIuSJ3AkbKE6W/M4444444444444Jqji7aCWiFnSSySSXoZPR2gwTtdQJimLAEB+dAwAXVIJ37FTB2ps1BHBac7rw50AACAsBp4pZDZeqhoEGLAEB5E8TDzjggLWuZ65zQFJEKgEZ0LJbWPIioolCU43Im0+VBYghqkE79ipg7ej/D7q9of+AcEDmfueBloCkdU5bL5Pn93lJpAperS/mQBsFywwNS+RocyL7FMMVoLosvrxk36VPhE4UCAOoHWlP5XpQCaxLrQLvbIY5rQ3XqEeo4lC8CxOY8nsFfsfR/h91e0KlSB1yQQUS0tKu4Dsk655ztQFtaoUCcroVEBBzoUQwE6mlMDU8T2iSQmWI1pOBKQiI2YLo1NeVCA9kOw1CgoQCgDCSsrcAScqMp0mibwLHGKXAEkorZG486hUAEy6hddvFDMABxsA9RowgpRIm9A0gJrtXGBEgHxXL0PL8/u8p6CpEQssGnhJMcAMsOQ2Uug0Pg3aA3+FIQvuFGwmcYbMTR7NrRwYYlAFVYtTXRvZ8Gly9K8kYESkwm55PYK/Y+j2CSoOYz2BelM6BT7OjrYRmJUu00vIu/1Uwl5k5khV4UXRIklYINUCCNGClQCV4iQjiHpQhfA6JWxy8KQ0g2hBeNIfdTQAkC/BE2QJ6VLkdb3QDSeq0GFxaSIByI70yk9Q2pJA4X6VpzvwIiNLJasOYNJlNMchOtIoIkZJPLChQoU+WGCW7WdSVJUlSVJUlSVJUlSVJUlSVJUlKeQr9j6O9Qec0HYNO2FQSgABYtIZLaRQvCJVCDIjojQ8CoYgylA1WKkR0JROygec1JtsULwiGzeA6U2hUAUkBkbXabQqAKSAyNrtW5yYDENpA6zHCmC4XXkFjS1TCCz4WCxHtV3A7nJQbBdwUEwwBkstwD2p8tqmd5iImJ0mgsh4oCA7VNT016LPEf7Opp5fn93m/Bjgy84lhHqcKmk9oipFoqCtQo3IVju0rL4AYF1BnVxVyzFmACuTBOdaFutYqPFZvby/N0afY+jA6wEq6FMGhPJcFQ6CnaD/AMAAAEp8xIIZDCcRqOweEIHYcHPc08nz+7ygKKYCWCXsVKVuUqQqwJShYi1FdGjNMSSSXuvxpGuMAWprLjfSKZLLhm8fa3epxtCKgoFSCwxNEAQRixVlwhMb3v5Q6R0+x9GZehrciu+yj6FYOaj1AhhEkfz/AP8Agck0OAC9x3r2tM8BA9fm1OPOgmDlGp4mxKmd1FuEBhG4/n//AMi0v70CXuO9e19G3xB917CgVpBEUOsC9E7IRjgrH5ly5cuXLly5cuXLlw6I+NKAZ3IyUBjnlqJPA4S1tk/n7c/EXiZKBOWHxbCIxwW35oECBAgQIECBAgQIC0RUCTgIcgmB/ctqiT0V95RNgu0OEKJ0bg6EHSkDwBeaUP2hzuBo2UJ0t+aDhw4cOHDhw4cOHCFWpe4aCWiFnSSySSXoZPA1IcJRlF1vT/h4+CB4AvNKH7Q53A0bKE6W/NBw4cOHDhw4cOHDhCrUvcNBLRCzpJZJJL0Mnotl5E+D+JHXwSyLF6qGgQYsAQHkVCApsFRaRTAR3MaONh2QcI6nkL0cYkkIGZm5p5UFiCGqQTv2KmDt4xySzKwNVwf3DXFZBytR4jSWQ2XqoaBBiwBAfhCNEAvASx2pB/koCFLgpk38qCxBDVIJ37FTB29F3aPoy9o9/D5/d5fld1Hc0aTJ0wTe2Rq9fU2TsrDlizFLK0+w3AboNedW51wgciNXJ0dyoRrZQw0plvs+YT7BX7HyYeYwNMJyuHo718/u8VCBckjYGEvzowNsETaK1oVs0BTCcoQY9E68+FMVsQyvswpcgN4ipI+Ay4eiAoObdZJr0CXRYkDvpxpRZZGuEIIIVWW5TLoZDwUG143KNFraOkIB+qJpCD9W5Q48OgR0kSWWYEzos54qvpSAi7IKxeW9/D2Cv2Poiew/lBNQTifn0u0x08Pn93lE9BAasNHNyQRgCWCBeKbC1YRYJxMD1abJyC0RMyQsVNga8tglqyqOXGubBCMVHLfjwpfRHRgBgtm3l9gr9j5AQCRNSnTK92WJzxMPR8XmocMQTnEGePClaReBKMJuZQcONZsXpkKHwQR/yppXkIApFiY1o5CriyBoEraaX4gRdIDgN8UUrc+tYHNHfSKu+piUgTdkI4UrZI7VTMNRGHJzo5gF3i8heMkZ4U+eo0ZEJ7DPVo44KYHBEgJqak6+HsFfsfRLT+InNh4hshGWAMnA/aVJUlSVJUlSVJUlSVJUlSVJUlSUp5Cv2PlRVghkuk6lqkqSpKkqSpKkqSgyu885SznNqkqSpKkqSpKU8hX7H0TgCOhd7oeBYYCWCXkcaOXCKt9Dy14r480NbcOBXMcieFDpUiEpAk1OgzGllqWIoAPCye2aGiCtQ6Evm+2dKEadO8ogIpNpPCGAbhhXTYpEFv2Xmg4r1oCJFAFQly225XYAoZIZeItfFX3pW4wCocWpc4HkTwzdGn2Pl+f3eb5zEgSVWDkXlXBLSzSDKFmrlze3Kr3Fmm1xM4yUuQ6S16ZiBjupZzqciVnQhnTzfm6NPsfQwfkeG+x1q4RGXdpXdfDjmtWPLywOM7V8/u8SX491QIFSkw226LQQOnQtwO9y2b0IsQliCsxuSMI4vQhszUSDIY0gXeNawtDqLBAGzrisGIN1ZinrUN/u/wCYuMoXVSzjWohkWpQv0ccqIeiT7YELWGZJG2lO83OoASStB1o6QgQyKoQW1LRHg6R0+x8vz+7zAW5bHDq1ZICIabFeTWYSjRF6syz6mJrF7pPMwTV0TThTJLsxI34AFtILR5gdI6fY+h23ci+U+693grk8A53M4ON9KNeQDQoyJUzuotwgMI3HzfKjzEEqZJEkzcSnvwJUq3Vqiq6q/g/kWl/egS9x3r2vlNiVM7qLcIDCNx/D/li0M5BC6AxaJtnzfItL+9Al7jvXtfyw6TAEvtqfo1poafVPSX9/+LbbbbbbbbbbbbbbbbZYiakROlH5BIgO8SycRTwuW4D913J0UlJkGY1gcVpvyEjYdBwCx318BeJkoErC/wAWwiMcFt+aBAgQIECBAgQIECAtEVAk4CHIJgf3Laok8ovEyUCcsPi2ERjgtvzQIECBAgQIECBAgQFoioEnAQ5BMD+5bVEn5RK7kizUtuXcxRpYgAD2r49/K+Pfyvj38r49/K+Pfyvj38r49/K+Pfyvj38r49/K+Pfyvj38r49/K+Pfyvj38r49/K+PfynqxZFB9qLZflYGINkvGjjBUJHU4sOqhQJSROoL1ZatrqKjLD/Bwl18VThUSMxJEYQEgkWn81evXr169evXr169c16uUGZi80GiWySefDD0rh+1cP2rh+1cP2rh+1cP2rh+1cP2rh+1cP2rh+1cP2rh+1cH2rCEfm+dweExOecUZJIX2o88EiAYk3USxNR7OjZjBK2LtOEBAuJAxLBlMlIgg6L9lUCvcUDZAyUyzUAXVtWWGAA5wtBF5NhE3HLSc1fU0QptpLU2ktUmEpbmUdyBEoUEk6bUP5y15j5am8VcmcRsuSzTQXJYEoKWVCdBpgNWXZMIba52q9Po9vRnw/U/SrWurl2DuGgJRBDk8/6TwomwIALB4zAFocMqCsULQCDzXQfF3doM/hibHVFjv2KmHD0P43B4PAfSltKAPJTD9NIuShpMg6UZgwnyPtCIclMyvaIQoi7YztV/12CZA2YzUtQJFCVFnQlvdvU3AMsQFGv+HGtV4BFDC1pfbah63ryCnYbNr1jxHuaLGmXevjN3gkA7sPX7vAXZpsA45ABlJxJOZtFBPb02mByEAdKfmgUy0GCq8faacFRAmw6zjt4fqfpUYV62Mw6XV2rbwBz5eWgaAeT5/d5jzUZkIkQ4sjrUulMHxyljcTEzuVLpUdxiXJV05b0iTw9hgg2RlfE8Jks/HkOMwG3mewV+x9D+FweEGLXGaLRLtv4SyVXRjuF+5prrRkoIRSG/dpICouXa0CGHGt2sNHGoidV+VE9TEFZuIku66tM0USByhknjXJqespXXmNiuWsJYjkvjEUD6GiTcEx1onUoABVtNk0ESmzDpCrq1DIQQZJbswyyAZaQzQuaSNudQtNA/ABO2BZcSuYpxEkBKLkk4JdIWedDuS9JP+VMcAn31XyJ5Rx8vz+7zFDAMELExsVPeWLBmcLHUImolVgES8ggg9+FPDjKSFBmoy0MTxpucpc9kIRHFt5vYK/Y+h/C4PFBACJCOtB0EoYlzYt/4NdCSxJEP0rY8oAAAAAUd16gEOkKkqSpKkqSpKkqSpKkqSpKkqSpKU8hX7H0P4XB5sQolknrYzinxbRhuXkMttIosQYCQwbQuCsXmrSWSsbpjZpNAMMYHJEkghcGI1qOTuAN01+4bDUA9KII0Bk3gWONZU32zo8nh5l3Jelj/AGonkF++q+ZHKOPl+f3eX1SQHsHJ1nE25BodKVvZJlQRtEeESXfmoiqbwAKsVxbvzYMTrmpk/u0AlacdQrV7LLlw9lWWpqoTJFlsXI5eTzdGn2PofwuDz+90b0QDCLBxX9KkwTohUk9oerSEnEwJcKfcyNDWyahBJL7kaHCg9J2m4ln/AAobzzkgY22xmDnTC0MBbZuIGZmfN+p+lRhWrYzTpZTap+QEnHk5ajqJ5Pn93kDcWw8uJJNI5uixG8ErLQzTbwG5JkHibu3tTQwMIBktrRQYxrbkSyvCYIrKAGcUYSFzoMPCpy2JDLaU7U8a+WxbNgHAOSp5EMr2QgC0Sm8xGjk8R0jp9j6H8Lg86alACXLQCC+s0iUR17PvigKhwCwCUtO5KpVYauzyo88gGBCRhKkW+8hUkgChxaNETDkgkRvAEkU9lClEsp1XzfqfpVrWVy7l2BQEIQByef8ASeFO2AkRsnibEqZ3UU4YGEcPk7oSi6hWRRGoCl52g4yOEMdaWTInQreDSXSo4GQJEdEpNAgiiEHgG0Xtt4ZQkCAnNwmot5lhq5llLm3Lyci0v70BL3Heva+hhTXoQDDO0Ing0AIIkiOf/GHhg0E0mxLtfaoSehxddEGgSgi9AToyVbWUVXLP9DhJp4iWmSKHM+Ki2ERjgzH5vnz58+fPnz58+fPgrENQS4EEBkQP7lg2qJPQ4vCdw6Jo4dorkmH6Ygr5P9K+T/Svk/0r5P8ASvk/0r5P9K+T/Svk/wBK+T/Svk/0r5P9K+T/AEr5P9K+T/Svk/0r5P8ASvk/0rWewJsclvSRlLlBIxzlfC5bIH2XYvRSUrYcRXBxGi/ISFl0HBLnbTwFnCkgfgUwYQEgl4n80OHDhw4cOHDhw4cMDNFKDMxeaPEYySeY0sFABqBTBhASCQxP5latWrVq1atWrVq1e5DXvRti8cPEYbknolt2JvlHsPd4K5jg87mMnG2tGvIBqUyRWhwyqGNwtAIPLPHgSGJBS1mkWZQA7NLsIxsZv7Pb8ETYnBq2O9Ew4eVkitDhlUMbhaAQeT6VD4s0CUBIjIng25OCAlXpRiEnBEx54mxODVsd6Jhw9DR+B5bbPSrBEYdmgdx8OGYos+TlkcZ3r5/d5pELsSbPDRIH2nkILbd3hF2WIBTDQraNadL5MoMBiXy8N6M0oma9CMWwxm9A3gJBtkTNZmfby+wV+x8vz+7ySlIIWUmKCQi9Atlcdw1M1Kt6RBaLMWBm9XKURqSEk3YdqWPhqoJDMiSQ5U1/qqiEJIxa9Gt9whgpujWKUWlfAFrlkjqU8Er0DKlEQXkHyewV+x9E4AjqWe4PgGGQhhh5nGlpyGrfQ89dkfNzr3CtwFo3xFkQiFXMRocYFUpLjmTRYN7e/BqxVxm0SNLI8JqQBKgIAoQJyfDy+wV+x8vz+7ySMZY0wEwGrUo8RkFkYgvGHTWoRVUkzQjiDhHCnmWoAzRYTnSjb1/rouOqMwfBaOV2Xk5S4ova/OooogoG5whOm/k9gr9j6JafxE5MvENkIwyhk4P7CpqampqampqampqampqamvYK/Y+VBXCGW6XoXqampqampqampqahohstDclSkKJm+Llme70mpqa9gr9j6IHsv5SRUk5n59LvE9fD5/d4g4hGVaCTMRm0Txq/omkzA2yDEk3SLFNyaw7YtMpvaN5q6rcIDsS0Em9RQhMkznHAQzxM+DLApRQsA9yL96MAhI4sxqiZGgUEtM6r5hCC2kWoDKQE3BIzpQKLLjIWzh1JGpe9APbxIQEYVjO7jwSdGn2PkBAJU0KdMJ3IZmeLl6HlAiTgYAPAZaELU0YEh9xOaILiAwa3MprI7C3kFvWJSlXklvSQQ4XRUtBgOMshKOAvPE8oSdGn2PouzR9GHtPv4fP7vAuGGHSaPA0WVkDRFol5tXz5S1/zaFbo2mgAeFylaQiXXAHWlQkgQpAwDtTwwMIBktrRxDi6rPG2N/ef0arjQ6JWWu4/1TMa6ILu8/hRE5JOdl6FwBLlsA2iFoZlvJjwdI6fY+TB4ytMpymXob18/u8wEigtakZKX2aXPTcRzYIui6Yis68myMEyCXEMztTGTF4RGBJkIJCM1ODRsFxMRiW0Qb1OQwMKQTYHa/lDpHT7H0Wy8i/F/Fnp4IASsfdQgkiSJr4Wl1F+kGpCIYjXNMgYQaJqMULsgMgGBctWY5pvJJas4DRZK8oRN70smReQreDSXSoGXSI0ylBACITB3RETxpCI3HI0QRYFJ4MWzTaww6TT3CSrIEBLBbfwwFm+OH/Qr2PjHJhlcGq4H7grisi5Wq8VpACVj7qEEkSRNfL66WkBO91M5e9Fi9AhMw2TaCoyUQojEKTRQ/gcJmylWYKpXkkpC3JCCt1tr5fgLN8cP+hXsfRT3lA3GzS4SpnVsHqQ9aExIgjrQhgJAJgWEYIMFfaKfaKfaKfaKfaKfaKfaKfaKfaKfaKfaKfaKfaKDIB6qHwYiWHLLdWC/DFQRt4OpDlacImt6f8ATx8BMSII60YYCQCYFhGCDBX2in2in2in2in2in2in2in2in2in2in2in2in2igyAeqh8GIlhyy3VgvwxUEbejbYg+y91QrcKGkYFMGEBIJDE/mjRo0aNGjRo0aNGjBN6rCDMxeaPEYbknicZa8D+fty8VbhQ0jApgwgJBIYn80aNGjRo0aNGjRo0YJvVYQZmLzR4jDck9HKPU1uUWPdSKaBDxQ1DG4WgEH54mxODVsd6JhwpngJHr82hx5UBgcA0PFkitDhlUMbhaAQed4PAQs8SafgibE4NWx3omHD0YHGQhHUpFUoZygpdV/4HsFafIwAGUwHFajsXlGQ2HAx76+T5/d5vjN1KZfmVL9RJLYisi5BmacNsJonBC0QC6pUbnDUUvcZF4hjzewV+x9HENZ1zSd0+AYO7txwkzp2qxaqUbcnhTogz29GaSCDCIurat2KGpdINxN4oqCgibhcgahQTA4hlFy/GgHHKJySk1GnDahiCXQiNaRDZQGDhuuPClEUAEq6U2L8k3QZr6t0iUoiZyADgma9grS/ZBjgP8nV18vz+7zfGbqm1t6oytJDWhhdy1oG6z2q0owWuRIudJzzhOOoJJwsh1T4Pm9gr9j6PZTJJyGe5J1qaZRSHc7DaXJNoptkOIEJE4IC+6Xqa4/FIbojInLm9Gwd1tUWNSxRvseXERJgW22KZn+miqskNHgERcAB/W1X8BufQRsW96eCeuCbsBBY2vNFiS5uRc8io0BIopqi/VNDy5DnIHgah/aF3ibaSEkwdFNTECBhUSdlqHXIIY+Xz58+Z6K3yBdsqmpqampqampqampqampqa9gr9j6P8/upYEEkhOJUhMUTo6X0INtBITm+Mz7Wq1F4g8aMlnjE1BByLm8oSS7rq5ps+A5ALBsLtuNWLkM4kkNuxTsbbwrIrFgQtvS5wp4uQUoMfmDRhgAzG61rXGPMoyccTSJxZOABLETGaDLSEdQSseNJ5SRsQSQ8edKRdRRDFkUgJIkTeuMSZAfimHo+X5/d4iIlGhCmYNjel5klhrlgbGzJdvQ/hZzgoncox6jXgUrN5CA7Eswk0HsuJkLKWC88TwBU3EOwChyelxJ4KE9ighhIkiLqDDvSMiYCyAiO83HxJOjT7H0f5/d5gT0timbMm50/EAOkdKID7fGx4OGgKQ1Tksnk+f3eJPSBxCV/BvCNN2h9nIgRlVd1e/gAB4XKVpCJdcAdaVCSBCkDAO1PDAwgGS2tKoOZchJYBAzcpRvwjMjqQ65p8ENTQv0P2rgjnoIDxOkdPsfR0AJWPuoQSRJE1/P8A/wDAWb44f9CvY0WKkjgtOc14cqEBUjcTXxQAlY+6hBJEkTXwkr0zhAkIDfejjEAgPeWgcdChmC0QTC2vGnhsxzTeSS1ZwGiyV5Qib3pZMi8hW8GkulL1+JWI4pRgREMDCTrxoHRKyg5ByUZcIQcSJFkY4+PAWb44f9CvY+jiYkQR1oQwEgEwLCMEGCvtFPtFPtFPtFPtFPtFPtFPtFPtFPtFPtFPtFPtFBkA9VD4MRLDllurBfhioI2pBESRyNNmrTsjXp04cvETEiCOtGGAkAmBYRggwV9op9op9op9op9op9op9op9op9op9op9op9op9ooMgHqofBiJYcst1YL8MVBG3o6TmlLLXCdq4TtXCdq4TtXCdq4TtXCdq4TtXCdq4TtXCdq4TtXCdqA0dqKtjxBEiQeSwlSILw7ucHJ4IJYUUBi6HPNHX8wkSJEiRIkSJEiRIkBx0ZjSwkXZG48/XJIAQS/wDoZOprQUhgMJSMQycRVDejLrrLdWVd38IbgnCjC5Bx8wwTD2SnneG3aW9Sbh65mJkL0yvK5OptXz+7yzixFOtJSyS6VPDFsTOQoZaV1RsEhFjjgpScEkPICFyg0ooG1HCAXXCL58BM4ZOKAAv9VFenE4EwriPk9gr9j64LjBkyOicRpFCPjplB4P7nzRLOskliU9AWs7rLiEC4JTNPdc0MkxwzVyMGe6VRgte97aVwgBQrdTKzCXJnAb3b1a2SdSxcARJt5PYK/Y+urD2V3Rlfvn5QP1B+suNmg4wgCANooPyQCGZiy996gd5gFAXNy0QTWbT1nMheh3hOAGByThQMpwLdUo24wMAOB5PYK/Y+u/P7vEJJNlkSwobOVmbUfDlgFWBbEXV1G/gSCrAZWgvAEQFmLkwhN4yUnpOGgsgO9Dgwst6P3vA4PzI2G8WyWHOa4/OJsDE9amFDTM8kWxaYe1TYLa6LA7j4JuhT7H135/d44OEAOp/ZoqEQhjYUhvDAJ3KmGBAS8JRaDW0d7Cs4ObRYGFLAQyNFpidJpfQspGLBNdqeOytLJgCOSw+FgPjISssG7ViPXoQTyYSaAIo8HMREjKsau9XgCl2PDJydPsfXfn91c/hGL9UBOlRrIpagr0timcuxFCl5pM3Z4jQL28MsgKQ2ILYLbUs/s7LMwckutR0lKlIiTKDan35hqlVylan2bKSUQknCrldlu0RBsHjE61OnlnCUWJaijYqDMtL+46eGJ8FPsfXZ2JGE6U6JI4kGEIhiJuz+ZatWrVq1atWrVq1aNYlqp8SZZIzoYsGkt71FGx66gIaTlnSvoq+ir6Kvoq+ir6Kvoq+ir6Kvoq+ir6KvoqCf5UdAHT/5J//EACsRAAICAgAGAgICAgMBAAAAAAECAAMREhATISIxQAQyFEIjQSAwM1BRYP/aAAgBAgEBCAD/AOCHRczczczZjNjNjNzNzGx0Pvn6jjX9HhZQ5Muzuc8G8D3mYKCzVlmTZuBOBmH5CAZ/wbwPeP8AM+s/UcWBKkL+N24Hji3geoFJ8aGaGaGaGaGaGaGFSpwbnIwiIgRQqrt/XdO6d07p3TundGznr6Z+g/0WuEQM1KEZd5+o4VKHcKTWMGNSRBR/7wbwPU2BXEVQ9SpHqU2RaazgGtUHcBShG0NdYDNLEVQCtrs1wU81pzWisWTrEfRg0VyoIHPIOQbySOLeB6lPWkOdmGILbASRu2cxbHXxzX22hdjnLWM32+QhKq6VuLFDCH6jjuSSI1qmraAsjgNwbwPTv6rpBgrrNRNRNRNRNRNRNRGI6AN/C+/AYIwdRNRNRNRNRNRNRGx0A9Id12YMAZOwmwjKy/bYQdfGwmwjY6EEBhg1EoeUwwBk7CbCbCbCf1mbCbCNjoR6JIAyaAdNifqOA8x9CxDADpv0CnPBvA4W1l16V2cysGUgEmIPGVKAAQAFSw/jzg4Tbvs6OY3gelf3AVwkKMmssybNY4QbEWKTicxM4juExGuRQSeYggIIyG8DjqAMjgbFDhJzCqkBLFf68G8D0l7rS0b+V9Z+olibqVhp/sJ8bUiWViwjL/HLsST8c5yFUKoUN4HH9RxZCzhpyQAQKa2Rjng3gf5laalG/M+POZ8ecz485nx5zPjzmfHnM+POZ8ecz48+SqVKLACyVhAiBFChdv67p3TundO6d07o2c9eAYibmbmbmbmbmbmbmEk+f8vlfZZate5QpSo6OER1UQUqcCGpQOiHWosDSrNGqQKBLaggBHz2AoqU1KervP1HFKwULnlNjMtr5ba8W8D0vlfZYzFjsXuZrNxzGyDOa4XWcxotjIMAXOCTOc8axnGDdYHvAbnLOcsVgyDHCqxaztDeSmsscOc8W8D0vlfZeNbsK2nJXOSKUc9vLqyI66sRx+ahQ02orB1DLD9RwdsOAaWYrlktY3EG61kfEqJOQY3gel8ryp4hiBgc09ojXOxyea+cwkk5PD5qk/HQBWCEOIMEYOohrRjkipAchq0YYJRT1K1qowNRGx0A9Gv5FtY1X8y2fmWz8y2fmWz8y2fmWz8y2fmWz8y6O7O2zVqMNU1TEHlsMAZOwmwn9ZhOPOwmwmwjAdCOAwBk7CA58bCZ6ZmwmwmwjAdCPRfttVpahYZVHD1hhwUOCjQICuVszyhxbwOJ+o4fH2IKgLkKsrCvjKIrgNLsB+kbwPStQuhARw6hhqAMhnCkArajLsOaoXaMwUZPNXAIFyMoIRg67BvA4EgDJrdnTcxmCKWIdTNlE5wqyYzljkxvA9OrtZkh+ojqS6kVoyjqK3Fu5YWPXiKuBiUUmsdaVKpgt4HB/wCZ+XD9RxPxyxyW+O3XC1OLNm4N4Hp2drq8XPiYmJiYmJiYjZz1tsKjC11itdQufExMTExMTExGznr6ViboVlb71K3+ixgqBmqUk815+o46dm8NTeRZWazg8G8D1EUqCIUFpGnJXOYaVxkCgeTyUGctUqDuspCKZdYrWituek56RXDpkcFdQmrc8dZY4c54t4HqfqIbnM5r5zGvY4I5zk5JdjOc/WGxmGDepGtiIwdQyw/US8kV5AY8wgWEqdpSxdQ5V2V9XtZ+/WN4HqDquJoZoZoZoZoZoZoY2Ogn/DZwHVcRqtxgmhT5NeRg8oZBnKEakMpU6GNjoPdZQ6lWpYgmtwBjJysysysys7ZlZlYwA8e7chYBkRxZUGE+OzLauAptILLUpAmikbGwAMQI3ge+FCjIZguMq6se3mBWCw3ZxXGtCdSbFGDFYMoYN4Hvn6iWg5UhVdHLRqWNocFHLBoQXTrTUa8k0KVqUFvA98NgYmwmwmwmwmwmwmwhOf8Aq//EAC8RAAEBBQUIAgIDAQAAAAAAAAEAESExobEQQVGR8AJAYXGBwdHhIDIwQhJQ8WD/2gAIAQIBCT8A/wCDoFQISVAqBUCoP6DULcO4THEfDT9+gFeYYB08cvhx6Mj8NP3767MeJw6X8eR+BYUbiD16x+Gn7qzMJmYTMwmZhMzCZmEzMWfYyxPSrLWSTJJkkySZJMkmS3XHx+C4d19jLAdKts1Cy9bJHPnyCIwPBG5t/i3T901BReRnBX7RCa9sk1hBUGNmyPpFrGTUNZLZJGyG3PJJe83V6LYMvK2DLygzLhg2y5XoXtQxGdun7p+xJoyTEYIxRRRejFFfYQzeOtWG63ULdpzr+Bv7KLnNe+CLYCM2W6fuf7O8yaixET8IifhET8IifhET8IifhET8K5fUx4HHsehxtNUao1RqjVGqNd0/UTPpmdgqhVbLM0KoVQqhWyCuhxHkQPQ32CqFUKoVQqhVCu6RL8/EFqFrh/LGKAa9kMHTUWGtun2OIeNVUWlvAuUWOQEXw1kgIHuxANYMMVBop5QYGPh0YyzT9y/YyiZO62Xlw4OQReir1ddeiLNPtv8AVsU9cDnbp+5XOzeey+ojxOHSJ6cVqFhe1qLYS6q4tkVtY9uPBG9t/Hjxs0+3ULTBX4v7rADK3T/mGkhq2JrYmtia2JrYmtia2JrYmtia+pDV9tqV5PTwLWSTJJkkySZJMkmS+NAqBUCoFQKgVB+DAJge5l3NRYZKJbVF5DeCL2A0QDW4NToT5qLSKK/Vyva3kC2bh1UTIYav+MrC23T9ywCjZcisGKgRije3rZDYAYGEvL2uEO44IHI+EDkfCoRhjaH803CLskLdP3LAW3eVAsZ1jkmxYjPuz4RII5sLWV6sULNQsLAwmlF05Jw5TUAGzVxNmn7lgPh+vlFH4RAbNozX12pE+a87TVGqYjVEa6I1RruZcqBUCoFQKgVAqBUCMgi0qAodM6KImMfPuwVQqtmqFUKoVQr8RVbNUKoVQqhVCu53u7jvmoiHjr7XHtb9WPwQaWCpQvNun26hYCwshcnj+TG9RVC8IYyYgyzT9yjdzumr1efCvRcvdhir7NPtgS7k5/W08Efhp+58+h9tWoK7wmRJzRc+bPCcTFBiwAyXGq0+yAj47ng69ahbe3G9nhdOb3+oIwbNni3T9z5HrCbutgGftAZ+0Bn7QGftAZ+0Bn7QGfuz7GHnkPVoGftAZ+0Bn7QGftAZ+0Bn7QGfvdb9S/BADyomQw545XD44rtg34afukGk5sbN/VMY3B48oufgYckbmzYjcML+aN7HI3kZIvHL/U1my+BLS0shcK8k3I+E3I+FQjDG0ayQ0xiFun7pqCPZUCuDEbDFa6qImGw8ceqgbNQXCqLhHn/keiPBGIDkYtI5NRcAc4y72afutQqhVCqFUKoVRZ9dqR91521QEkySY7igH8lA8VUb9AqImMfPHpYNZIayQ1khrJDWSGskNZb/APYQ8cj7uXGw3hPezppq2YtfyansAx7KFmn7/efFhgi8q7/Xoq9QK0/f9QVx7Ed0Isv539kb+xHdOxYTkgwkIYQ1fZp/9AKoVQqhVCqFUK/1n//EACkRAAICAQQCAgICAgMAAAAAAAECABEDEBIhMRNAIkEEMiAwQlEUUGD/2gAIAQMBAQgA/wDBdmptE2iUJQlCbRNog9/71b9lgB2iJW0VoOz7wBJoNQahoBZqD8dya/gOz7w+C3PvVSoYFv8AlfLcdR2fUJAm4TcJuE3CbhNwm4QEHpQOySSbJr74nE4nE4nE4gquPT/y/oQEsQGI6E+9HYqpI3mxBkBhy/60HZ9SubhJVy0VyFhyNyQzN0TkYHbNzkgRGJNFVAUmbRNohFNoy7hUZQSJ47FHx6js+o/71No5hRT3tEKqe9i1UCgdBQOsZAJBYFTRn3rsAAMXEwzbYQuRCV0HZ9NO7hsG5ZlmWZZlmWZZi32R8xWnINyzLMsyzLMsyzB6fSTkmpRlGAhuqMPEoyjBAaNhhY3DkmpRlGUZRn3UoyjB6Xcfuh96HqLuoUSf8eb40HZ0VqPLLtapkuhGPcO6zCaNH5VY+VfFP1EHZ9JODugFmg1BqGNDkbaDjcC543omIhe4uF2IA8bmEEGiOzrZutRjYoXgx2Rb42T9tB2fSPCgQfEXPuY32OGgz/Rf8rcCBjyHGGpPyQigAfkiqLsWYsR2dfvVcgVCs85LAnNkV1FaDs/z3O5O3blm3LNuWbcs25Ztyzblm3LNuWYmZztPBYmEkmya++JxOJxOJxOIKrjQgGbRNom0TaJtE2ibRAK/nh6MQttDBshP67mUkw5D3A7XGFvUGQgQOxJMRyxIn44PkchiOhPvVnIbbN4uojbheo7PpYejAABQXGAu07FqpsW7m0RkDGz41mxYqhesa7UJGwzYYRTaupYVBjAa4qlRWo7PpYejq6gsJ5DVQ5GUc7nqKbF64GvehIINGfemNbxkjMqhqV8KjCCuHErpcygCiIOz6WHojWh3Nn7QIoFTYtVAABQ0wEeRjCCRRnINyzFyMooHK5FFcjKbAZhwGdmNmzB6TYkY2fAk8CTwJPAk8CTwJPAk8CTwJFUKKDE2GDAfsObqUZRn3WlGUZRgvXm6lGdd0dKMoyjBfpDlSIprgkUxGrFaYTcborW86js6/emWuDLrcYxKxmKkiY/10HZ9JTRskUalkmKhYEhsLq2wjExbbFUsaHieyC2F1YqXUo20js6sAGrRFLsFBxsIEY9DC2ShFUKOIOz6bcgNPuY2ARlOTIrHg5UOLYFONMlxms3PyMwynjMwZ7UdnRfiN0+9V/JCilX8heLbKhxFF0HZ9NeVIhr+gVXCrfJZtxuGv6BVcekpo3GFOR/QoJNBiB8RPvXd8tsDiKwYWNB2fUJswMUvd5GgyG6JyHqb2PQcseFyFjEUhSw2GbDCCG1KnduHj6iqV41HZ9T7njWbFqoMYFg+NaqbRPGsCgGxjI5UkEGjPuYADkAJUeIE41DjbMyhGOMOism5MKp8N0HZ9To3Nwm4TcJuE3CbhNwgn7rp0bi5Ch3KMzr0HINjyGiJ5DxFylGDDcIPdBINhgP2HN0OZzOZzOZzOYD/AL91WA4JUqxBmQAobLBAQC5szcQaC2VFwdn37JMVS10yMo5GMspYDEQN8XGX6GNjYjKUYqR2ff8AuYiKcFmR0CxcyjEcZDoFKQEJk4zZRkoD8hg2ViB2ffIlGUZRlGUZRlGAV/1f/8QALREAAgADBgUEAwADAAAAAAAAAAERMUEQICFRYcECQFChsXGBkdEw4fAyYPH/2gAIAQMBCT8A/wBs/sCqfR9Iaxl0KbuKKFVNY5e0ugyVu5ubm5ubm/PSV1xELmJGUSkDNEzWxzH5+h+fodxj5elisQrZO9w4tOmqp2iSi8YYYT+BQm5do8tSxCEIQhWTVqEIQhC5StjGMYxjusYxjGPlKXMiMCUbsrY6Ga2HhHYyfkfKUtYsBPAoKdaCf4JIwNV8crUm7VhCG4oT7+xVQ7p7HDk/iOmpw0hTTSkKx8Fb6mUyw2M2/SP4nBI4uxxdji7HF2OLscXY4uxxdji7EySt3Nzc3Nzc35PNmRoaEhYRgZGpKEbZc5m/xVf9/anlHlXHhy+buUiZCuSj/bXVFxS8+Sk8omLjnpL2Jtw7FUuUzuVEK5ImrVZG4uTX5mMYxjHdYxjGMfKSuTiOCiPL8DMHAdB5D5egsT9YWKRS/Ni1FzNfsjJL4Fjh2j9mKUhxM28dTTxbOn3cpDHCkfs9/TDD9zFOHaP3zDGMYxjslaxjGMY+uzEZw7WKxYFTyjyrjH0CVzXwLFy9P+y9xai/xbxFKCfrD1OHHia+JP525+a8frxb4G7KjeHqTXQJdHk7mGA8jN9DoIWCKi/pFJ+Ca6DVbp7DlGkMsIbipunsOOUUvmMRxSY3WetPYz6CxjGMY+mf/9k=)"
      ],
      "id": "89woPohPhPnU"
    },
    {
      "cell_type": "markdown",
      "source": [
        "Нам сейчас важно понять, что данные бывают изменяемыми и неизменяемыми. Посмотрим на табличку."
      ],
      "metadata": {
        "id": "ybUeJ34HKeHe"
      },
      "id": "ybUeJ34HKeHe"
    },
    {
      "cell_type": "markdown",
      "id": "991ce273",
      "metadata": {
        "id": "991ce273"
      },
      "source": [
        "| Неизменяемые  | Изменяемые    |\n",
        "|:-------------:|:-------------:|\n",
        "| числа (`int`, `float`, `complex`)| список (`list`) |\n",
        "| логический тип (`bool`)      | словари (`dict`)      |  \n",
        "| кортеж (`tuple`) |множество (`set`)       |    \n",
        "| строка (`str`) |       |   \n",
        "| неизменяемое множество (`frozenset`) |       |  "
      ]
    },
    {
      "cell_type": "markdown",
      "id": "2357dd66",
      "metadata": {
        "id": "2357dd66"
      },
      "source": [
        "Что это значит? Попробуем рассмотреть разницу на примере списков и строк. Список в Python – это упорядоченная последовательность данных (так же, как и строка – на самом деле – упорядоченная последовательность символов)."
      ]
    },
    {
      "cell_type": "markdown",
      "source": [
        "Подробнее обсуждать списки мы будем позднее, пока же просто посмотрим на то, как они выглядят."
      ],
      "metadata": {
        "id": "y7AjX6gxN_sR"
      },
      "id": "y7AjX6gxN_sR"
    },
    {
      "cell_type": "code",
      "source": [
        "my_list = [1, 2, 3] # создали список\n",
        "my_str = \"abc\" # создали строку"
      ],
      "metadata": {
        "id": "Jg9NIfGDOHTV"
      },
      "id": "Jg9NIfGDOHTV",
      "execution_count": null,
      "outputs": []
    },
    {
      "cell_type": "markdown",
      "source": [
        "Теперь попробуем изменить значение первого элемента списка."
      ],
      "metadata": {
        "id": "7n1De7mfOS6o"
      },
      "id": "7n1De7mfOS6o"
    },
    {
      "cell_type": "code",
      "source": [
        "my_list[0] = 4 # о том, почему нулевой - это на самом деле первый, тоже подробнее поговорим позже\n",
        "print(my_list)"
      ],
      "metadata": {
        "colab": {
          "base_uri": "https://localhost:8080/"
        },
        "id": "31e1S-gQOcgj",
        "outputId": "c3b3c851-0bb5-4374-f2de-72d55ff6f284"
      },
      "id": "31e1S-gQOcgj",
      "execution_count": null,
      "outputs": [
        {
          "output_type": "stream",
          "name": "stdout",
          "text": [
            "[4, 2, 3]\n"
          ]
        }
      ]
    },
    {
      "cell_type": "markdown",
      "source": [
        "И то же самое с первым элементом строки."
      ],
      "metadata": {
        "id": "CO-XeFKYOkko"
      },
      "id": "CO-XeFKYOkko"
    },
    {
      "cell_type": "code",
      "source": [
        "my_str[0] = \"d\"\n",
        "print(my_str)"
      ],
      "metadata": {
        "colab": {
          "base_uri": "https://localhost:8080/",
          "height": 164
        },
        "id": "Ez0FdOoxORgn",
        "outputId": "63d2e5c9-b15e-4389-8728-f39305da402a"
      },
      "id": "Ez0FdOoxORgn",
      "execution_count": null,
      "outputs": [
        {
          "output_type": "error",
          "ename": "TypeError",
          "evalue": "'str' object does not support item assignment",
          "traceback": [
            "\u001b[0;31m---------------------------------------------------------------------------\u001b[0m",
            "\u001b[0;31mTypeError\u001b[0m                                 Traceback (most recent call last)",
            "\u001b[0;32m<ipython-input-8-98d07ce6c042>\u001b[0m in \u001b[0;36m<cell line: 0>\u001b[0;34m()\u001b[0m\n\u001b[0;32m----> 1\u001b[0;31m \u001b[0mmy_str\u001b[0m\u001b[0;34m[\u001b[0m\u001b[0;36m0\u001b[0m\u001b[0;34m]\u001b[0m \u001b[0;34m=\u001b[0m \u001b[0;34m\"d\"\u001b[0m\u001b[0;34m\u001b[0m\u001b[0;34m\u001b[0m\u001b[0m\n\u001b[0m\u001b[1;32m      2\u001b[0m \u001b[0mprint\u001b[0m\u001b[0;34m(\u001b[0m\u001b[0mmy_str\u001b[0m\u001b[0;34m)\u001b[0m\u001b[0;34m\u001b[0m\u001b[0;34m\u001b[0m\u001b[0m\n",
            "\u001b[0;31mTypeError\u001b[0m: 'str' object does not support item assignment"
          ]
        }
      ]
    },
    {
      "cell_type": "markdown",
      "source": [
        "Это оказалось невозможно. Хотя, конечно, мы можем полностью заменить всю строку."
      ],
      "metadata": {
        "id": "fq864uuvOzwq"
      },
      "id": "fq864uuvOzwq"
    },
    {
      "cell_type": "code",
      "source": [
        "my_str = \"dbc\"\n",
        "print(my_str)"
      ],
      "metadata": {
        "colab": {
          "base_uri": "https://localhost:8080/"
        },
        "id": "xv2dEQuKO6WR",
        "outputId": "1acdf4ec-74d5-4c36-e723-2bc491562189"
      },
      "id": "xv2dEQuKO6WR",
      "execution_count": null,
      "outputs": [
        {
          "output_type": "stream",
          "name": "stdout",
          "text": [
            "dbc\n"
          ]
        }
      ]
    },
    {
      "cell_type": "markdown",
      "source": [
        "В таком случае в переменную просто запишется *новый объект*, но вот старый мы изменить всё ещё не можем. Подробнее об этом, а также о (не)изменяемости других типов можно почитать [здесь](https://github.com/aaparshina/PROG_23-24/blob/main/PROG_01_upd.ipynb)."
      ],
      "metadata": {
        "id": "-nqU-EPKPP0S"
      },
      "id": "-nqU-EPKPP0S"
    },
    {
      "cell_type": "markdown",
      "id": "ebe91256",
      "metadata": {
        "id": "ebe91256"
      },
      "source": [
        "### И снова про вывод данных <a name=\"par3.2\"></a>"
      ]
    },
    {
      "cell_type": "markdown",
      "id": "869f10cc",
      "metadata": {
        "id": "869f10cc"
      },
      "source": [
        "Вспомним, что у функции `print` может быть несколько аргументов, поэтому можно напечатать сразу несколько строк:"
      ]
    },
    {
      "cell_type": "code",
      "execution_count": null,
      "id": "1c16baa7",
      "metadata": {
        "id": "1c16baa7",
        "outputId": "a3858d25-aeae-4f26-9dd2-0d47248c7ec7"
      },
      "outputs": [
        {
          "name": "stdout",
          "output_type": "stream",
          "text": [
            "Это первая строка , А это вторая строка\n"
          ]
        }
      ],
      "source": [
        "print('Это первая строка', ', А это вторая строка')"
      ]
    },
    {
      "cell_type": "markdown",
      "id": "00b8743c",
      "metadata": {
        "id": "00b8743c"
      },
      "source": [
        "Также можно напечатать с помощью  `print()` одновременно и строку, и значение, сохраненное в определенную переменную."
      ]
    },
    {
      "cell_type": "code",
      "execution_count": null,
      "id": "58987406",
      "metadata": {
        "id": "58987406",
        "outputId": "303638fa-f085-4e86-dc7f-e3d24a5a2c15"
      },
      "outputs": [
        {
          "name": "stdout",
          "output_type": "stream",
          "text": [
            "В переменную \"name\" сохранено имя Анастасия\n"
          ]
        }
      ],
      "source": [
        "name = 'Анастасия'\n",
        "print('В переменную \"name\" сохранено имя', name)"
      ]
    },
    {
      "cell_type": "markdown",
      "id": "9b313a49",
      "metadata": {
        "id": "9b313a49"
      },
      "source": [
        "Вы можете поместить также в функцию `input()` строку, которая будет показываться пользователям при запуске кода. Например:"
      ]
    },
    {
      "cell_type": "code",
      "execution_count": null,
      "id": "6bdaf8b2",
      "metadata": {
        "id": "6bdaf8b2",
        "outputId": "e3430ad4-8ed4-48b5-9d82-abf5e17204e1"
      },
      "outputs": [
        {
          "name": "stdout",
          "output_type": "stream",
          "text": [
            "Введите свое имя: Анастасия\n",
            "Hello,  Анастасия !\n"
          ]
        }
      ],
      "source": [
        "name = input('Введите свое имя: ')\n",
        "print('Hello, ', name, '!')"
      ]
    },
    {
      "cell_type": "markdown",
      "id": "59691a33",
      "metadata": {
        "id": "59691a33"
      },
      "source": [
        "В примере выше вы можете заметить лишний пробел после имени и перед восклицательным знаком. По дефолту, если вы печатаете несколько переменных, разделителем между ними выступает пробел.\n",
        "\n",
        "Если вы хотите напечатать более сложную строку, вы можете использовать аргументы `sep` (separator):"
      ]
    },
    {
      "cell_type": "code",
      "execution_count": null,
      "id": "a608b778",
      "metadata": {
        "colab": {
          "base_uri": "https://localhost:8080/"
        },
        "id": "a608b778",
        "outputId": "6bb37604-5289-48e4-8e30-8b2d7d65ffe9"
      },
      "outputs": [
        {
          "output_type": "stream",
          "name": "stdout",
          "text": [
            "раз два три\n",
            "раз,два,три\n",
            "раз, два, три\n",
            "раздватри\n"
          ]
        }
      ],
      "source": [
        "print('раз', 'два', 'три') # можно не использовать аргумент sep\n",
        "print('раз', 'два', 'три', sep=',') # sep = запятая\n",
        "print('раз', 'два', 'три', sep=', ') # sep = запятая с пробелом\n",
        "print('раз', 'два', 'три', sep='') # sep = пустой разделитель"
      ]
    },
    {
      "cell_type": "markdown",
      "source": [
        "Чтобы пробела не было, можно также использовать сложение строк, тогда они будут склеиваться без разделителя."
      ],
      "metadata": {
        "id": "VTxx_e0Lkhzi"
      },
      "id": "VTxx_e0Lkhzi"
    },
    {
      "cell_type": "code",
      "source": [
        "print('раз' + 'два' + 'три')"
      ],
      "metadata": {
        "colab": {
          "base_uri": "https://localhost:8080/"
        },
        "id": "T3sDT6ZXkpq1",
        "outputId": "e542b28e-9e9e-468b-a067-ae06e05f9bdc"
      },
      "id": "T3sDT6ZXkpq1",
      "execution_count": null,
      "outputs": [
        {
          "output_type": "stream",
          "name": "stdout",
          "text": [
            "раздватри\n"
          ]
        }
      ]
    },
    {
      "cell_type": "markdown",
      "source": [
        "Для комбинации строк и переменных в выводе также удобна f-строка: нужно поставить `f` перед кавычками, а переменную заключить в фигурные скобки."
      ],
      "metadata": {
        "id": "wGN-ZRHRk9bI"
      },
      "id": "wGN-ZRHRk9bI"
    },
    {
      "cell_type": "code",
      "source": [
        "name = 'Анастасия'\n",
        "print(f'Hello, {name}')"
      ],
      "metadata": {
        "colab": {
          "base_uri": "https://localhost:8080/"
        },
        "id": "bAUuCRJFlCl0",
        "outputId": "6ece3a2f-05cd-4d02-f1d4-8562825eaa16"
      },
      "id": "bAUuCRJFlCl0",
      "execution_count": null,
      "outputs": [
        {
          "output_type": "stream",
          "name": "stdout",
          "text": [
            "Hello, Анастасия\n"
          ]
        }
      ]
    },
    {
      "cell_type": "markdown",
      "id": "a8d1718c",
      "metadata": {
        "id": "a8d1718c"
      },
      "source": [
        "Наконец, есть аргумент `end` (end of the line). По дефолту, это символ переноса на следующую строку `\\n`."
      ]
    },
    {
      "cell_type": "code",
      "execution_count": null,
      "id": "967dadbe",
      "metadata": {
        "id": "967dadbe",
        "outputId": "4c1bb57b-376a-40ce-c82f-5a7a8e38ea77"
      },
      "outputs": [
        {
          "name": "stdout",
          "output_type": "stream",
          "text": [
            "Hello, Анастасия\n",
            "Hello, Анастасия!"
          ]
        }
      ],
      "source": [
        "name = 'Анастасия'\n",
        "print('Hello,', name) # по дефолту, это символ переноса на следующую строку \"\\n\"\n",
        "print('Hello,', name, end='!') # в конце строки будет напечатан восклицательный знак"
      ]
    },
    {
      "cell_type": "markdown",
      "id": "e2a00659",
      "metadata": {
        "id": "e2a00659"
      },
      "source": [
        "**Задание №2**\n",
        "\n",
        "На первой строке используйте функцию `input()` и сохраните в переменную `course` ваш любимый курс.\n",
        "\n",
        "\n",
        "На второй строке, используя функцию `print()`, напечатайте строку следующего типа: ```Мой любимый курс – это: <название курса>```\n",
        "\n",
        "Примеры:\n",
        "\n",
        "| `course`  | Результат    |\n",
        "|:-------------:|:-------------:|\n",
        "| `ИПУ` | `Мой любимый курс – это: ИПУ` |\n",
        "| `КПН` | `Мой любимый курс – это: КПН` |  \n",
        "| `Высшая математика` | `Мой любимый курс – это: Высшая математика` |     "
      ]
    },
    {
      "cell_type": "code",
      "execution_count": null,
      "id": "713d1bcd",
      "metadata": {
        "id": "713d1bcd"
      },
      "outputs": [],
      "source": [
        "course = #YOUR CODE HERE\n",
        "# YOUR CODE HERE"
      ]
    },
    {
      "cell_type": "markdown",
      "id": "6ce43543",
      "metadata": {
        "id": "6ce43543"
      },
      "source": [
        "## Немного об ошибках <a name=\"par4\"></a>\n",
        "\n",
        "Здесь будут разобраны ошибки, которые чаще всего вы можете встретить. Однако, это лишь небольшая их часть. Если столкнетесь с какой-то новой ошибкой — не стесняйтесь ее загуглить :)"
      ]
    },
    {
      "cell_type": "markdown",
      "id": "8255677f",
      "metadata": {
        "id": "8255677f"
      },
      "source": [
        "Помните, в начале конспекта у нас была переменная Age? Попробуем ее напечатать:"
      ]
    },
    {
      "cell_type": "code",
      "execution_count": null,
      "id": "422ccd43",
      "metadata": {
        "colab": {
          "base_uri": "https://localhost:8080/",
          "height": 146
        },
        "id": "422ccd43",
        "outputId": "7ad6fd0b-e90e-4ffe-cecc-83f1a8f5d6eb"
      },
      "outputs": [
        {
          "output_type": "error",
          "ename": "NameError",
          "evalue": "name 'Age' is not defined",
          "traceback": [
            "\u001b[0;31m---------------------------------------------------------------------------\u001b[0m",
            "\u001b[0;31mNameError\u001b[0m                                 Traceback (most recent call last)",
            "\u001b[0;32m<ipython-input-14-9d48a2efbe69>\u001b[0m in \u001b[0;36m<cell line: 0>\u001b[0;34m()\u001b[0m\n\u001b[0;32m----> 1\u001b[0;31m \u001b[0mprint\u001b[0m\u001b[0;34m(\u001b[0m\u001b[0mAge\u001b[0m\u001b[0;34m)\u001b[0m\u001b[0;34m\u001b[0m\u001b[0;34m\u001b[0m\u001b[0m\n\u001b[0m",
            "\u001b[0;31mNameError\u001b[0m: name 'Age' is not defined"
          ]
        }
      ],
      "source": [
        "print(Age)"
      ]
    },
    {
      "cell_type": "markdown",
      "id": "f148489d",
      "metadata": {
        "id": "f148489d"
      },
      "source": [
        "Ой, что-то пошло не так. Данна ошибка (`NameError`) буквально говорит нам, что такой переменной нет.\n",
        "\n",
        "Но ведь была же...\n",
        "\n",
        "Тут стоит вспомнить, что названия переменных чувствительны к регистру. Мы создавали переменную `age`, а напечатать пытаемся `Age`, которой и правда нет."
      ]
    },
    {
      "cell_type": "markdown",
      "id": "b2b0da09",
      "metadata": {
        "id": "b2b0da09"
      },
      "source": [
        "Идем дальше. Предположим, у меня есть две переменных, которые я хочу сложить:"
      ]
    },
    {
      "cell_type": "code",
      "execution_count": null,
      "id": "a89374b6",
      "metadata": {
        "id": "a89374b6",
        "outputId": "b1a2e315-057c-41b6-9cd1-fd6205c508e2"
      },
      "outputs": [
        {
          "ename": "TypeError",
          "evalue": "unsupported operand type(s) for +: 'int' and 'str'",
          "output_type": "error",
          "traceback": [
            "\u001b[0;31m---------------------------------------------------------------------------\u001b[0m",
            "\u001b[0;31mTypeError\u001b[0m                                 Traceback (most recent call last)",
            "Cell \u001b[0;32mIn[23], line 4\u001b[0m\n\u001b[1;32m      1\u001b[0m a \u001b[38;5;241m=\u001b[39m \u001b[38;5;241m2\u001b[39m\n\u001b[1;32m      2\u001b[0m b \u001b[38;5;241m=\u001b[39m \u001b[38;5;124m'\u001b[39m\u001b[38;5;124m3\u001b[39m\u001b[38;5;124m'\u001b[39m\n\u001b[0;32m----> 4\u001b[0m \u001b[38;5;28mprint\u001b[39m(a \u001b[38;5;241m+\u001b[39m b)\n",
            "\u001b[0;31mTypeError\u001b[0m: unsupported operand type(s) for +: 'int' and 'str'"
          ]
        }
      ],
      "source": [
        "a = 2\n",
        "b = '3'\n",
        "\n",
        "print(a + b)"
      ]
    },
    {
      "cell_type": "markdown",
      "id": "f8663844",
      "metadata": {
        "id": "f8663844"
      },
      "source": [
        "Причину этой ошибки мы уже обсуждали. Когда мы пытаемся сложить число и текст, то программа ругается и не понимает, что от нее хотят.\n",
        "\n",
        "К слову, если поменять порядок переменных, то тип ошибки (`TypeError`) не поменяется, но будет другое пояснение. Подумайте, почему так происходит."
      ]
    },
    {
      "cell_type": "code",
      "execution_count": null,
      "id": "c1b06d8f",
      "metadata": {
        "id": "c1b06d8f",
        "outputId": "4faa94cf-9ae3-4118-b55d-f41ba81249f9"
      },
      "outputs": [
        {
          "ename": "TypeError",
          "evalue": "can only concatenate str (not \"int\") to str",
          "output_type": "error",
          "traceback": [
            "\u001b[0;31m---------------------------------------------------------------------------\u001b[0m",
            "\u001b[0;31mTypeError\u001b[0m                                 Traceback (most recent call last)",
            "Cell \u001b[0;32mIn[24], line 1\u001b[0m\n\u001b[0;32m----> 1\u001b[0m \u001b[38;5;28mprint\u001b[39m(b \u001b[38;5;241m+\u001b[39m a)\n",
            "\u001b[0;31mTypeError\u001b[0m: can only concatenate str (not \"int\") to str"
          ]
        }
      ],
      "source": [
        "print(b + a)"
      ]
    },
    {
      "cell_type": "markdown",
      "id": "b977af85",
      "metadata": {
        "id": "b977af85"
      },
      "source": [
        "И последнее на сегодня. Предположим, что у нас есть строка `'1,23'` — вроде бы десятичная дробь, но провести никакие арифметические операции мы с ней не можем. Значит, нужно попробовать эту строку преобразовать в тип `float`."
      ]
    },
    {
      "cell_type": "code",
      "execution_count": null,
      "id": "f4cfd258",
      "metadata": {
        "id": "f4cfd258",
        "outputId": "a94e97cf-2ab1-44c5-ffbb-1b830395240e"
      },
      "outputs": [
        {
          "ename": "ValueError",
          "evalue": "could not convert string to float: '1,23'",
          "output_type": "error",
          "traceback": [
            "\u001b[0;31m---------------------------------------------------------------------------\u001b[0m",
            "\u001b[0;31mValueError\u001b[0m                                Traceback (most recent call last)",
            "Cell \u001b[0;32mIn[25], line 1\u001b[0m\n\u001b[0;32m----> 1\u001b[0m \u001b[38;5;28mfloat\u001b[39m(\u001b[38;5;124m'\u001b[39m\u001b[38;5;124m1,23\u001b[39m\u001b[38;5;124m'\u001b[39m)\n",
            "\u001b[0;31mValueError\u001b[0m: could not convert string to float: '1,23'"
          ]
        }
      ],
      "source": [
        "float('1,23')"
      ]
    },
    {
      "cell_type": "markdown",
      "id": "a27605b7",
      "metadata": {
        "id": "a27605b7"
      },
      "source": [
        "Ошибка `ValueError` возникает из-за запятой в строке — функция `float` не понимает, как можно запятую преобразовать в число."
      ]
    },
    {
      "cell_type": "code",
      "execution_count": null,
      "id": "d2e1b131",
      "metadata": {
        "id": "d2e1b131",
        "outputId": "da2f2888-2f69-4430-8639-7897b812f140"
      },
      "outputs": [
        {
          "data": {
            "text/plain": [
              "1.23"
            ]
          },
          "execution_count": 26,
          "metadata": {},
          "output_type": "execute_result"
        }
      ],
      "source": [
        "float('1.23')"
      ]
    },
    {
      "cell_type": "markdown",
      "id": "f2ea4901",
      "metadata": {
        "id": "f2ea4901"
      },
      "source": [
        "И теперь точно последнее. Предположим, у нас есть строка `'qwerty'` и мы хотим обратиться к последнему ее элементу — шестой букве `'y'`."
      ]
    },
    {
      "cell_type": "code",
      "execution_count": null,
      "id": "26d1b288",
      "metadata": {
        "id": "26d1b288",
        "outputId": "7170471c-d12a-451d-9c11-26f745410617"
      },
      "outputs": [
        {
          "ename": "IndexError",
          "evalue": "string index out of range",
          "output_type": "error",
          "traceback": [
            "\u001b[0;31m---------------------------------------------------------------------------\u001b[0m",
            "\u001b[0;31mIndexError\u001b[0m                                Traceback (most recent call last)",
            "Cell \u001b[0;32mIn[27], line 1\u001b[0m\n\u001b[0;32m----> 1\u001b[0m \u001b[38;5;28mprint\u001b[39m(\u001b[38;5;124m'\u001b[39m\u001b[38;5;124mqwerty\u001b[39m\u001b[38;5;124m'\u001b[39m[\u001b[38;5;241m6\u001b[39m])\n",
            "\u001b[0;31mIndexError\u001b[0m: string index out of range"
          ]
        }
      ],
      "source": [
        "print('qwerty'[6])"
      ]
    },
    {
      "cell_type": "markdown",
      "id": "33d29196",
      "metadata": {
        "id": "33d29196"
      },
      "source": [
        "Ошибка `IndexError` показывает, что элемента с таким индексом в строке нет. Это связано с тем, что индексация в Python начинается с нуля, значит, нам здесь нужен индекс `5` (или `-1`, т.е. первый элемент с конца)."
      ]
    },
    {
      "cell_type": "code",
      "execution_count": null,
      "id": "79c3b409",
      "metadata": {
        "id": "79c3b409",
        "outputId": "e10346c1-44b4-4bf0-de7c-d9d63b2b4203"
      },
      "outputs": [
        {
          "name": "stdout",
          "output_type": "stream",
          "text": [
            "y\n",
            "y\n"
          ]
        }
      ],
      "source": [
        "print('qwerty'[5])\n",
        "print('qwerty'[-1])"
      ]
    },
    {
      "cell_type": "markdown",
      "id": "9b35b50f",
      "metadata": {
        "id": "9b35b50f"
      },
      "source": [
        "## Разметка Markdown в Jupyter Notebook <a name=\"par5\"></a>\n",
        "\n",
        "В среде, в которой мы с вами работаем – в Jupyter Notebook – вы будете пользоваться в основном ячейками двух типов: **Code** и **Markdown**. В ячейке типа **Code** вы можете писать и запускать код, в ячейках **Markdown** вы можете писать и форматировать текст.\n",
        "\n",
        "Что такое **Markdown** в целом? Это язык разметки, который можно использовать для форматирования текстовых ячеек. В Jupyter Notebook вы можете использовать разные символы для форматирования:\n",
        "\n",
        "* *Звездочка чтобы выделить текст курсивом* - `*тут текст*`;\n",
        "* **Две звездочки чтобы выделить текст жирным** - `**тут текст**`;\n",
        "* Квадратные скобки и круглые скобки чтобы создать гиперссылку – `[Текст гиперссылки](ссылка)`;\n",
        "* Штрихи чтобы имитировать `код` – \\`тут текст или код\\`\n",
        "\n",
        "А также используйте:\n",
        "* `#` для выделения заголовков первого уровня: `# Заголовок первого уровня`;\n",
        "* `##` для выделения заголовков второго уровня: `## Заголовок второго уровня`;\n",
        "* `###` для выделения заголовков третьего уровня: `### Заголовок третьего уровня`;\n",
        "\n",
        "Если хотите посмотреть, как выглядит разметка в ячейке типа Markdown, дважды кликните на эту ячейку. Узнать про все возможности Markdown можно на [Datacamp](https://www.datacamp.com/tutorial/markdown-in-jupyter-notebook)."
      ]
    },
    {
      "cell_type": "markdown",
      "id": "e17b47b4",
      "metadata": {
        "id": "e17b47b4"
      },
      "source": [
        "**Задача №3**\n",
        "\n",
        "Используя ячейку типа Markdown и разметку, напечатайте в этой ячейке ниже:\n",
        "\n",
        "1. Используя заголовок первого уровня, ваше ФИО;\n",
        "2. Используя заголовок второго уровня, вашу группу;\n",
        "3. Используя заголовок третьего уровня, ваше любимое животное."
      ]
    },
    {
      "cell_type": "markdown",
      "metadata": {
        "id": "e1b9735c"
      },
      "source": [
        "# Часть 2. Логический тип данных. Условные конструкции.\n",
        "\n",
        "## План\n",
        "\n",
        "* Логический тип данных\n",
        "* Сложные логические выражения\n",
        "* Условные конструкции\n",
        "* Дополнительные материалы"
      ],
      "id": "e1b9735c"
    },
    {
      "cell_type": "markdown",
      "metadata": {
        "id": "6e4274ce"
      },
      "source": [
        "## Типы данных: Логический (булев) тип — BOOL <a name=\"par7\"></a>"
      ],
      "id": "6e4274ce"
    },
    {
      "cell_type": "markdown",
      "metadata": {
        "id": "dcc922ad"
      },
      "source": [
        "Продолжаем разговор о типах данных. Обсудим логический тип данных (`bool`) — неизменяемый тип, который имеет только два значения `True` и `False`."
      ],
      "id": "dcc922ad"
    },
    {
      "cell_type": "code",
      "execution_count": null,
      "metadata": {
        "id": "f58a829b",
        "outputId": "284dd8eb-826e-43a7-e5cb-f87bc491946b"
      },
      "outputs": [
        {
          "name": "stdout",
          "output_type": "stream",
          "text": [
            "<class 'bool'>\n",
            "<class 'bool'>\n"
          ]
        }
      ],
      "source": [
        "print(type(True))\n",
        "print(type(False))"
      ],
      "id": "f58a829b"
    },
    {
      "cell_type": "markdown",
      "metadata": {
        "id": "e6bf4f99"
      },
      "source": [
        "Из чего появляется `True` и `False`? Из утверждений, истинность которых мы хотим проверить. Например, у нас есть числа $2^6$ и $8^2$, и мы утверждаем, что первое больше второго. Так ли это? Проверим:"
      ],
      "id": "e6bf4f99"
    },
    {
      "cell_type": "code",
      "execution_count": null,
      "metadata": {
        "id": "096b8ce6",
        "outputId": "234c0d0b-a9ed-4b21-e4ec-8204407f742c"
      },
      "outputs": [
        {
          "name": "stdout",
          "output_type": "stream",
          "text": [
            "False\n"
          ]
        }
      ],
      "source": [
        "print(2**6 > 8**2)"
      ],
      "id": "096b8ce6"
    },
    {
      "cell_type": "markdown",
      "metadata": {
        "id": "c10db8f3"
      },
      "source": [
        "Мы получаем False, значит, наше утверждение ложно, и $2^6$ НЕ больше $8^2$. Возможно, тогда $2^6$ меньше $8^2$?"
      ],
      "id": "c10db8f3"
    },
    {
      "cell_type": "code",
      "execution_count": null,
      "metadata": {
        "id": "19a5a800",
        "outputId": "7c71416d-907a-4d4f-fad2-be1c683b04d2"
      },
      "outputs": [
        {
          "name": "stdout",
          "output_type": "stream",
          "text": [
            "False\n"
          ]
        }
      ],
      "source": [
        "print(2**6 < 8**2)"
      ],
      "id": "19a5a800"
    },
    {
      "cell_type": "markdown",
      "metadata": {
        "id": "e0072e12"
      },
      "source": [
        "Снова неверно. Хммм... возможно, числа равны?"
      ],
      "id": "e0072e12"
    },
    {
      "cell_type": "code",
      "execution_count": null,
      "metadata": {
        "id": "1e400164",
        "outputId": "c81eb7bb-b285-4d77-ed81-4bb17c20a205"
      },
      "outputs": [
        {
          "ename": "SyntaxError",
          "evalue": "expression cannot contain assignment, perhaps you meant \"==\"? (3906772551.py, line 1)",
          "output_type": "error",
          "traceback": [
            "\u001b[0;36m  Input \u001b[0;32mIn [7]\u001b[0;36m\u001b[0m\n\u001b[0;31m    print(2**6 = 8**2)\u001b[0m\n\u001b[0m          ^\u001b[0m\n\u001b[0;31mSyntaxError\u001b[0m\u001b[0;31m:\u001b[0m expression cannot contain assignment, perhaps you meant \"==\"?\n"
          ]
        }
      ],
      "source": [
        "print(2**6 = 8**2) # ой"
      ],
      "id": "1e400164"
    },
    {
      "cell_type": "markdown",
      "metadata": {
        "id": "67e66a43"
      },
      "source": [
        "Тут ошибка `SyntaxError` указывает нам, что знак `=` отвечает за *присвоение* значения (читай начало конспекта). Но мы точно не собирались создавать переменную и присваивать ей какое-либо значение. Просто хотели проверить, эквивалентна левая часть выражения правой или нет.\n",
        "\n",
        "На самом деле, для такой проверки используется двойной знак равенства `==`."
      ],
      "id": "67e66a43"
    },
    {
      "cell_type": "code",
      "execution_count": null,
      "metadata": {
        "id": "5f477509",
        "outputId": "489f717b-ce0c-4653-c611-f220e8e50c34"
      },
      "outputs": [
        {
          "name": "stdout",
          "output_type": "stream",
          "text": [
            "True\n",
            "64\n",
            "64\n"
          ]
        }
      ],
      "source": [
        "print(2**6 == 8**2)\n",
        "print(2**6)\n",
        "print(8**2)"
      ],
      "id": "5f477509"
    },
    {
      "cell_type": "markdown",
      "metadata": {
        "id": "a0d9bb4a"
      },
      "source": [
        "И аналогично, если мы хотим проверить обраную ситуацию, то есть и знак отрицания `!=` т.е. «не эквивалентна»."
      ],
      "id": "a0d9bb4a"
    },
    {
      "cell_type": "code",
      "execution_count": null,
      "metadata": {
        "id": "66f33344",
        "outputId": "2979b53b-df50-43c0-f9c9-81d4f8a825d8"
      },
      "outputs": [
        {
          "name": "stdout",
          "output_type": "stream",
          "text": [
            "False\n",
            "True\n"
          ]
        }
      ],
      "source": [
        "print(2**6 != 8**2)\n",
        "print(2 != 8)"
      ],
      "id": "66f33344"
    },
    {
      "cell_type": "markdown",
      "metadata": {
        "id": "043d7d4c"
      },
      "source": [
        "<center>\n",
        "    <table>\n",
        "        <tr>\n",
        "            <th>Оператор сравнения</th>\n",
        "            <th> Интерпретация </th>\n",
        "        </tr>\n",
        "        <tr><td>&lt;</td><td> Первый операнд меньше второго </td></tr>\n",
        "        <tr><td>&gt;</td><td> Первый операнд больше второго</td></tr>\n",
        "        <tr><td>&lt;=</td><td> Меньше или равно</td></tr>\n",
        "        <tr><td>&gt;=</td><td> Больше или равно</td></tr>\n",
        "        <tr><td>==</td><td> Два операнда равны </td></tr>\n",
        "        <tr><td>!=</td><td> Два операнда не равны</td></tr>\n",
        "    </table>\n",
        "</center>"
      ],
      "id": "043d7d4c"
    },
    {
      "cell_type": "code",
      "execution_count": null,
      "metadata": {
        "id": "7bda85cf",
        "outputId": "da7a785a-e993-4219-86ab-1a6a58acf32f"
      },
      "outputs": [
        {
          "name": "stdout",
          "output_type": "stream",
          "text": [
            "Если преобразовать True в целое число, то получится 1\n",
            "Если преобразовать False в целое число, то получится 0\n"
          ]
        }
      ],
      "source": [
        "print(f'Если преобразовать True в целое число, то получится {int(True)}')\n",
        "print(f'Если преобразовать False в целое число, то получится {int(False)}')"
      ],
      "id": "7bda85cf"
    },
    {
      "cell_type": "markdown",
      "metadata": {
        "id": "3aa492f2"
      },
      "source": [
        "Также важно понимать, что даже если визуально значения похожи, но типы их данных отличаются, то сравнение через оператор `==` выдаст `False`, например:"
      ],
      "id": "3aa492f2"
    },
    {
      "cell_type": "code",
      "execution_count": null,
      "metadata": {
        "id": "e9f2eb4f",
        "outputId": "38785d99-21c3-48ce-bb47-1d4e35cd350b"
      },
      "outputs": [
        {
          "name": "stdout",
          "output_type": "stream",
          "text": [
            "False\n"
          ]
        }
      ],
      "source": [
        "print(True == 'True')"
      ],
      "id": "e9f2eb4f"
    },
    {
      "cell_type": "markdown",
      "metadata": {
        "id": "fe8cf97c"
      },
      "source": [
        "<center><b><font size=4>Задача №4.</font></b></center>\n",
        "\n",
        "Используя табличку с операторами выше, напечатайте результаты сравнения следующих переменных:\n",
        "\n",
        "1. `40` равно `4 * 10`;\n",
        "2. `100` больше чем `400 - (100 * 2)`;\n",
        "3. `300` больше или равно чем `300 + 1`;\n",
        "4. `80` не равно `4 * 40 / 2`;\n",
        "5. `21` меньше или равно чем `24 - 2`;"
      ],
      "id": "fe8cf97c"
    },
    {
      "cell_type": "code",
      "execution_count": null,
      "metadata": {
        "id": "46594463"
      },
      "outputs": [],
      "source": [
        "# YOUR CODE HERE"
      ],
      "id": "46594463"
    },
    {
      "cell_type": "markdown",
      "metadata": {
        "id": "d39589d5"
      },
      "source": [
        "## Сложные логические выражения <a name=\"par8\"></a>\n"
      ],
      "id": "d39589d5"
    },
    {
      "cell_type": "markdown",
      "metadata": {
        "id": "002ff9ee"
      },
      "source": [
        "В Python 3 логических оператора:\n",
        "\n",
        "+ `and` — логическое \"И\";\n",
        "+ `or` — логическое \"ИЛИ\";\n",
        "+ `not` — логическое отрицание.\n",
        "\n",
        "Разберем каждый подробнее.\n",
        "\n",
        "Предположим, следующую реальную ситуацию: в переменную `project` сохраняется оценка студента за проект, а в переменную `exam` — его же оценка, но уже за экзамен по курсу.\n",
        "\n",
        "1. Если <u>хотя бы одна</u> оценка больше 8, то студент получает зачет. Как проверить, получил зачет студент или нет?\n",
        "\n",
        "Здесь нам поможет оператор `or`, котрый работает по такой схеме:\n",
        "+ если хотя бы одна часть выражения принимает значение True, то в итоге выдается True;\n",
        "+ если обе части выражения принимают значение False, то в итоге выдается False."
      ],
      "id": "002ff9ee"
    },
    {
      "cell_type": "code",
      "execution_count": null,
      "metadata": {
        "id": "346ced30",
        "outputId": "7290d7dd-1e0d-4c8b-814f-a19ddf24afa5",
        "colab": {
          "base_uri": "https://localhost:8080/"
        }
      },
      "outputs": [
        {
          "output_type": "stream",
          "name": "stdout",
          "text": [
            "True\n",
            "True\n",
            "True\n",
            "False\n"
          ]
        }
      ],
      "source": [
        "print(True or True)\n",
        "print(True or False)\n",
        "print(False or True)\n",
        "print(False or False)"
      ],
      "id": "346ced30"
    },
    {
      "cell_type": "markdown",
      "metadata": {
        "id": "6318afe7"
      },
      "source": [
        "Соответственно, на месте этих `True` и `False` могут быть результаты сравнения:"
      ],
      "id": "6318afe7"
    },
    {
      "cell_type": "code",
      "execution_count": null,
      "metadata": {
        "id": "81f8ef2b",
        "outputId": "85b8347a-4747-4089-8df9-d12e11e9f907",
        "colab": {
          "base_uri": "https://localhost:8080/"
        }
      },
      "outputs": [
        {
          "output_type": "stream",
          "name": "stdout",
          "text": [
            "4\n",
            "9\n",
            "False\n",
            "True\n",
            "True\n"
          ]
        }
      ],
      "source": [
        "project = int(input())\n",
        "exam = int(input())\n",
        "\n",
        "print(project > 8)\n",
        "print(exam > 8)\n",
        "\n",
        "print((project > 8) or (exam > 8)) # зачет получен :)"
      ],
      "id": "81f8ef2b"
    },
    {
      "cell_type": "markdown",
      "metadata": {
        "id": "e002394a"
      },
      "source": [
        "2. Если <u>обе</u> оценки больше 8, то студент получает зачет.\n",
        "\n",
        "Здесь нам поможет оператор `and`, котрый работает по такой схеме:\n",
        "+ если хотя бы одна часть выражения принимает значение False, то в итоге выдается False;\n",
        "+ если обе части выражения принимают значение True, то в итоге выдается True."
      ],
      "id": "e002394a"
    },
    {
      "cell_type": "code",
      "execution_count": null,
      "metadata": {
        "id": "92676191",
        "outputId": "12d2c6ce-523f-4592-c6cf-ce97fb8b399c",
        "colab": {
          "base_uri": "https://localhost:8080/"
        }
      },
      "outputs": [
        {
          "output_type": "stream",
          "name": "stdout",
          "text": [
            "True\n",
            "False\n",
            "False\n",
            "False\n"
          ]
        }
      ],
      "source": [
        "print(True and True)\n",
        "print(True and False)\n",
        "print(False and True)\n",
        "print(False and False)"
      ],
      "id": "92676191"
    },
    {
      "cell_type": "code",
      "execution_count": null,
      "metadata": {
        "id": "4367b4f4",
        "outputId": "39617a02-6ed2-4f93-c661-33967fba8c47",
        "colab": {
          "base_uri": "https://localhost:8080/"
        }
      },
      "outputs": [
        {
          "output_type": "stream",
          "name": "stdout",
          "text": [
            "False\n"
          ]
        }
      ],
      "source": [
        "print((project > 8) and (exam > 8)) # ой, нет зачета :("
      ],
      "id": "4367b4f4"
    },
    {
      "cell_type": "markdown",
      "source": [
        "Почему эти операторы работают так? Они основаны на логике естественного языка и значениях союзов \"и\" и \"или\".\n",
        "\n",
        "$A$ и $B$ истинно $\\Leftrightarrow$ и $A$ истинно, и $B$ истинно (**обе** переменные одновременно)\n",
        "\n",
        "$A$ или $B$ истинно $\\Leftrightarrow$ или $A$ истинно, или $B$ истинно (**хотя бы одна** из них)\n",
        "\n",
        "\n"
      ],
      "metadata": {
        "id": "bvs_pv8epONK"
      },
      "id": "bvs_pv8epONK"
    },
    {
      "cell_type": "markdown",
      "source": [
        "3. Пусть студент получает незачёт, если оценка за проект **не** выше 8.\n",
        "\n",
        "Здесь нам поможет оператор `not`, который просто меняет значение на противоположное."
      ],
      "metadata": {
        "id": "OtFpvyE1qe6T"
      },
      "id": "OtFpvyE1qe6T"
    },
    {
      "cell_type": "code",
      "source": [
        "print(not True)\n",
        "print(not False)"
      ],
      "metadata": {
        "colab": {
          "base_uri": "https://localhost:8080/"
        },
        "id": "kGQ-ys2XrQxt",
        "outputId": "e9a50aa8-cbb2-4b46-ba8d-166e7cb2da1d"
      },
      "id": "kGQ-ys2XrQxt",
      "execution_count": null,
      "outputs": [
        {
          "output_type": "stream",
          "name": "stdout",
          "text": [
            "False\n",
            "True\n"
          ]
        }
      ]
    },
    {
      "cell_type": "code",
      "source": [
        "print(not(project > 8)) # а как можно написать то же самое выражение без not?"
      ],
      "metadata": {
        "colab": {
          "base_uri": "https://localhost:8080/"
        },
        "id": "-HBpQc6hrbol",
        "outputId": "3666f49f-f1dc-49b4-acbe-616552a7c556"
      },
      "id": "-HBpQc6hrbol",
      "execution_count": null,
      "outputs": [
        {
          "output_type": "stream",
          "name": "stdout",
          "text": [
            "True\n"
          ]
        }
      ]
    },
    {
      "cell_type": "markdown",
      "metadata": {
        "id": "4990174f"
      },
      "source": [
        "## Условные конструкции <a name=\"par9\"></a>"
      ],
      "id": "4990174f"
    },
    {
      "cell_type": "markdown",
      "metadata": {
        "id": "vQpV7AjKsmkJ"
      },
      "source": [
        "![d3ec28df8b1bf4e2a8b30623685c212f_.png](data:image/png;base64,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)"
      ],
      "id": "vQpV7AjKsmkJ"
    },
    {
      "cell_type": "markdown",
      "metadata": {
        "id": "c89e3989"
      },
      "source": [
        "Условные конструкции — конструкции с операторами условия. Условная конструкция обычно предполагает «развилку»: если условие выполняется, то должен выполняться один набор действий, если нет — другой набор действий. Именно в таких конструкциях чаще всего применяются логические выражения.\n",
        "\n",
        "В этом контексте вам нужно запомнить три ключевых слова: `if`, `else`, `elif`.\n",
        "\n",
        "В ситуациях, когда у вас только две возможные развилки, вы будете использовать только `if` и `else`. Представим, что мы пишем программу которая будет на основании введенной оценки сообщать студенту, пойдет он на пересдачу по предмету или нет."
      ],
      "id": "c89e3989"
    },
    {
      "cell_type": "code",
      "execution_count": null,
      "metadata": {
        "id": "9f56f7ab",
        "outputId": "9b9a036d-3be5-48bd-e0fb-85481df61eb7"
      },
      "outputs": [
        {
          "name": "stdout",
          "output_type": "stream",
          "text": [
            "5\n",
            "Вы получили удовлетворительную оценку.\n"
          ]
        }
      ],
      "source": [
        "mark = int(input())\n",
        "\n",
        "if mark >= 4: # если оценка больше или равна 4,\n",
        "    print('Вы получили удовлетворительную оценку.') # печатаем эту строку\n",
        "else: # во всех остальных случаях,\n",
        "    print('Вы получили неудовлетворительную оценку. Вам будет назначена пересдача.') # печатай это"
      ],
      "id": "9f56f7ab"
    },
    {
      "cell_type": "markdown",
      "metadata": {
        "id": "6bbda2c7"
      },
      "source": [
        "Но вы также можете использовать ключевое слово `elif`. Оно используется в ситуациях, когда вы хотите использовать несколько условий и усложнить ваш код. Приведем пример:\n",
        "\n",
        "* Если оценка студента за предмет меньше 4, он получает пересдачу по этому предмету и теряет стипендию;\n",
        "* Если оценка за предмет от 4 до 5 включительно, студент не получает пересдачу, но теряет стипендию;\n",
        "* Если оценка 6 и выше, студент не получает пересдачу и сохраняет стипендию.\n",
        "\n",
        "Программа, сообщающая студенту статус наличия пересдачи и сохранения стипендии, может выглядеть следующим образом:"
      ],
      "id": "6bbda2c7"
    },
    {
      "cell_type": "code",
      "execution_count": null,
      "metadata": {
        "id": "e2a0a8d7",
        "outputId": "6078a569-ed3d-4e3b-ab77-a5c5242345e2"
      },
      "outputs": [
        {
          "name": "stdout",
          "output_type": "stream",
          "text": [
            "5\n",
            "Вы не получили пересдачу, но потеряли право получать стипендию.\n"
          ]
        }
      ],
      "source": [
        "mark = int(input()) # вводим значение, преобразуем его в целое число\n",
        "\n",
        "if mark < 4: # если оценка меньше четырех, печатаем следующее:\n",
        "    print('Вы получили пересдачу. Вы потеряли право получать стипендию.')\n",
        "elif mark < 6: # если условие выше не удовлетворено и при этом оценка меньше 6, печатаем следующее:\n",
        "    print('Вы не получили пересдачу, но потеряли право получать стипендию.')\n",
        "else: # во всех остальных случаях, печатаем следующее:\n",
        "    print('Вы не получили пересдачу, и сохранили вашу стипендию.')"
      ],
      "id": "e2a0a8d7"
    },
    {
      "cell_type": "markdown",
      "metadata": {
        "id": "0a105c2e"
      },
      "source": [
        "Вы можете использовать какое угодно число `elif` в своём коде. Продемонстрируем на примере:\n",
        "\n",
        "Напишем программу, которая будет переводить оценку студента из 10-балльной системы в 5-балльную."
      ],
      "id": "0a105c2e"
    },
    {
      "cell_type": "code",
      "execution_count": null,
      "metadata": {
        "id": "66c41e09",
        "outputId": "f45d5e7a-a6c7-4f15-c65a-3bfb1762f4db"
      },
      "outputs": [
        {
          "name": "stdout",
          "output_type": "stream",
          "text": [
            "11\n",
            "Отлично\n"
          ]
        }
      ],
      "source": [
        "mark = int(input())\n",
        "\n",
        "if mark >= 8:                    # если оценка больше или равна 8, то\n",
        "    print('Отлично')             # печатаем \"Отлично\"\n",
        "elif mark >= 6:                  # если оценка больше или равна 6 (но точно меньше 8), то\n",
        "    print('Хорошо')              # печатаем \"Хорошо\"\n",
        "elif mark > 4:                   # если оценка больше или равна 4 (но точно меньше 6), то\n",
        "    print('Удовлетворительно')   # печатаем \"Удовлетворительно\"\n",
        "else:                            # в остальных случаях (то есть оценка меньше 4)\n",
        "    print('Неудовлетворительно') # печатаем \"Неудовлетворительно\""
      ],
      "id": "66c41e09"
    },
    {
      "cell_type": "markdown",
      "metadata": {
        "id": "6d392cc9"
      },
      "source": [
        "Предположим, что сотрудник учебного офиса использовал эту программу и ошибся — поставил 11 вместо 1. Непорядок. Надо исправлять. Давайте добавим дополнительную проверку на ввод числа — чтобы оно было строго от 0 до 10 включительно.    "
      ],
      "id": "6d392cc9"
    },
    {
      "cell_type": "code",
      "execution_count": null,
      "metadata": {
        "id": "5cad7af9",
        "outputId": "f9b515c5-4ce8-4a6c-ab94-51fcb60b6331"
      },
      "outputs": [
        {
          "name": "stdout",
          "output_type": "stream",
          "text": [
            "5\n",
            "Удовлетворительно\n"
          ]
        }
      ],
      "source": [
        "mark = int(input())\n",
        "\n",
        "if (mark >= 0) and (mark <= 10):    # если оценка от 0 до 10, то проходит проверка:\n",
        "    if mark >= 8:                     # если оценка больше или равна 8, то\n",
        "        print('Отлично')              # печатаем \"Отлично\"\n",
        "    elif mark >= 6:                   # если оценка больше или равна 6 (но точно меньше 8), то\n",
        "        print('Хорошо')               # печатаем \"Хорошо\"\n",
        "    elif mark > 4:                    # если оценка больше или равна 4 (но точно меньше 6), то\n",
        "        print('Удовлетворительно')    # печатаем \"Удовлетворительно\"\n",
        "    else:                             # в остальных случаях (то есть оценка меньше 4)\n",
        "        print('Неудовлетворительно')  # печатаем \"Неудовлетворительно\"\n",
        "else:                               # иначе (оценка меньше 0 или больше 10)\n",
        "    print('Ошибка данных')          # печатаем \"Ошибка данных\""
      ],
      "id": "5cad7af9"
    },
    {
      "cell_type": "markdown",
      "metadata": {
        "id": "3ef23f3c"
      },
      "source": [
        "<center><b><font size=4>Задача №5.</font></b></center>\n",
        "\n",
        "Используя логические операторы `if` и `else`, напишите следующую программу:\n",
        "\n",
        "**Иван подается на Повышенную Государственную Академическую Стипендию по достижениям в спортивной сфере. Напишите программу которая покажет, может ли Иван претендовать на получение ПГАС**:\n",
        "* В переменную `session` считывается переменная `True` или `False` которая означает, закрыл ли студент сессию на оценки на \"хорошо\" и выше (`True`) или нет (`False`);\n",
        "* В переменную `diplomas` считывается число полученных Иваном спортивных достижений за последний год.\n",
        "\n",
        "* Если студент закрыл сессию не на оценки выше \"хорошо\", то программа печатает строку `\"Не можете претендовать\"`;\n",
        "\n",
        "* Если студент закрыл сессию на оценки выше \"хорошо\" и имеет 1 и более спортивных достижений за последний год (`diplomas`), то программа печатает строку `\"Можете претендовать\"`. Если достижений за последний год (`diplomas`) нет, то программа печатает `\"Не хватает достижений\"`.\n",
        "\n",
        "Примеры тестов вы можете увидеть в табличке:\n",
        "\n",
        "<center>\n",
        "    <table>\n",
        "        <tr>\n",
        "            <th>session</th>\n",
        "            <th>diplomas</th>\n",
        "            <th>Результат</th>\n",
        "        </tr>\n",
        "        <tr><td>False</td><td>0</td><td>Не можете претендовать</td></tr>\n",
        "        <tr><td>False</td><td>1</td><td>Не можете претендовать</td></tr>\n",
        "        <tr><td>True</td><td>0</td><td>Не хватает достижений</td></tr>\n",
        "        <tr><td>True</td><td>1</td><td>Можете претендовать</td></tr>\n",
        "    </table>\n",
        "</center>"
      ],
      "id": "3ef23f3c"
    },
    {
      "cell_type": "code",
      "execution_count": null,
      "metadata": {
        "id": "8b624af1"
      },
      "outputs": [],
      "source": [
        "# YOUR CODE HERE"
      ],
      "id": "8b624af1"
    },
    {
      "cell_type": "markdown",
      "metadata": {
        "id": "38255708"
      },
      "source": [
        "## Дополнительные материалы <a name=\"parlast\"></a>"
      ],
      "id": "38255708"
    },
    {
      "cell_type": "markdown",
      "metadata": {
        "id": "64d17e80"
      },
      "source": [
        "+ Документация Python [Built-in Types](https://docs.python.org/3/library/stdtypes.html)\n",
        "+ Курс на платформе Stepik «Python: основы и применение» ([ссылка на курс](https://stepik.org/course/512/syllabus))\n",
        "+ Щуров И.В., Тамбовцева А.А., Жучкова С.В. —  курс «Основы программирования в Python» ([ссылка на курс](https://allatambov.github.io/pypolit/pypolit.html))\n",
        "+ М. Лутц. «Изучаем Python 3», Часть II. Типы и операции.\n",
        "+ Как работают числа с плавающей точкой? [YouTube](https://www.youtube.com/watch?v=U0U8Ddx4TgE)\n",
        "+ Jupyter Notebook Markdown [Tutorial](https://www.datacamp.com/tutorial/markdown-in-jupyter-notebook)"
      ],
      "id": "64d17e80"
    }
  ],
  "metadata": {
    "kernelspec": {
      "display_name": "Python 3 (ipykernel)",
      "language": "python",
      "name": "python3"
    },
    "language_info": {
      "codemirror_mode": {
        "name": "ipython",
        "version": 3
      },
      "file_extension": ".py",
      "mimetype": "text/x-python",
      "name": "python",
      "nbconvert_exporter": "python",
      "pygments_lexer": "ipython3",
      "version": "3.11.0"
    },
    "colab": {
      "provenance": [],
      "toc_visible": true
    }
  },
  "nbformat": 4,
  "nbformat_minor": 5
}