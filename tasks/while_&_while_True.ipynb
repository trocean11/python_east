{
  "nbformat": 4,
  "nbformat_minor": 0,
  "metadata": {
    "colab": {
      "provenance": []
    },
    "kernelspec": {
      "name": "python3",
      "display_name": "Python 3"
    },
    "language_info": {
      "name": "python"
    }
  },
  "cells": [
    {
      "cell_type": "markdown",
      "source": [
        "**Задача с консультации**\n",
        "\n",
        "*  Цикл while считывает числа до тех пор, пока не ввели ноль.\n",
        "*  Проверьте, сколько из введенных чисел делятся на три, и выведите их количество.\n",
        "\n"
      ],
      "metadata": {
        "id": "8v1yd7yuHB6R"
      }
    },
    {
      "cell_type": "markdown",
      "source": [
        "**Решение**\n",
        "\n",
        "Сравним два решения: через обычный `while` и через `while True`."
      ],
      "metadata": {
        "id": "SMj1PhiJ38mq"
      }
    },
    {
      "cell_type": "markdown",
      "source": [
        "* `while`"
      ],
      "metadata": {
        "id": "M0WN8P4b4ZO4"
      }
    },
    {
      "cell_type": "code",
      "execution_count": 2,
      "metadata": {
        "colab": {
          "base_uri": "https://localhost:8080/"
        },
        "id": "qrf8_wuzzb9i",
        "outputId": "f53b6e0b-6602-423d-eecd-d02aa7baf82e"
      },
      "outputs": [
        {
          "output_type": "stream",
          "name": "stdout",
          "text": [
            "1\n",
            "5\n",
            "3\n",
            "6\n",
            "0\n",
            "Количество кратных трём чисел:  2\n"
          ]
        }
      ],
      "source": [
        "number = int(input())     # вводим number сразу же, т.к. в условии while он УЖЕ используется;\n",
        "                          # это будет наше первое число\n",
        "\n",
        "count = 0                 # это счётчик, он пока равен 0, но с каждым найденным числом будет увеличиваться на 1\n",
        "\n",
        "while number != 0:        # условие такое: пока number не равен 0, вводим числа\n",
        "    if number % 3 == 0:\n",
        "        count += 1        # увеличиваем счётчик, если число кратно 3\n",
        "\n",
        "    number = int(input()) # вводим number снова, теперь внутри цикла\n",
        "                          # (нам же нужно \"зациклить\" процесс, т.е. ввести несколько чисел);\n",
        "                          # это будут числа со второго и до конца\n",
        "print('Количество кратных трём чисел: ', count)"
      ]
    },
    {
      "cell_type": "markdown",
      "source": [
        "* `while True`"
      ],
      "metadata": {
        "id": "RvGn7ljk4V2J"
      }
    },
    {
      "cell_type": "code",
      "source": [
        "count = 0                 # с счётчиком всё то же самое\n",
        "\n",
        "while True:               # не вводим number до цикла, т.к. в условии while он НЕ используется\n",
        "    number = int(input()) # но вводим number внутри цикла, как и в предыдущем варианте\n",
        "    if number == 0:       # и оттого что в условии while у нас стоит True,\n",
        "        break             # нужно отдельно прописать условие выхода из цикла c break\n",
        "    if number % 3 == 0:\n",
        "        count += 1\n",
        "print('Количество кратных трём чисел: ', count)"
      ],
      "metadata": {
        "colab": {
          "base_uri": "https://localhost:8080/"
        },
        "id": "NkR3S2KIzfLc",
        "outputId": "97f36c0e-a11b-4a3e-8b7d-0aeb29feac12"
      },
      "execution_count": 5,
      "outputs": [
        {
          "output_type": "stream",
          "name": "stdout",
          "text": [
            "1\n",
            "5\n",
            "3\n",
            "6\n",
            "0\n",
            "Количество кратных трём чисел:  2\n"
          ]
        }
      ]
    },
    {
      "cell_type": "markdown",
      "source": [
        "Т.е. мы в любом случае вводим числа **внутри** цикла, т.к. хотим ввести много чисел. Но в случае с обычным `while` мы вводим первое число ещё **до** цикла, чтобы программа запомнила переменную и не ругалась на её использование в условии цикла.\n",
        "\n",
        "Попробуем из решения с обычным `while` убрать первый ввод. Запустится ли тогда программа?"
      ],
      "metadata": {
        "id": "Dhe3cHXmF3Od"
      }
    },
    {
      "cell_type": "code",
      "source": [
        "count = 0\n",
        "\n",
        "while number != 0:\n",
        "    if number % 3 == 0:\n",
        "        count += 1\n",
        "    number = int(input())\n",
        "\n",
        "print('Количество кратных трём чисел: ', count)"
      ],
      "metadata": {
        "colab": {
          "base_uri": "https://localhost:8080/",
          "height": 219
        },
        "id": "SVYjBGaeG3wq",
        "outputId": "ea764b23-c9a2-4855-ae4f-d6b73af22aff"
      },
      "execution_count": 3,
      "outputs": [
        {
          "output_type": "error",
          "ename": "NameError",
          "evalue": "name 'number' is not defined",
          "traceback": [
            "\u001b[0;31m---------------------------------------------------------------------------\u001b[0m",
            "\u001b[0;31mNameError\u001b[0m                                 Traceback (most recent call last)",
            "\u001b[0;32m<ipython-input-3-80e9b10f8509>\u001b[0m in \u001b[0;36m<cell line: 0>\u001b[0;34m()\u001b[0m\n\u001b[1;32m      1\u001b[0m \u001b[0mcount\u001b[0m \u001b[0;34m=\u001b[0m \u001b[0;36m0\u001b[0m\u001b[0;34m\u001b[0m\u001b[0;34m\u001b[0m\u001b[0m\n\u001b[1;32m      2\u001b[0m \u001b[0;34m\u001b[0m\u001b[0m\n\u001b[0;32m----> 3\u001b[0;31m \u001b[0;32mwhile\u001b[0m \u001b[0mnumber\u001b[0m \u001b[0;34m!=\u001b[0m \u001b[0;36m0\u001b[0m\u001b[0;34m:\u001b[0m\u001b[0;34m\u001b[0m\u001b[0;34m\u001b[0m\u001b[0m\n\u001b[0m\u001b[1;32m      4\u001b[0m     \u001b[0;32mif\u001b[0m \u001b[0mnumber\u001b[0m \u001b[0;34m%\u001b[0m \u001b[0;36m3\u001b[0m \u001b[0;34m==\u001b[0m \u001b[0;36m0\u001b[0m\u001b[0;34m:\u001b[0m\u001b[0;34m\u001b[0m\u001b[0;34m\u001b[0m\u001b[0m\n\u001b[1;32m      5\u001b[0m         \u001b[0mcount\u001b[0m \u001b[0;34m+=\u001b[0m \u001b[0;36m1\u001b[0m\u001b[0;34m\u001b[0m\u001b[0;34m\u001b[0m\u001b[0m\n",
            "\u001b[0;31mNameError\u001b[0m: name 'number' is not defined"
          ]
        }
      ]
    },
    {
      "cell_type": "markdown",
      "source": [
        "Также важно, что при использовании `while True` условие `number != 0` не исчезает, а превращается в условие выхода из цикла с `break`:\n",
        "\n",
        "```\n",
        "if number == 0:\n",
        "    break\n",
        "```"
      ],
      "metadata": {
        "id": "aGEWbVXfMkBZ"
      }
    }
  ]
}