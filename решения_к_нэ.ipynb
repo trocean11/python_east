{
  "nbformat": 4,
  "nbformat_minor": 0,
  "metadata": {
    "colab": {
      "provenance": []
    },
    "kernelspec": {
      "name": "python3",
      "display_name": "Python 3"
    },
    "language_info": {
      "name": "python"
    }
  },
  "cells": [
    {
      "cell_type": "markdown",
      "source": [
        "## Решения задач из тренировочного варианта 1"
      ],
      "metadata": {
        "id": "w8XnMl4t5khK"
      }
    },
    {
      "cell_type": "markdown",
      "source": [
        "#### A4"
      ],
      "metadata": {
        "id": "EnHsjaP-5qEX"
      }
    },
    {
      "cell_type": "code",
      "execution_count": null,
      "metadata": {
        "id": "nPSW4MTd32Iq"
      },
      "outputs": [],
      "source": [
        "masha = ['Тирамису', 'Чизкейк', 'Марципан', 'Яблочный пирог']\n",
        "rita = ['Марципан', 'Конфитюр', 'Тирамису', 'Брауни']\n",
        "\n",
        "yes = 'Да, делаем заказ!'\n",
        "no = 'Нет, идем в другое кафе'\n",
        "\n",
        "# ваш код ниже\n",
        "x = input()\n",
        "if x in masha or x in rita:\n",
        "  print(yes)\n",
        "else:\n",
        "  print(no)"
      ]
    },
    {
      "cell_type": "markdown",
      "source": [
        "#### A5"
      ],
      "metadata": {
        "id": "_-v5lfB_5ymG"
      }
    },
    {
      "cell_type": "code",
      "source": [
        "l = []\n",
        "while True:\n",
        "  a = input()\n",
        "  if a == 'КОНЕЦ':\n",
        "    break\n",
        "  name, income = a.split(', ')\n",
        "  if int(income) > 500:\n",
        "    l.append(name)\n",
        "print(sorted(l))"
      ],
      "metadata": {
        "id": "K8CEo3Gg5jv-"
      },
      "execution_count": null,
      "outputs": []
    },
    {
      "cell_type": "markdown",
      "source": [
        "#### A6"
      ],
      "metadata": {
        "id": "RfZgiM0g51c6"
      }
    },
    {
      "cell_type": "markdown",
      "source": [
        "*by Полина Росновская*"
      ],
      "metadata": {
        "id": "d7Zm_bxu6g4P"
      }
    },
    {
      "cell_type": "code",
      "source": [
        "money = 500\n",
        "products = list(input().split(', '))\n",
        "n = []\n",
        "for i in range(len(products)):\n",
        "    products[i] = products[i].split(': ')\n",
        "    n.append(money // int(products[i][1]))\n",
        "print(*n, sep=', ')\n",
        "print(*products[n.index(max(n))], sep=': ')"
      ],
      "metadata": {
        "id": "BV40dUnL53xa"
      },
      "execution_count": null,
      "outputs": []
    },
    {
      "cell_type": "markdown",
      "source": [
        "#### B10"
      ],
      "metadata": {
        "id": "va3XmE-O56Ob"
      }
    },
    {
      "cell_type": "code",
      "execution_count": null,
      "metadata": {
        "id": "WWm_Ai_H56Oc"
      },
      "outputs": [],
      "source": [
        "coffee = set(input().split())\n",
        "tea = set(input().split())\n",
        "age = set(input().split())\n",
        "print(*sorted((coffee ^ tea) - age))"
      ]
    },
    {
      "cell_type": "markdown",
      "source": [
        "#### B11"
      ],
      "metadata": {
        "id": "RvWb27TH56Oc"
      }
    },
    {
      "cell_type": "code",
      "source": [
        "fav_desserts = {\n",
        "    'Ира' : ['Тирамису', 'Марципан', 'Яблочный пирог'],\n",
        "    'Марина' : ['Яблочный пирог', 'Мороженое'],\n",
        "    'Максим' : ['Марципан', 'Брауни', 'Мидальный торт'],\n",
        "    'Карина' : ['Пишмание', 'Брауни', 'Тирамису', 'Марципан'],\n",
        "    'Настя' : ['Лимбургский пирог', 'Тирамису', 'Брауни']\n",
        "}\n",
        "\n",
        "# ваш код ниже\n",
        "dess = input()\n",
        "for k, v in fav_desserts.items():\n",
        "  if dess in v:\n",
        "    print(k)"
      ],
      "metadata": {
        "id": "hfjkupWc56Od"
      },
      "execution_count": null,
      "outputs": []
    },
    {
      "cell_type": "markdown",
      "source": [
        "#### B12"
      ],
      "metadata": {
        "id": "f2EUmlhz56Od"
      }
    },
    {
      "cell_type": "code",
      "source": [
        "def cakes_cal(desserts, calories):\n",
        "  yes = []\n",
        "  for i in range(len(calories)):\n",
        "    if calories[i] <= 100:\n",
        "      yes.append(desserts[i])\n",
        "  return yes"
      ],
      "metadata": {
        "id": "Mijdb4gO56Oe"
      },
      "execution_count": null,
      "outputs": []
    },
    {
      "cell_type": "markdown",
      "source": [
        "#### C13"
      ],
      "metadata": {
        "id": "A5VgT3MR6ApS"
      }
    },
    {
      "cell_type": "code",
      "source": [
        "with open('menu.csv', 'r', encoding='utf-8') as file:\n",
        "  price = int(input())\n",
        "  for line in file:\n",
        "    name, w, p, c = line.split(',')\n",
        "    if int(p) <= price:\n",
        "      print(line.strip())"
      ],
      "metadata": {
        "id": "nGjqfWpG6Ax6"
      },
      "execution_count": null,
      "outputs": []
    },
    {
      "cell_type": "markdown",
      "source": [
        "#### C14"
      ],
      "metadata": {
        "id": "BPEr6-Xg6A5j"
      }
    },
    {
      "cell_type": "code",
      "source": [
        "with open('data.csv', 'r', encoding='utf-8') as file:\n",
        "  d = {}\n",
        "  for line in file:\n",
        "    name, surname, age, inc1, inc2, inc3 = line.split(',')\n",
        "    mean_inc = (int(inc1) + int(inc2) + int(inc3)) / 3\n",
        "    d[(name, surname)] = mean_inc\n",
        "  max_inc = 0\n",
        "  person = ''\n",
        "  for k, v in d.items():\n",
        "    if v > max_inc:\n",
        "      max_inc = v\n",
        "      person = ' '.join(k)\n",
        "  print(person)"
      ],
      "metadata": {
        "id": "G7pcLuHH6BBW"
      },
      "execution_count": null,
      "outputs": []
    }
  ]
}