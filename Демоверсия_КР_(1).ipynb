{
  "nbformat": 4,
  "nbformat_minor": 0,
  "metadata": {
    "colab": {
      "provenance": []
    },
    "kernelspec": {
      "name": "python3",
      "display_name": "Python 3"
    },
    "language_info": {
      "name": "python"
    }
  },
  "cells": [
    {
      "cell_type": "markdown",
      "source": [
        "### Задача 1"
      ],
      "metadata": {
        "id": "Z3gDgdb9YPhR"
      }
    },
    {
      "cell_type": "code",
      "execution_count": null,
      "metadata": {
        "id": "jo_SK02y9I35"
      },
      "outputs": [],
      "source": [
        "cities = ['Москва', 'Пермь', 'Краснодар', 'Калининград', 'Якутск']\n",
        "\n",
        "shipment = 'Готовьте к отгрузке'\n",
        "multiple_packages = 'Разделите на несколько посылок'\n",
        "other_company = 'Обратитесь в другую компанию'\n",
        "\n",
        "# ваш код ниже\n",
        "city = input()\n",
        "weight = int(input())\n",
        "if city in cities:\n",
        "    if weight <= 1000:\n",
        "        print(shipment)\n",
        "    else:\n",
        "        print(multiple_packages)\n",
        "else:\n",
        "    print(other_company)"
      ]
    },
    {
      "cell_type": "markdown",
      "source": [
        "### Задача 2"
      ],
      "metadata": {
        "id": "A6flBLSPYQon"
      }
    },
    {
      "cell_type": "code",
      "source": [
        "list_of_goods = []\n",
        "while True:\n",
        "    s = input()       # вводим без сплита, на случай, если первой же строчкой окажется END\n",
        "    if s == 'END':    # проверяем, не END ли наша строчка\n",
        "        break\n",
        "    else:\n",
        "        good, cost = s.split(':')  # теперь сплитим\n",
        "        if int(cost) <= 500:\n",
        "            list_of_goods.append(good)\n",
        "print(list_of_goods)"
      ],
      "metadata": {
        "id": "CmFC5dWYI4Xn"
      },
      "execution_count": null,
      "outputs": []
    },
    {
      "cell_type": "markdown",
      "source": [
        "### Задача 3"
      ],
      "metadata": {
        "id": "O6wUUhP7YYbR"
      }
    },
    {
      "cell_type": "code",
      "source": [
        "list_of_people = input().split(', ')\n",
        "person = input()\n",
        "if person not in list_of_people:\n",
        "    list_of_people.append(person)\n",
        "print(list_of_people)"
      ],
      "metadata": {
        "id": "5XnwPirzIy6l"
      },
      "execution_count": null,
      "outputs": []
    },
    {
      "cell_type": "markdown",
      "source": [
        "### Задача 4"
      ],
      "metadata": {
        "id": "cdXezNe4Yamo"
      }
    },
    {
      "cell_type": "code",
      "source": [
        "companies = input().split()\n",
        "days = list(map(int, input().split()))\n",
        "day = int(input())\n",
        "for i in range(len(days)):\n",
        "    if days[i] > day:\n",
        "        print(companies[i])"
      ],
      "metadata": {
        "id": "e4iIJ0arIt_k"
      },
      "execution_count": null,
      "outputs": []
    },
    {
      "cell_type": "markdown",
      "source": [
        "### Задача 5"
      ],
      "metadata": {
        "id": "DYYa7oOsYdOd"
      }
    },
    {
      "cell_type": "code",
      "source": [
        "A = input().split()\n",
        "B = input().split()\n",
        "print(len(set(A) & set(B)))"
      ],
      "metadata": {
        "id": "OfivrkqNIoZU"
      },
      "execution_count": null,
      "outputs": []
    },
    {
      "cell_type": "markdown",
      "source": [
        "### Задача 6"
      ],
      "metadata": {
        "id": "4ld56kkJYeAs"
      }
    },
    {
      "cell_type": "code",
      "source": [
        "lect_books = set(input().split(','))\n",
        "higher_courses_books = set(input().split(','))\n",
        "library_books = set(input().split(','))\n",
        "print(len((lect_books | higher_courses_books) & library_books))"
      ],
      "metadata": {
        "id": "gcc8xl4a9KhZ"
      },
      "execution_count": null,
      "outputs": []
    },
    {
      "cell_type": "markdown",
      "source": [
        "### Задача 7"
      ],
      "metadata": {
        "id": "lNWNWNR5Ye91"
      }
    },
    {
      "cell_type": "code",
      "source": [
        "rulers = {'Ленин' : 'СССР', 'Брежнев' : 'СССР',\n",
        "          'Сёва' : 'Япония', 'Хэйсэй' : 'Япония',\n",
        "          'Мэйдзи': 'Япония', 'Пу И' : 'Китай',\n",
        "          'Гуансюй' : 'Китай', 'Умберто II' : 'Италия'}\n",
        "\n",
        "# ваш код ниже\n",
        "\n",
        "country = input()\n",
        "for k, v in rulers.items():\n",
        "    if v == country:\n",
        "        print(k)"
      ],
      "metadata": {
        "id": "2y1N-VZnMgey"
      },
      "execution_count": null,
      "outputs": []
    },
    {
      "cell_type": "markdown",
      "source": [
        "### Задача 8"
      ],
      "metadata": {
        "id": "jRTaGaH4Ygdx"
      }
    },
    {
      "cell_type": "code",
      "source": [
        "shops = {'Монеточка': [6000, 4000, 2300],\n",
        "         'Дорожный': [6700, 4000, 2100],\n",
        "         'Букварь вкусов' : [10000, 8000, 6000],\n",
        "         'СладкоВилл' : [5000, 9000, 4000]}\n",
        "\n",
        "# ваш код ниже\n",
        "income = int(input())\n",
        "for k, v in shops.items(): # сначала проходимся по словарю\n",
        "    for v_for_month in v:  # потом по каждому списку\n",
        "        if v_for_month < income:\n",
        "            print(k)       # когда находим слишком маленькую прибыль, выводим название магазина\n",
        "            break          # и переходим к следующему"
      ],
      "metadata": {
        "id": "gn-IAkbeQd0B"
      },
      "execution_count": null,
      "outputs": []
    },
    {
      "cell_type": "markdown",
      "source": [
        "### Задача 9"
      ],
      "metadata": {
        "id": "4_ny9ReTYhVa"
      }
    },
    {
      "cell_type": "markdown",
      "source": [
        "Вариант 1"
      ],
      "metadata": {
        "id": "w1IDbiW3ViDv"
      }
    },
    {
      "cell_type": "code",
      "source": [
        "years = list(map(int, input().split()))\n",
        "century = int(input())\n",
        "count = 0\n",
        "for year in years:\n",
        "    if (year - 1) // 100 == century - 1: # можно проверить, что век из года получается именно так\n",
        "        count += 1\n",
        "print(count)"
      ],
      "metadata": {
        "id": "wdu4_SoeTYoi"
      },
      "execution_count": null,
      "outputs": []
    },
    {
      "cell_type": "markdown",
      "source": [
        "Вариант 2"
      ],
      "metadata": {
        "id": "EmTiGYXdVmlJ"
      }
    },
    {
      "cell_type": "code",
      "source": [
        "years = list(map(int, input().split()))\n",
        "century = int(input())\n",
        "count = 0\n",
        "for year in years:\n",
        "    if (year + 99) // 100 == century: # или так\n",
        "        count += 1\n",
        "print(count)"
      ],
      "metadata": {
        "id": "0MQknckFVmlK"
      },
      "execution_count": null,
      "outputs": []
    },
    {
      "cell_type": "markdown",
      "source": [
        "Вариант 3"
      ],
      "metadata": {
        "id": "qpFVAWKmVmwI"
      }
    },
    {
      "cell_type": "code",
      "source": [
        "years = list(map(int, input().split()))\n",
        "century = int(input())\n",
        "count = 0\n",
        "for year in years:\n",
        "    if year // 100 + 1 == century:\n",
        "        count += 1\n",
        "    elif year // 100 == century and year % 100 == 0: # можно отдельным условием проверять года формата 'XX00'\n",
        "        count += 1\n",
        "print(count)"
      ],
      "metadata": {
        "id": "aliWkVwPVmwI"
      },
      "execution_count": null,
      "outputs": []
    },
    {
      "cell_type": "markdown",
      "source": [
        "Вариант 4"
      ],
      "metadata": {
        "id": "ZCUjyJRkVm4A"
      }
    },
    {
      "cell_type": "code",
      "source": [
        "years = input().split()   # можно проверить через индексы, тогда years сначала оставляем строками\n",
        "century = int(input())\n",
        "count = 0\n",
        "for year in years:\n",
        "    if int(year) // 100 + 1 == century:                 # а потом в нужных местах переводим в int\n",
        "        count += 1\n",
        "    elif int(year) // 100 == century and year[-2:] == '00':\n",
        "        count += 1\n",
        "print(count)"
      ],
      "metadata": {
        "id": "LzVO9o9XVm4B"
      },
      "execution_count": null,
      "outputs": []
    },
    {
      "cell_type": "markdown",
      "source": [
        "### Задача 10"
      ],
      "metadata": {
        "id": "dtAK6Cz6YjEz"
      }
    },
    {
      "cell_type": "code",
      "source": [
        "d1 = {}\n",
        "while True:\n",
        "    s = input() # вводим без сплита, на случай, если первой же строчкой окажется END\n",
        "    if s == 'END': # проверяем, не END ли наша строчка\n",
        "        break\n",
        "    s0, s1 = s.split(',') # теперь сплитим\n",
        "    if s0 not in d1:\n",
        "      d1[s0] = int(s1)    # если нет товара, добавляем\n",
        "    else:\n",
        "      d1[s0] += int(s1)   # если есть, суммируем стоимость\n",
        "\n",
        "for k, v in d1.items():       # теперь по всему получившемуся словарю ищем максимум\n",
        "    if v == max(d1.values()):\n",
        "        print(k, v)"
      ],
      "metadata": {
        "id": "aPHXGyJUToTT"
      },
      "execution_count": null,
      "outputs": []
    }
  ]
}